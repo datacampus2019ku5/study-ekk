{
 "cells": [
  {
   "cell_type": "markdown",
   "metadata": {},
   "source": [
    "## 파이썬 함수는 객체다.\n",
    "# First Class Function"
   ]
  },
  {
   "cell_type": "code",
   "execution_count": 1,
   "metadata": {},
   "outputs": [],
   "source": [
    "#예전 컴퓨터: 0과1, 값처럼 사용\n",
    "#파이썬에서는 값을 객체로 표현. -> 함수를 값처럼 사용 가능.\n",
    "# => 이름정할때 조심해라."
   ]
  },
  {
   "cell_type": "code",
   "execution_count": 2,
   "metadata": {},
   "outputs": [],
   "source": [
    "a= print"
   ]
  },
  {
   "cell_type": "code",
   "execution_count": 4,
   "metadata": {},
   "outputs": [
    {
     "name": "stdout",
     "output_type": "stream",
     "text": [
      "고윤하\n"
     ]
    }
   ],
   "source": [
    "a('고윤하')"
   ]
  },
  {
   "cell_type": "code",
   "execution_count": 5,
   "metadata": {},
   "outputs": [
    {
     "data": {
      "text/plain": [
       "'print'"
      ]
     },
     "execution_count": 5,
     "metadata": {},
     "output_type": "execute_result"
    }
   ],
   "source": [
    "#실제 이름은 print지만 이름을 a로 바꿔서 쓸 수 있다.\n",
    "a.__name__"
   ]
  },
  {
   "cell_type": "code",
   "execution_count": 6,
   "metadata": {},
   "outputs": [],
   "source": [
    "sum = 0"
   ]
  },
  {
   "cell_type": "code",
   "execution_count": 8,
   "metadata": {},
   "outputs": [],
   "source": [
    "#얇은 초록색: 함수, 두꺼운 초록색: keyword"
   ]
  },
  {
   "cell_type": "code",
   "execution_count": 9,
   "metadata": {},
   "outputs": [
    {
     "data": {
      "text/plain": [
       "1"
      ]
     },
     "execution_count": 9,
     "metadata": {},
     "output_type": "execute_result"
    }
   ],
   "source": [
    "sum+1"
   ]
  },
  {
   "cell_type": "code",
   "execution_count": 10,
   "metadata": {},
   "outputs": [],
   "source": [
    "del sum #내가 덮었던 건 사라지고, 본래 기능은 살아남."
   ]
  },
  {
   "cell_type": "code",
   "execution_count": 11,
   "metadata": {},
   "outputs": [
    {
     "ename": "TypeError",
     "evalue": "unsupported operand type(s) for +: 'builtin_function_or_method' and 'int'",
     "output_type": "error",
     "traceback": [
      "\u001b[1;31m---------------------------------------------------------------------------\u001b[0m",
      "\u001b[1;31mTypeError\u001b[0m                                 Traceback (most recent call last)",
      "\u001b[1;32m<ipython-input-11-dcf3c215dd1f>\u001b[0m in \u001b[0;36m<module>\u001b[1;34m\u001b[0m\n\u001b[1;32m----> 1\u001b[1;33m \u001b[0msum\u001b[0m\u001b[1;33m+\u001b[0m\u001b[1;36m1\u001b[0m\u001b[1;33m\u001b[0m\u001b[1;33m\u001b[0m\u001b[0m\n\u001b[0m",
      "\u001b[1;31mTypeError\u001b[0m: unsupported operand type(s) for +: 'builtin_function_or_method' and 'int'"
     ]
    }
   ],
   "source": [
    "sum+1"
   ]
  },
  {
   "cell_type": "code",
   "execution_count": 12,
   "metadata": {},
   "outputs": [
    {
     "data": {
      "text/plain": [
       "5050"
      ]
     },
     "execution_count": 12,
     "metadata": {},
     "output_type": "execute_result"
    }
   ],
   "source": [
    "#주의해야 할 것\n",
    "sum = 0\n",
    "for i in range(1,101):\n",
    "    sum+=i\n",
    "sum"
   ]
  },
  {
   "cell_type": "code",
   "execution_count": 13,
   "metadata": {},
   "outputs": [],
   "source": [
    "del sum"
   ]
  },
  {
   "cell_type": "code",
   "execution_count": 15,
   "metadata": {},
   "outputs": [
    {
     "data": {
      "text/plain": [
       "'2'"
      ]
     },
     "execution_count": 15,
     "metadata": {},
     "output_type": "execute_result"
    }
   ],
   "source": [
    "a=[str, int, float]\n",
    "a[0](2)"
   ]
  },
  {
   "cell_type": "code",
   "execution_count": 16,
   "metadata": {},
   "outputs": [
    {
     "name": "stdout",
     "output_type": "stream",
     "text": [
      "\n",
      "None\n"
     ]
    }
   ],
   "source": [
    "def a(x):\n",
    "    print(x())\n",
    "a(print)        #anti pattern"
   ]
  },
  {
   "cell_type": "code",
   "execution_count": 17,
   "metadata": {},
   "outputs": [],
   "source": [
    "#closer, decorator를 위한 응용예시.\n",
    "#파이썬은 함수안에 함수를 넣을 수 있다. => Nasted Function"
   ]
  },
  {
   "cell_type": "code",
   "execution_count": 19,
   "metadata": {},
   "outputs": [
    {
     "name": "stdout",
     "output_type": "stream",
     "text": [
      "1\n"
     ]
    }
   ],
   "source": [
    "x=1\n",
    "def y():\n",
    "    print(x)\n",
    "y()"
   ]
  },
  {
   "cell_type": "code",
   "execution_count": 20,
   "metadata": {},
   "outputs": [
    {
     "name": "stdout",
     "output_type": "stream",
     "text": [
      "2\n"
     ]
    }
   ],
   "source": [
    "def y():\n",
    "    x=2\n",
    "    print(x)\n",
    "y()"
   ]
  },
  {
   "cell_type": "code",
   "execution_count": 21,
   "metadata": {},
   "outputs": [],
   "source": [
    "#변수를 찾는 순서: \n",
    "#LEGB rule => Local(해당 함수 안) -> Enclose(함수를 싸고 있는 함수) -> Global(함수 밖의 영역) -> Builtin(있는지 없는지 계속 찾아본다)"
   ]
  },
  {
   "cell_type": "code",
   "execution_count": 24,
   "metadata": {},
   "outputs": [
    {
     "ename": "UnboundLocalError",
     "evalue": "local variable 'x' referenced before assignment",
     "output_type": "error",
     "traceback": [
      "\u001b[1;31m---------------------------------------------------------------------------\u001b[0m",
      "\u001b[1;31mUnboundLocalError\u001b[0m                         Traceback (most recent call last)",
      "\u001b[1;32m<ipython-input-24-3c8dc1e51a86>\u001b[0m in \u001b[0;36m<module>\u001b[1;34m\u001b[0m\n\u001b[0;32m      2\u001b[0m     \u001b[0mx\u001b[0m \u001b[1;33m=\u001b[0m \u001b[0mx\u001b[0m\u001b[1;33m+\u001b[0m\u001b[1;36m1\u001b[0m\u001b[1;33m\u001b[0m\u001b[1;33m\u001b[0m\u001b[0m\n\u001b[0;32m      3\u001b[0m     \u001b[0mprint\u001b[0m\u001b[1;33m(\u001b[0m\u001b[0mx\u001b[0m\u001b[1;33m)\u001b[0m\u001b[1;33m\u001b[0m\u001b[1;33m\u001b[0m\u001b[0m\n\u001b[1;32m----> 4\u001b[1;33m \u001b[0my\u001b[0m\u001b[1;33m(\u001b[0m\u001b[1;33m)\u001b[0m\u001b[1;33m\u001b[0m\u001b[1;33m\u001b[0m\u001b[0m\n\u001b[0m",
      "\u001b[1;32m<ipython-input-24-3c8dc1e51a86>\u001b[0m in \u001b[0;36my\u001b[1;34m()\u001b[0m\n\u001b[0;32m      1\u001b[0m \u001b[1;32mdef\u001b[0m \u001b[0my\u001b[0m\u001b[1;33m(\u001b[0m\u001b[1;33m)\u001b[0m\u001b[1;33m:\u001b[0m\u001b[1;33m\u001b[0m\u001b[1;33m\u001b[0m\u001b[0m\n\u001b[1;32m----> 2\u001b[1;33m     \u001b[0mx\u001b[0m \u001b[1;33m=\u001b[0m \u001b[0mx\u001b[0m\u001b[1;33m+\u001b[0m\u001b[1;36m1\u001b[0m\u001b[1;33m\u001b[0m\u001b[1;33m\u001b[0m\u001b[0m\n\u001b[0m\u001b[0;32m      3\u001b[0m     \u001b[0mprint\u001b[0m\u001b[1;33m(\u001b[0m\u001b[0mx\u001b[0m\u001b[1;33m)\u001b[0m\u001b[1;33m\u001b[0m\u001b[1;33m\u001b[0m\u001b[0m\n\u001b[0;32m      4\u001b[0m \u001b[0my\u001b[0m\u001b[1;33m(\u001b[0m\u001b[1;33m)\u001b[0m\u001b[1;33m\u001b[0m\u001b[1;33m\u001b[0m\u001b[0m\n",
      "\u001b[1;31mUnboundLocalError\u001b[0m: local variable 'x' referenced before assignment"
     ]
    }
   ],
   "source": [
    "def y():\n",
    "    x = x+1       #접근은 할 수 있지만, 변경은 할 수 없다.(local이 아니면.)\n",
    "    print(x)\n",
    "y()"
   ]
  },
  {
   "cell_type": "code",
   "execution_count": 25,
   "metadata": {},
   "outputs": [
    {
     "name": "stdout",
     "output_type": "stream",
     "text": [
      "2\n"
     ]
    }
   ],
   "source": [
    "x=1\n",
    "def y():\n",
    "    global x    #바깥의 x와 sync\n",
    "    x = x+1     \n",
    "    print(x)\n",
    "y()"
   ]
  },
  {
   "cell_type": "code",
   "execution_count": 26,
   "metadata": {},
   "outputs": [
    {
     "name": "stdout",
     "output_type": "stream",
     "text": [
      "3\n"
     ]
    }
   ],
   "source": [
    "y()"
   ]
  },
  {
   "cell_type": "code",
   "execution_count": 27,
   "metadata": {},
   "outputs": [],
   "source": [
    "#Python에서는 함수 내부에서 함수 바깥의 것 (원칙적으론) 바꿀수 없다.\n",
    "#단, Global을 선언하면 sync가 되어 바꿀 수 있게 된다."
   ]
  },
  {
   "cell_type": "code",
   "execution_count": 28,
   "metadata": {},
   "outputs": [
    {
     "name": "stdout",
     "output_type": "stream",
     "text": [
      "> <ipython-input-28-4d4b80d94b1b>(5)y()\n",
      "-> x=x+1\n",
      "(Pdb) h\n",
      "\n",
      "Documented commands (type help <topic>):\n",
      "========================================\n",
      "EOF    c          d        h         list      q        rv       undisplay\n",
      "a      cl         debug    help      ll        quit     s        unt      \n",
      "alias  clear      disable  ignore    longlist  r        source   until    \n",
      "args   commands   display  interact  n         restart  step     up       \n",
      "b      condition  down     j         next      return   tbreak   w        \n",
      "break  cont       enable   jump      p         retval   u        whatis   \n",
      "bt     continue   exit     l         pp        run      unalias  where    \n",
      "\n",
      "Miscellaneous help topics:\n",
      "==========================\n",
      "exec  pdb\n",
      "\n",
      "(Pdb) c\n"
     ]
    },
    {
     "ename": "UnboundLocalError",
     "evalue": "local variable 'x' referenced before assignment",
     "output_type": "error",
     "traceback": [
      "\u001b[1;31m---------------------------------------------------------------------------\u001b[0m",
      "\u001b[1;31mUnboundLocalError\u001b[0m                         Traceback (most recent call last)",
      "\u001b[1;32m<ipython-input-28-4d4b80d94b1b>\u001b[0m in \u001b[0;36m<module>\u001b[1;34m\u001b[0m\n\u001b[0;32m      6\u001b[0m     \u001b[0mprint\u001b[0m\u001b[1;33m(\u001b[0m\u001b[0mx\u001b[0m\u001b[1;33m)\u001b[0m\u001b[1;33m\u001b[0m\u001b[1;33m\u001b[0m\u001b[0m\n\u001b[0;32m      7\u001b[0m \u001b[1;33m\u001b[0m\u001b[0m\n\u001b[1;32m----> 8\u001b[1;33m \u001b[0my\u001b[0m\u001b[1;33m(\u001b[0m\u001b[1;33m)\u001b[0m\u001b[1;33m\u001b[0m\u001b[1;33m\u001b[0m\u001b[0m\n\u001b[0m",
      "\u001b[1;32m<ipython-input-28-4d4b80d94b1b>\u001b[0m in \u001b[0;36my\u001b[1;34m()\u001b[0m\n\u001b[0;32m      3\u001b[0m \u001b[1;32mdef\u001b[0m \u001b[0my\u001b[0m\u001b[1;33m(\u001b[0m\u001b[1;33m)\u001b[0m\u001b[1;33m:\u001b[0m\u001b[1;33m\u001b[0m\u001b[1;33m\u001b[0m\u001b[0m\n\u001b[0;32m      4\u001b[0m     \u001b[1;32mimport\u001b[0m \u001b[0mpdb\u001b[0m\u001b[1;33m;\u001b[0m \u001b[0mpdb\u001b[0m\u001b[1;33m.\u001b[0m\u001b[0mset_trace\u001b[0m\u001b[1;33m(\u001b[0m\u001b[1;33m)\u001b[0m\u001b[1;33m\u001b[0m\u001b[1;33m\u001b[0m\u001b[0m\n\u001b[1;32m----> 5\u001b[1;33m     \u001b[0mx\u001b[0m\u001b[1;33m=\u001b[0m\u001b[0mx\u001b[0m\u001b[1;33m+\u001b[0m\u001b[1;36m1\u001b[0m\u001b[1;33m\u001b[0m\u001b[1;33m\u001b[0m\u001b[0m\n\u001b[0m\u001b[0;32m      6\u001b[0m     \u001b[0mprint\u001b[0m\u001b[1;33m(\u001b[0m\u001b[0mx\u001b[0m\u001b[1;33m)\u001b[0m\u001b[1;33m\u001b[0m\u001b[1;33m\u001b[0m\u001b[0m\n\u001b[0;32m      7\u001b[0m \u001b[1;33m\u001b[0m\u001b[0m\n",
      "\u001b[1;31mUnboundLocalError\u001b[0m: local variable 'x' referenced before assignment"
     ]
    }
   ],
   "source": [
    "#Python에는 기본적으로 디버깅을 해주는 패키지가 있다.\n",
    "x=1\n",
    "def y():\n",
    "    import pdb; pdb.set_trace()\n",
    "    x=x+1\n",
    "    print(x)\n",
    "    \n",
    "y()"
   ]
  },
  {
   "cell_type": "code",
   "execution_count": 29,
   "metadata": {},
   "outputs": [
    {
     "name": "stdout",
     "output_type": "stream",
     "text": [
      "> <ipython-input-29-4d4b80d94b1b>(5)y()\n",
      "-> x=x+1\n",
      "(Pdb) p x\n",
      "1\n",
      "(Pdb) l\n",
      "  1  \t#Python에는 기본적으로 디버깅을 해주는 패키지가 있다.\n",
      "  2  \tx=1\n",
      "  3  \tdef y():\n",
      "  4  \t    import pdb; pdb.set_trace()\n",
      "  5  ->\t    x=x+1\n",
      "  6  \t    print(x)\n",
      "  7  \t\n",
      "  8  \ty()\n",
      "[EOF]\n",
      "(Pdb) c\n"
     ]
    },
    {
     "ename": "UnboundLocalError",
     "evalue": "local variable 'x' referenced before assignment",
     "output_type": "error",
     "traceback": [
      "\u001b[1;31m---------------------------------------------------------------------------\u001b[0m",
      "\u001b[1;31mUnboundLocalError\u001b[0m                         Traceback (most recent call last)",
      "\u001b[1;32m<ipython-input-29-4d4b80d94b1b>\u001b[0m in \u001b[0;36m<module>\u001b[1;34m\u001b[0m\n\u001b[0;32m      6\u001b[0m     \u001b[0mprint\u001b[0m\u001b[1;33m(\u001b[0m\u001b[0mx\u001b[0m\u001b[1;33m)\u001b[0m\u001b[1;33m\u001b[0m\u001b[1;33m\u001b[0m\u001b[0m\n\u001b[0;32m      7\u001b[0m \u001b[1;33m\u001b[0m\u001b[0m\n\u001b[1;32m----> 8\u001b[1;33m \u001b[0my\u001b[0m\u001b[1;33m(\u001b[0m\u001b[1;33m)\u001b[0m\u001b[1;33m\u001b[0m\u001b[1;33m\u001b[0m\u001b[0m\n\u001b[0m",
      "\u001b[1;32m<ipython-input-29-4d4b80d94b1b>\u001b[0m in \u001b[0;36my\u001b[1;34m()\u001b[0m\n\u001b[0;32m      3\u001b[0m \u001b[1;32mdef\u001b[0m \u001b[0my\u001b[0m\u001b[1;33m(\u001b[0m\u001b[1;33m)\u001b[0m\u001b[1;33m:\u001b[0m\u001b[1;33m\u001b[0m\u001b[1;33m\u001b[0m\u001b[0m\n\u001b[0;32m      4\u001b[0m     \u001b[1;32mimport\u001b[0m \u001b[0mpdb\u001b[0m\u001b[1;33m;\u001b[0m \u001b[0mpdb\u001b[0m\u001b[1;33m.\u001b[0m\u001b[0mset_trace\u001b[0m\u001b[1;33m(\u001b[0m\u001b[1;33m)\u001b[0m\u001b[1;33m\u001b[0m\u001b[1;33m\u001b[0m\u001b[0m\n\u001b[1;32m----> 5\u001b[1;33m     \u001b[0mx\u001b[0m\u001b[1;33m=\u001b[0m\u001b[0mx\u001b[0m\u001b[1;33m+\u001b[0m\u001b[1;36m1\u001b[0m\u001b[1;33m\u001b[0m\u001b[1;33m\u001b[0m\u001b[0m\n\u001b[0m\u001b[0;32m      6\u001b[0m     \u001b[0mprint\u001b[0m\u001b[1;33m(\u001b[0m\u001b[0mx\u001b[0m\u001b[1;33m)\u001b[0m\u001b[1;33m\u001b[0m\u001b[1;33m\u001b[0m\u001b[0m\n\u001b[0;32m      7\u001b[0m \u001b[1;33m\u001b[0m\u001b[0m\n",
      "\u001b[1;31mUnboundLocalError\u001b[0m: local variable 'x' referenced before assignment"
     ]
    }
   ],
   "source": [
    "#Python에는 기본적으로 디버깅을 해주는 패키지가 있다.\n",
    "x=1\n",
    "def y():\n",
    "    import pdb; pdb.set_trace()\n",
    "    x=x+1\n",
    "    print(x)\n",
    "    \n",
    "y()"
   ]
  },
  {
   "cell_type": "code",
   "execution_count": 30,
   "metadata": {},
   "outputs": [],
   "source": [
    "# p x : print x\n",
    "# l : 소스코드 보기\n",
    "\n",
    "# c : continue\n",
    "# h : 도움말\n",
    "# p : print"
   ]
  },
  {
   "cell_type": "code",
   "execution_count": 31,
   "metadata": {},
   "outputs": [],
   "source": [
    "x=1"
   ]
  },
  {
   "cell_type": "code",
   "execution_count": 33,
   "metadata": {},
   "outputs": [
    {
     "name": "stdout",
     "output_type": "stream",
     "text": [
      "> <ipython-input-33-580264c1837c>(3)y()\n",
      "-> x=x+1\n",
      "(Pdb) x\n",
      "1\n",
      "(Pdb) c\n"
     ]
    },
    {
     "ename": "UnboundLocalError",
     "evalue": "local variable 'x' referenced before assignment",
     "output_type": "error",
     "traceback": [
      "\u001b[1;31m---------------------------------------------------------------------------\u001b[0m",
      "\u001b[1;31mUnboundLocalError\u001b[0m                         Traceback (most recent call last)",
      "\u001b[1;32m<ipython-input-33-580264c1837c>\u001b[0m in \u001b[0;36m<module>\u001b[1;34m\u001b[0m\n\u001b[0;32m      4\u001b[0m     \u001b[0mprint\u001b[0m\u001b[1;33m(\u001b[0m\u001b[0mx\u001b[0m\u001b[1;33m)\u001b[0m\u001b[1;33m\u001b[0m\u001b[1;33m\u001b[0m\u001b[0m\n\u001b[0;32m      5\u001b[0m \u001b[1;33m\u001b[0m\u001b[0m\n\u001b[1;32m----> 6\u001b[1;33m \u001b[0my\u001b[0m\u001b[1;33m(\u001b[0m\u001b[1;33m)\u001b[0m\u001b[1;33m\u001b[0m\u001b[1;33m\u001b[0m\u001b[0m\n\u001b[0m",
      "\u001b[1;32m<ipython-input-33-580264c1837c>\u001b[0m in \u001b[0;36my\u001b[1;34m()\u001b[0m\n\u001b[0;32m      1\u001b[0m \u001b[1;32mdef\u001b[0m \u001b[0my\u001b[0m\u001b[1;33m(\u001b[0m\u001b[1;33m)\u001b[0m\u001b[1;33m:\u001b[0m\u001b[1;33m\u001b[0m\u001b[1;33m\u001b[0m\u001b[0m\n\u001b[0;32m      2\u001b[0m     \u001b[0mbreakpoint\u001b[0m\u001b[1;33m(\u001b[0m\u001b[1;33m)\u001b[0m \u001b[1;31m#멈춤점: 이 부분에서 살펴볼수 있다★★★\u001b[0m\u001b[1;33m\u001b[0m\u001b[1;33m\u001b[0m\u001b[0m\n\u001b[1;32m----> 3\u001b[1;33m     \u001b[0mx\u001b[0m\u001b[1;33m=\u001b[0m\u001b[0mx\u001b[0m\u001b[1;33m+\u001b[0m\u001b[1;36m1\u001b[0m\u001b[1;33m\u001b[0m\u001b[1;33m\u001b[0m\u001b[0m\n\u001b[0m\u001b[0;32m      4\u001b[0m     \u001b[0mprint\u001b[0m\u001b[1;33m(\u001b[0m\u001b[0mx\u001b[0m\u001b[1;33m)\u001b[0m\u001b[1;33m\u001b[0m\u001b[1;33m\u001b[0m\u001b[0m\n\u001b[0;32m      5\u001b[0m \u001b[1;33m\u001b[0m\u001b[0m\n",
      "\u001b[1;31mUnboundLocalError\u001b[0m: local variable 'x' referenced before assignment"
     ]
    }
   ],
   "source": [
    "def y():\n",
    "    breakpoint() #멈춤점: 이 부분에서 살펴볼수 있다★★★\n",
    "    x=x+1\n",
    "    print(x)\n",
    "    \n",
    "y()"
   ]
  },
  {
   "cell_type": "code",
   "execution_count": 34,
   "metadata": {},
   "outputs": [
    {
     "name": "stdout",
     "output_type": "stream",
     "text": [
      "2\n"
     ]
    }
   ],
   "source": [
    "x=1\n",
    "def y():\n",
    "    global x   #sync를 맞춰준다.\n",
    "    x=x+1      #할당\n",
    "    print(x)\n",
    "    \n",
    "y()"
   ]
  },
  {
   "cell_type": "code",
   "execution_count": 35,
   "metadata": {},
   "outputs": [
    {
     "name": "stdout",
     "output_type": "stream",
     "text": [
      "3\n"
     ]
    }
   ],
   "source": [
    "x=1\n",
    "def y():\n",
    "    x=3      #local variable        # x = x+ 3   -> 함수 오른쪽에 있으면 함수 바깥쪽의 것으로 취급한다.\n",
    "    print(x)\n",
    "    \n",
    "y()"
   ]
  },
  {
   "cell_type": "code",
   "execution_count": 36,
   "metadata": {},
   "outputs": [
    {
     "ename": "NameError",
     "evalue": "name 'z' is not defined",
     "output_type": "error",
     "traceback": [
      "\u001b[1;31m---------------------------------------------------------------------------\u001b[0m",
      "\u001b[1;31mNameError\u001b[0m                                 Traceback (most recent call last)",
      "\u001b[1;32m<ipython-input-36-67520a411abd>\u001b[0m in \u001b[0;36m<module>\u001b[1;34m\u001b[0m\n\u001b[0;32m      2\u001b[0m     \u001b[0mz\u001b[0m\u001b[1;33m=\u001b[0m\u001b[1;36m1\u001b[0m\u001b[1;33m\u001b[0m\u001b[1;33m\u001b[0m\u001b[0m\n\u001b[0;32m      3\u001b[0m     \u001b[0mprint\u001b[0m\u001b[1;33m(\u001b[0m\u001b[0mx\u001b[0m\u001b[1;33m)\u001b[0m\u001b[1;33m\u001b[0m\u001b[1;33m\u001b[0m\u001b[0m\n\u001b[1;32m----> 4\u001b[1;33m \u001b[0mz\u001b[0m\u001b[1;33m\u001b[0m\u001b[1;33m\u001b[0m\u001b[0m\n\u001b[0m",
      "\u001b[1;31mNameError\u001b[0m: name 'z' is not defined"
     ]
    }
   ],
   "source": [
    "def y():\n",
    "    z=1               #함수 밖에서는 안으로 접근할 수 없다.\n",
    "    print(x)\n",
    "z"
   ]
  },
  {
   "cell_type": "code",
   "execution_count": 37,
   "metadata": {},
   "outputs": [
    {
     "name": "stdout",
     "output_type": "stream",
     "text": [
      "1\n"
     ]
    }
   ],
   "source": [
    "def y():\n",
    "    z=1               \n",
    "    print(z)\n",
    "y()"
   ]
  },
  {
   "cell_type": "code",
   "execution_count": 38,
   "metadata": {},
   "outputs": [
    {
     "name": "stdout",
     "output_type": "stream",
     "text": [
      "1\n"
     ]
    }
   ],
   "source": [
    "y.z=3       #안먹는다...\n",
    "y()             "
   ]
  },
  {
   "cell_type": "code",
   "execution_count": 39,
   "metadata": {},
   "outputs": [
    {
     "data": {
      "text/plain": [
       "3"
      ]
     },
     "execution_count": 39,
     "metadata": {},
     "output_type": "execute_result"
    }
   ],
   "source": [
    "y.z  #얘는 함수 안의 z랑 다르다."
   ]
  },
  {
   "cell_type": "code",
   "execution_count": 40,
   "metadata": {},
   "outputs": [
    {
     "data": {
      "text/plain": [
       "2"
      ]
     },
     "execution_count": 40,
     "metadata": {},
     "output_type": "execute_result"
    }
   ],
   "source": [
    "class A:\n",
    "    x=1\n",
    "A.x = 2\n",
    "a= A()\n",
    "a.x"
   ]
  },
  {
   "cell_type": "markdown",
   "metadata": {},
   "source": [
    "### 밖에서는 함수 안에 접근할 수 없다."
   ]
  },
  {
   "cell_type": "markdown",
   "metadata": {},
   "source": [
    "## 중첩: 함수 안에 함수"
   ]
  },
  {
   "cell_type": "code",
   "execution_count": 41,
   "metadata": {},
   "outputs": [
    {
     "data": {
      "text/plain": [
       "1"
      ]
     },
     "execution_count": 41,
     "metadata": {},
     "output_type": "execute_result"
    }
   ],
   "source": [
    "x=1\n",
    "def y():\n",
    "    def z():\n",
    "        return 1\n",
    "    return z()\n",
    "y()"
   ]
  },
  {
   "cell_type": "code",
   "execution_count": 42,
   "metadata": {},
   "outputs": [],
   "source": [
    "#함수 안에서 또다른 함수를 정의해놓으면 안에서만 쓰이는 걸 정의할 수 있다."
   ]
  },
  {
   "cell_type": "code",
   "execution_count": 43,
   "metadata": {},
   "outputs": [
    {
     "data": {
      "text/plain": [
       "<function __main__.y.<locals>.z()>"
      ]
     },
     "execution_count": 43,
     "metadata": {},
     "output_type": "execute_result"
    }
   ],
   "source": [
    "x=1\n",
    "def y():\n",
    "    def z():\n",
    "        return 1\n",
    "    return z\n",
    "y()"
   ]
  },
  {
   "cell_type": "code",
   "execution_count": 44,
   "metadata": {},
   "outputs": [
    {
     "data": {
      "text/plain": [
       "1"
      ]
     },
     "execution_count": 44,
     "metadata": {},
     "output_type": "execute_result"
    }
   ],
   "source": [
    "y()()       #y()() -> (z)() -> return 1"
   ]
  },
  {
   "cell_type": "code",
   "execution_count": 45,
   "metadata": {},
   "outputs": [
    {
     "name": "stdout",
     "output_type": "stream",
     "text": [
      "고윤하\n"
     ]
    },
    {
     "data": {
      "text/plain": [
       "<function __main__.y()>"
      ]
     },
     "execution_count": 45,
     "metadata": {},
     "output_type": "execute_result"
    }
   ],
   "source": [
    "def y():\n",
    "    print('고윤하')\n",
    "    return y               #자기 자신을 호출하면 무한 함수를 만들 수 있다. (이런짓 하지 마라)\n",
    "y()"
   ]
  },
  {
   "cell_type": "code",
   "execution_count": 46,
   "metadata": {},
   "outputs": [
    {
     "name": "stdout",
     "output_type": "stream",
     "text": [
      "고윤하\n",
      "고윤하\n"
     ]
    },
    {
     "data": {
      "text/plain": [
       "<function __main__.y()>"
      ]
     },
     "execution_count": 46,
     "metadata": {},
     "output_type": "execute_result"
    }
   ],
   "source": [
    "y()()"
   ]
  },
  {
   "cell_type": "code",
   "execution_count": 47,
   "metadata": {},
   "outputs": [
    {
     "name": "stdout",
     "output_type": "stream",
     "text": [
      "고윤하\n",
      "고윤하\n",
      "고윤하\n"
     ]
    },
    {
     "data": {
      "text/plain": [
       "<function __main__.y()>"
      ]
     },
     "execution_count": 47,
     "metadata": {},
     "output_type": "execute_result"
    }
   ],
   "source": [
    "y()()()"
   ]
  },
  {
   "cell_type": "code",
   "execution_count": 48,
   "metadata": {},
   "outputs": [
    {
     "name": "stdout",
     "output_type": "stream",
     "text": [
      "고윤하\n",
      "고윤하\n",
      "고윤하\n",
      "고윤하\n",
      "고윤하\n",
      "고윤하\n",
      "고윤하\n",
      "고윤하\n",
      "고윤하\n",
      "고윤하\n",
      "고윤하\n",
      "고윤하\n",
      "고윤하\n",
      "고윤하\n",
      "고윤하\n",
      "고윤하\n",
      "고윤하\n",
      "고윤하\n",
      "고윤하\n",
      "고윤하\n",
      "고윤하\n",
      "고윤하\n"
     ]
    },
    {
     "data": {
      "text/plain": [
       "<function __main__.y()>"
      ]
     },
     "execution_count": 48,
     "metadata": {},
     "output_type": "execute_result"
    }
   ],
   "source": [
    "y()()()()()()()()()()()()()()()()()()()()()()"
   ]
  },
  {
   "cell_type": "code",
   "execution_count": 54,
   "metadata": {},
   "outputs": [],
   "source": [
    "def y(x):\n",
    "    def z(n):\n",
    "        return x+n\n",
    "    return z"
   ]
  },
  {
   "cell_type": "code",
   "execution_count": 55,
   "metadata": {},
   "outputs": [
    {
     "data": {
      "text/plain": [
       "5"
      ]
     },
     "execution_count": 55,
     "metadata": {},
     "output_type": "execute_result"
    }
   ],
   "source": [
    "two_add = y(2)    #2더하기 함수. -> 첫번째로 뭘 받느냐에 따라 만들 수 있는 함수의 종류가 달라짐.\n",
    "two_add(3)         # => 'closure' "
   ]
  },
  {
   "cell_type": "markdown",
   "metadata": {},
   "source": [
    "## Closure\n"
   ]
  },
  {
   "cell_type": "code",
   "execution_count": 56,
   "metadata": {},
   "outputs": [],
   "source": [
    "def y(x):\n",
    "    def z(n):\n",
    "        return x+n\n",
    "    return lambda n:n+x           #closure   "
   ]
  },
  {
   "cell_type": "markdown",
   "metadata": {},
   "source": [
    "# 교재"
   ]
  },
  {
   "cell_type": "code",
   "execution_count": 57,
   "metadata": {},
   "outputs": [],
   "source": [
    "# 파이썬에서는 Recursion은 점화식 표현만 되면 로직 짜는건 정말 좋지만, 속도가 극악이기 때문에 추천되지 않는다.\n",
    "# 그나마 Tail Recursion을 사용하지만, 하스켈과 달리 파이썬은 중복제거를 안해준다.\n",
    "#list processing: 한꺼번에 데이터 처리할 때 편한 기법.\n",
    "# 함수의 side effect: global, mutable 자료구조 등등  (but mutable 쓰면 쉽다.)\n",
    "# ★itertools★ --- Functions creating iterators for efficient looping -> lazy하기 때문에 메모리 관리 효율적 + 속도 빠름.\n",
    "# functools --- Higher-order functions and operations on callable objects\n",
    "# operator --- Standard operators as functions -> 모든 연산자를 함수로 바꾼 것.\n",
    "\n",
    "#함수로 만들면(Encapsulelation) : 재사용 가능.\n",
    "#comprehension : list, set, dictionary comprehension (tuple은 generator)\n",
    "#comprehension에서 방식을 tuple(괄호) 형식으로 만들면 generator. -> 조건문을 반복문 뒤에 적는다. => 메모리 절약."
   ]
  },
  {
   "cell_type": "code",
   "execution_count": 59,
   "metadata": {},
   "outputs": [
    {
     "name": "stdout",
     "output_type": "stream",
     "text": [
      "Writing moon.txt\n"
     ]
    }
   ],
   "source": [
    "%%writefile moon.txt       \n",
    "asdfasdfa\n",
    "asdfasdfasdf\n",
    "asdfasdfasdfasdf\n",
    "asdfasdfasdfasdfasd\n",
    "asdfasdfasdfasfasdfas"
   ]
  },
  {
   "cell_type": "code",
   "execution_count": 60,
   "metadata": {},
   "outputs": [],
   "source": [
    "#텍스트 만드는 기능. 밑에는 내용"
   ]
  },
  {
   "cell_type": "code",
   "execution_count": 61,
   "metadata": {},
   "outputs": [
    {
     "data": {
      "text/plain": [
       "<_io.TextIOWrapper name='moon.txt' mode='r' encoding='cp949'>"
      ]
     },
     "execution_count": 61,
     "metadata": {},
     "output_type": "execute_result"
    }
   ],
   "source": [
    "a = open('moon.txt')\n",
    "a"
   ]
  },
  {
   "cell_type": "code",
   "execution_count": 62,
   "metadata": {},
   "outputs": [
    {
     "data": {
      "text/plain": [
       "'asdfasdfa\\n'"
      ]
     },
     "execution_count": 62,
     "metadata": {},
     "output_type": "execute_result"
    }
   ],
   "source": [
    "next(a)"
   ]
  },
  {
   "cell_type": "code",
   "execution_count": 66,
   "metadata": {},
   "outputs": [
    {
     "ename": "IndentationError",
     "evalue": "expected an indented block (<ipython-input-66-b2615992fe9e>, line 3)",
     "output_type": "error",
     "traceback": [
      "\u001b[1;36m  File \u001b[1;32m\"<ipython-input-66-b2615992fe9e>\"\u001b[1;36m, line \u001b[1;32m3\u001b[0m\n\u001b[1;33m    except StopIteration:\u001b[0m\n\u001b[1;37m         ^\u001b[0m\n\u001b[1;31mIndentationError\u001b[0m\u001b[1;31m:\u001b[0m expected an indented block\n"
     ]
    }
   ],
   "source": [
    "while True:\n",
    "    try:\n",
    "    except StopIteration:\n",
    "        raise\n",
    "    next(a)\n",
    "    if next(a) == False:\n",
    "        break"
   ]
  },
  {
   "cell_type": "code",
   "execution_count": 67,
   "metadata": {},
   "outputs": [],
   "source": [
    "# 덕 타이핑: \n",
    "# __iter__, __next___ 덕타이핑 기법으로 구현하면 iterator처럼 쓸 수 있다.(상속 안해도 상속한 것처럼 쓸 수 있다.) => 내일 다시..\n"
   ]
  },
  {
   "cell_type": "code",
   "execution_count": 68,
   "metadata": {},
   "outputs": [],
   "source": [
    "from operator import add, mul, sub"
   ]
  },
  {
   "cell_type": "code",
   "execution_count": 69,
   "metadata": {},
   "outputs": [
    {
     "data": {
      "text/plain": [
       "7"
      ]
     },
     "execution_count": 69,
     "metadata": {},
     "output_type": "execute_result"
    }
   ],
   "source": [
    "add(3,4)"
   ]
  },
  {
   "cell_type": "code",
   "execution_count": 70,
   "metadata": {},
   "outputs": [
    {
     "data": {
      "text/plain": [
       "28"
      ]
     },
     "execution_count": 70,
     "metadata": {},
     "output_type": "execute_result"
    }
   ],
   "source": [
    "mul(4,7)"
   ]
  },
  {
   "cell_type": "code",
   "execution_count": 71,
   "metadata": {},
   "outputs": [
    {
     "data": {
      "text/plain": [
       "3"
      ]
     },
     "execution_count": 71,
     "metadata": {},
     "output_type": "execute_result"
    }
   ],
   "source": [
    "sub(7,4)"
   ]
  },
  {
   "cell_type": "code",
   "execution_count": 72,
   "metadata": {},
   "outputs": [
    {
     "name": "stdout",
     "output_type": "stream",
     "text": [
      "0\n",
      "1\n",
      "2\n",
      "3\n",
      "4\n",
      "5\n",
      "6\n",
      "7\n",
      "8\n",
      "9\n"
     ]
    }
   ],
   "source": [
    "for z in range(10):\n",
    "    print(z)"
   ]
  },
  {
   "cell_type": "code",
   "execution_count": 73,
   "metadata": {},
   "outputs": [
    {
     "data": {
      "text/plain": [
       "9"
      ]
     },
     "execution_count": 73,
     "metadata": {},
     "output_type": "execute_result"
    }
   ],
   "source": [
    "z #메모리가 할당되었기 때문에 z를 함수 밖에서 써도 출력된다."
   ]
  },
  {
   "cell_type": "code",
   "execution_count": 74,
   "metadata": {},
   "outputs": [
    {
     "data": {
      "text/plain": [
       "[0, 1, 2, 3, 4, 5, 6, 7, 8, 9]"
      ]
     },
     "execution_count": 74,
     "metadata": {},
     "output_type": "execute_result"
    }
   ],
   "source": [
    "[zz for zz in range(10)] #comprehension 썼을때는 메모리에 따로 할당되지 않는다.(함수 안에서 끝.)"
   ]
  },
  {
   "cell_type": "code",
   "execution_count": 75,
   "metadata": {},
   "outputs": [
    {
     "ename": "NameError",
     "evalue": "name 'zz' is not defined",
     "output_type": "error",
     "traceback": [
      "\u001b[1;31m---------------------------------------------------------------------------\u001b[0m",
      "\u001b[1;31mNameError\u001b[0m                                 Traceback (most recent call last)",
      "\u001b[1;32m<ipython-input-75-15546de8c3b0>\u001b[0m in \u001b[0;36m<module>\u001b[1;34m\u001b[0m\n\u001b[1;32m----> 1\u001b[1;33m \u001b[0mzz\u001b[0m\u001b[1;33m\u001b[0m\u001b[1;33m\u001b[0m\u001b[0m\n\u001b[0m",
      "\u001b[1;31mNameError\u001b[0m: name 'zz' is not defined"
     ]
    }
   ],
   "source": [
    "zz"
   ]
  },
  {
   "cell_type": "code",
   "execution_count": 76,
   "metadata": {},
   "outputs": [
    {
     "data": {
      "text/plain": [
       "[0, 1, 2, 3, 4, 5, 6, 7, 8, 9]"
      ]
     },
     "execution_count": 76,
     "metadata": {},
     "output_type": "execute_result"
    }
   ],
   "source": [
    "# 언더바(_)는 가장 최근에 기록된 값을 반환한다. => 이름으로 선언하면 안됨.\n",
    "_"
   ]
  },
  {
   "cell_type": "code",
   "execution_count": 77,
   "metadata": {},
   "outputs": [
    {
     "ename": "NameError",
     "evalue": "name '_79' is not defined",
     "output_type": "error",
     "traceback": [
      "\u001b[1;31m---------------------------------------------------------------------------\u001b[0m",
      "\u001b[1;31mNameError\u001b[0m                                 Traceback (most recent call last)",
      "\u001b[1;32m<ipython-input-77-67974e8ecdfc>\u001b[0m in \u001b[0;36m<module>\u001b[1;34m\u001b[0m\n\u001b[1;32m----> 1\u001b[1;33m \u001b[0m_79\u001b[0m\u001b[1;33m\u001b[0m\u001b[1;33m\u001b[0m\u001b[0m\n\u001b[0m",
      "\u001b[1;31mNameError\u001b[0m: name '_79' is not defined"
     ]
    }
   ],
   "source": [
    "_79"
   ]
  },
  {
   "cell_type": "code",
   "execution_count": 78,
   "metadata": {},
   "outputs": [
    {
     "data": {
      "text/plain": [
       "[0, 1, 2, 3, 4, 5, 6, 7, 8, 9]"
      ]
     },
     "execution_count": 78,
     "metadata": {},
     "output_type": "execute_result"
    }
   ],
   "source": [
    "_74 #74번째 ln 리턴"
   ]
  },
  {
   "cell_type": "code",
   "execution_count": 79,
   "metadata": {},
   "outputs": [
    {
     "ename": "NameError",
     "evalue": "name '_75' is not defined",
     "output_type": "error",
     "traceback": [
      "\u001b[1;31m---------------------------------------------------------------------------\u001b[0m",
      "\u001b[1;31mNameError\u001b[0m                                 Traceback (most recent call last)",
      "\u001b[1;32m<ipython-input-79-82fa992459d4>\u001b[0m in \u001b[0;36m<module>\u001b[1;34m\u001b[0m\n\u001b[1;32m----> 1\u001b[1;33m \u001b[0m_75\u001b[0m\u001b[1;33m\u001b[0m\u001b[1;33m\u001b[0m\u001b[0m\n\u001b[0m",
      "\u001b[1;31mNameError\u001b[0m: name '_75' is not defined"
     ]
    }
   ],
   "source": [
    "_75"
   ]
  },
  {
   "cell_type": "code",
   "execution_count": 80,
   "metadata": {
    "scrolled": true
   },
   "outputs": [
    {
     "name": "stdout",
     "output_type": "stream",
     "text": [
      "#예전 컴퓨터: 0과1, 값처럼 사용\n",
      "#파이썬에서는 값을 객체로 표현. ->\n",
      "a= print\n",
      "a\n",
      "a('고윤하')\n",
      "a.__name__\n",
      "sum = 0\n",
      "sum\n",
      "#얇은 초록색: 함수, 두꺼운 초록색: keyword\n",
      "sum+1\n",
      "del sum\n",
      "sum+1\n",
      "#주의해야 할 것\n",
      "sum = 0\n",
      "for i in range(1,101):\n",
      "    sum+=i\n",
      "sum\n",
      "del sum\n",
      "a=[str, int, float]\n",
      "a[0]\n",
      "a=[str, int, float]\n",
      "a[0](2)\n",
      "def a(x):\n",
      "    print(x())\n",
      "a(print)\n",
      "#closer, decorator를 위한 응용예시.\n",
      "#파이썬은 함수안에 함수를 넣을 수 있다. => Nasted Function\n",
      "x=1\n",
      "def y():\n",
      "    print(x)\n",
      "x=1\n",
      "def y():\n",
      "    print(x)\n",
      "y()\n",
      "def y():\n",
      "    x=2\n",
      "    print(x)\n",
      "y()\n",
      "#변수를 찾는 순서: \n",
      "#LEGB rule => Local(해당 함수 안) -> Enclose(함수를 싸고 있는 함수) -> Global(함수 밖의 영역) -> Builtin(있는지 없는지 계속 찾아본다)\n",
      "def y():\n",
      "    x +=1\n",
      "    print(x)\n",
      "def y():\n",
      "    x +=1\n",
      "    print(x)\n",
      "y()\n",
      "def y():\n",
      "    x = x+1\n",
      "    print(x)\n",
      "y()\n",
      "x=1\n",
      "def y():\n",
      "    global x    #바깥의 x와 sync\n",
      "    x = x+1     \n",
      "    print(x)\n",
      "y()\n",
      "y()\n",
      "#Python에서는 함수 내부에서 함수 바깥의 것 (원칙적으론) 바꿀수 없다.\n",
      "#단, Global을 선언하면 sync가 되어 바꿀 수 있게 된다.\n",
      "#Python에는 기본적으로 디버깅을 해주는 패키지가 있다.\n",
      "x=1\n",
      "def y():\n",
      "    import pdb; pdb.set_trace()\n",
      "    x=x+1\n",
      "    print(x)\n",
      "    \n",
      "y()\n",
      "#Python에는 기본적으로 디버깅을 해주는 패키지가 있다.\n",
      "x=1\n",
      "def y():\n",
      "    import pdb; pdb.set_trace()\n",
      "    x=x+1\n",
      "    print(x)\n",
      "    \n",
      "y()\n",
      "# p x : \n",
      "# l : 소스코드 보기\n",
      "\n",
      "#\n",
      "x=1\n",
      "def y():\n",
      "    breakpoint()\n",
      "    x=x+1\n",
      "    print(x)\n",
      "    \n",
      "y()\n",
      "def y():\n",
      "    breakpoint() #멈춤점: 이 부분에서 살펴볼수 있다★★★\n",
      "    x=x+1\n",
      "    print(x)\n",
      "    \n",
      "y()\n",
      "x=1\n",
      "def y():\n",
      "    global x   #sync를 맞춰준다.\n",
      "    x=x+1      #할당\n",
      "    print(x)\n",
      "    \n",
      "y()\n",
      "x=1\n",
      "def y():\n",
      "    x=3      #local variable\n",
      "    print(x)\n",
      "    \n",
      "y()\n",
      "def y():\n",
      "    z=1\n",
      "    print(x)\n",
      "z\n",
      "def y():\n",
      "    z=1               \n",
      "    print(z)\n",
      "y()\n",
      "y.z=3\n",
      "y()\n",
      "y.z\n",
      "class A:\n",
      "    x=1\n",
      "A.x = 2\n",
      "a= A()\n",
      "a.x\n",
      "x=1\n",
      "def y():\n",
      "    def z():\n",
      "        return 1\n",
      "    return z()\n",
      "y()\n",
      "#함수 안에서 또다른 함수를 정의해놓으면 안에서만 쓰이는 걸 정의할 수 있다.\n",
      "x=1\n",
      "def y():\n",
      "    def z():\n",
      "        return 1\n",
      "    return z\n",
      "y()\n",
      "y()()\n",
      "def y():\n",
      "    print('고윤하')\n",
      "    return y\n",
      "y()\n",
      "y()()\n",
      "y()()()\n",
      "y()()()()()()()()()()()()()()()()()()()()()()\n",
      "def y():\n",
      "    def z():\n",
      "        return 1\n",
      "    return z\n",
      "y()()\n",
      "def y(x):\n",
      "    def z():\n",
      "        return 1\n",
      "    return z\n",
      "y(x)()\n",
      "def y(x):\n",
      "    def z():\n",
      "        return 1\n",
      "    return z\n",
      "y()(2)\n",
      "def y(x):\n",
      "    def z():\n",
      "        return x+1\n",
      "    return z\n",
      "y(2)()\n",
      "def y(x):\n",
      "    def z(n):\n",
      "        return x+n\n",
      "    return z\n",
      "y(2)(4)\n",
      "def y(x):\n",
      "    def z(n):\n",
      "        return x+n\n",
      "    return z\n",
      "two_add = y(2)\n",
      "two_add(3)\n",
      "def y(x):\n",
      "    def z(n):\n",
      "        return x+n\n",
      "    return lambda n:n+x           #closer\n",
      "# 파이썬에서는 Recursion은 점화식 표현만 되면 로직 짜는건 정말 좋지만, 속도가 극악이기 때문에 추천되지 않는다.\n",
      "# 그나마 Tail Recursion을 사용하지만, 하스켈과 달리 파이썬은 중복제거를 안해준다.\n",
      "#list processing: 한꺼번에 데이터 처리할 때 편한 기법.\n",
      "# 함수의 side effect: global, mutable 자료구조 등등  (but mutable 쓰면 쉽다.)\n",
      "\n",
      "# 함수형 프로그래밍 모듈\n",
      "# ★itertools★ --- Functions creating iterators for efficient looping -> lazy하기 때문에 메모리 관리 효율적 + 속도 빠름.\n",
      "# functools --- Higher-order functions and operations on callable objects\n",
      "# operator --- Standard operators as functions -> 모든 연산자를 함수로 바꾼 것.\n",
      "\n",
      "#함수로 만들면(Encapsulelation) : 재사용 가능.\n",
      "#comprehension : list, set, dictionary comprehension (tuple은 generator)\n",
      "#comprehension에서 방식을 tuple(괄호) 형식으로 만들면 generator. -> 조건문을 반복문 뒤에 적는다. => 메모리 절약.\n",
      "%%writefile moon.txt       #텍스트 만드는 기능. 밑에는 내용\n",
      "asdfasdfa\n",
      "asdfasdfasdf\n",
      "asdfasdfasdfasdf\n",
      "asdfasdfasdfasdfasd\n",
      "asdfasdfasdfasfasdfas\n",
      "%%writefile moon.txt       \n",
      "asdfasdfa\n",
      "asdfasdfasdf\n",
      "asdfasdfasdfasdf\n",
      "asdfasdfasdfasdfasd\n",
      "asdfasdfasdfasfasdfas\n",
      "#텍스트 만드는 기능. 밑에는 내용\n",
      "a = open('moon.txt')\n",
      "a\n",
      "next(a)\n",
      "while True:\n",
      "    next(a)\n",
      "    if next(a) == False:\n",
      "        break\n",
      "while True:\n",
      "    print(str(next(a)))\n",
      "    if next(a) == False:\n",
      "        break\n",
      "while True:\n",
      "    except StopIteration:\n",
      "        raise\n",
      "    next(a)\n",
      "    if next(a) == False:\n",
      "        break\n",
      "while True:\n",
      "    try:\n",
      "    except StopIteration:\n",
      "        raise\n",
      "    next(a)\n",
      "    if next(a) == False:\n",
      "        break\n",
      "# 덕 타이핑: \n",
      "# __iter__, __next___ 덕타이핑 기법으로 구현하면 iterator처럼 쓸 수 있다.(상속 안해도 상속한 것처럼 쓸 수 있다.) => 내일 다시..\n",
      "from operator import add, mul, sub\n",
      "add(3,4)\n",
      "mul(4,7)\n",
      "sub(7,4)\n",
      "for z in range(10):\n",
      "    print(z)\n",
      "z\n",
      "[zz for zz in range(10)]\n",
      "zz\n",
      "# 언더바(_)는 가장 최근에 기록된 값을 반환한다. => 이름으로 선언하면 안됨.\n",
      "_\n",
      "_79\n",
      "_74\n",
      "_75\n",
      "%history\n"
     ]
    }
   ],
   "source": [
    "%history             # o, shift+o "
   ]
  },
  {
   "cell_type": "markdown",
   "metadata": {},
   "source": [
    "## Eliminating Recursion"
   ]
  },
  {
   "cell_type": "code",
   "execution_count": 81,
   "metadata": {},
   "outputs": [],
   "source": [
    "#굳이 recursion 쓰고싶다면 나만의 recursion 써서 만들면 된다"
   ]
  },
  {
   "cell_type": "code",
   "execution_count": 82,
   "metadata": {},
   "outputs": [],
   "source": [
    "#쓰고싶다면 (가능한) map, filter, reduce로 대체한다."
   ]
  },
  {
   "cell_type": "markdown",
   "metadata": {},
   "source": [
    "# Callable"
   ]
  },
  {
   "cell_type": "code",
   "execution_count": null,
   "metadata": {},
   "outputs": [],
   "source": [
    "#함수 이름 뒤에 괄호 붙일수 있냐 없냐\n",
    "#함수뿐만 아니라 클래스도 callable 가능. => '괄호'의 여부가 중요."
   ]
  },
  {
   "cell_type": "code",
   "execution_count": 83,
   "metadata": {},
   "outputs": [
    {
     "data": {
      "text/plain": [
       "True"
      ]
     },
     "execution_count": 83,
     "metadata": {},
     "output_type": "execute_result"
    }
   ],
   "source": [
    "callable(int)"
   ]
  },
  {
   "cell_type": "code",
   "execution_count": 84,
   "metadata": {},
   "outputs": [],
   "source": [
    "#lambda : 사용자 익명 함수. but 이름 붙일 수 있다.\n",
    "# lambda name: print(\"hello\", name)\n",
    "# 콜론 앞에는 parameter / 뒤에는 return 값."
   ]
  },
  {
   "cell_type": "code",
   "execution_count": 85,
   "metadata": {},
   "outputs": [
    {
     "data": {
      "text/plain": [
       "<function __main__.x(a)>"
      ]
     },
     "execution_count": 85,
     "metadata": {},
     "output_type": "execute_result"
    }
   ],
   "source": [
    "def x(a):\n",
    "    return a\n",
    "y=lambda a: a\n",
    "x"
   ]
  },
  {
   "cell_type": "code",
   "execution_count": 86,
   "metadata": {},
   "outputs": [
    {
     "data": {
      "text/plain": [
       "<function __main__.<lambda>(a)>"
      ]
     },
     "execution_count": 86,
     "metadata": {},
     "output_type": "execute_result"
    }
   ],
   "source": [
    "y"
   ]
  },
  {
   "cell_type": "code",
   "execution_count": 87,
   "metadata": {},
   "outputs": [
    {
     "data": {
      "text/plain": [
       "['__annotations__',\n",
       " '__call__',\n",
       " '__class__',\n",
       " '__closure__',\n",
       " '__code__',\n",
       " '__defaults__',\n",
       " '__delattr__',\n",
       " '__dict__',\n",
       " '__dir__',\n",
       " '__doc__',\n",
       " '__eq__',\n",
       " '__format__',\n",
       " '__ge__',\n",
       " '__get__',\n",
       " '__getattribute__',\n",
       " '__globals__',\n",
       " '__gt__',\n",
       " '__hash__',\n",
       " '__init__',\n",
       " '__init_subclass__',\n",
       " '__kwdefaults__',\n",
       " '__le__',\n",
       " '__lt__',\n",
       " '__module__',\n",
       " '__name__',\n",
       " '__ne__',\n",
       " '__new__',\n",
       " '__qualname__',\n",
       " '__reduce__',\n",
       " '__reduce_ex__',\n",
       " '__repr__',\n",
       " '__setattr__',\n",
       " '__sizeof__',\n",
       " '__str__',\n",
       " '__subclasshook__']"
      ]
     },
     "execution_count": 87,
     "metadata": {},
     "output_type": "execute_result"
    }
   ],
   "source": [
    "dir(x)"
   ]
  },
  {
   "cell_type": "code",
   "execution_count": 88,
   "metadata": {},
   "outputs": [
    {
     "data": {
      "text/plain": [
       "['__annotations__',\n",
       " '__call__',\n",
       " '__class__',\n",
       " '__closure__',\n",
       " '__code__',\n",
       " '__defaults__',\n",
       " '__delattr__',\n",
       " '__dict__',\n",
       " '__dir__',\n",
       " '__doc__',\n",
       " '__eq__',\n",
       " '__format__',\n",
       " '__ge__',\n",
       " '__get__',\n",
       " '__getattribute__',\n",
       " '__globals__',\n",
       " '__gt__',\n",
       " '__hash__',\n",
       " '__init__',\n",
       " '__init_subclass__',\n",
       " '__kwdefaults__',\n",
       " '__le__',\n",
       " '__lt__',\n",
       " '__module__',\n",
       " '__name__',\n",
       " '__ne__',\n",
       " '__new__',\n",
       " '__qualname__',\n",
       " '__reduce__',\n",
       " '__reduce_ex__',\n",
       " '__repr__',\n",
       " '__setattr__',\n",
       " '__sizeof__',\n",
       " '__str__',\n",
       " '__subclasshook__']"
      ]
     },
     "execution_count": 88,
     "metadata": {},
     "output_type": "execute_result"
    }
   ],
   "source": [
    "dir(y)"
   ]
  },
  {
   "cell_type": "code",
   "execution_count": 92,
   "metadata": {},
   "outputs": [
    {
     "data": {
      "text/plain": [
       "set()"
      ]
     },
     "execution_count": 92,
     "metadata": {},
     "output_type": "execute_result"
    }
   ],
   "source": [
    "set(dir(x)) ^ set(dir(y))    #기능은 모두 같다."
   ]
  },
  {
   "cell_type": "code",
   "execution_count": 93,
   "metadata": {},
   "outputs": [
    {
     "data": {
      "text/plain": [
       "'x'"
      ]
     },
     "execution_count": 93,
     "metadata": {},
     "output_type": "execute_result"
    }
   ],
   "source": [
    "x.__name__"
   ]
  },
  {
   "cell_type": "code",
   "execution_count": 94,
   "metadata": {},
   "outputs": [
    {
     "data": {
      "text/plain": [
       "'<lambda>'"
      ]
     },
     "execution_count": 94,
     "metadata": {},
     "output_type": "execute_result"
    }
   ],
   "source": [
    "y.__name__"
   ]
  },
  {
   "cell_type": "markdown",
   "metadata": {},
   "source": [
    "## lambda 대수 참고해볼 것"
   ]
  },
  {
   "cell_type": "code",
   "execution_count": 95,
   "metadata": {},
   "outputs": [],
   "source": [
    "# closure: 함수 안에 함수를 중첩. 첫번째 인자에 따라 두번째 인자에 영향을 미침.\n",
    "# ≒ Encaplsulation"
   ]
  },
  {
   "cell_type": "code",
   "execution_count": 96,
   "metadata": {},
   "outputs": [],
   "source": [
    "# 디스크립터 (;;;)\n",
    "# "
   ]
  },
  {
   "cell_type": "code",
   "execution_count": 98,
   "metadata": {},
   "outputs": [
    {
     "data": {
      "text/plain": [
       "<itertools.cycle at 0x1911f74dcf0>"
      ]
     },
     "execution_count": 98,
     "metadata": {},
     "output_type": "execute_result"
    }
   ],
   "source": [
    "#Generator 맛보기\n",
    "from itertools import cycle\n",
    "a = cycle([1,2,3])\n",
    "a"
   ]
  },
  {
   "cell_type": "code",
   "execution_count": 99,
   "metadata": {},
   "outputs": [
    {
     "data": {
      "text/plain": [
       "1"
      ]
     },
     "execution_count": 99,
     "metadata": {},
     "output_type": "execute_result"
    }
   ],
   "source": [
    "next(a)"
   ]
  },
  {
   "cell_type": "code",
   "execution_count": 100,
   "metadata": {},
   "outputs": [
    {
     "data": {
      "text/plain": [
       "2"
      ]
     },
     "execution_count": 100,
     "metadata": {},
     "output_type": "execute_result"
    }
   ],
   "source": [
    "next(a)"
   ]
  },
  {
   "cell_type": "code",
   "execution_count": 101,
   "metadata": {},
   "outputs": [
    {
     "data": {
      "text/plain": [
       "3"
      ]
     },
     "execution_count": 101,
     "metadata": {},
     "output_type": "execute_result"
    }
   ],
   "source": [
    "next(a)"
   ]
  },
  {
   "cell_type": "code",
   "execution_count": 102,
   "metadata": {},
   "outputs": [
    {
     "data": {
      "text/plain": [
       "1"
      ]
     },
     "execution_count": 102,
     "metadata": {},
     "output_type": "execute_result"
    }
   ],
   "source": [
    "next(a)     #반복된다.(While True:)"
   ]
  },
  {
   "cell_type": "code",
   "execution_count": 104,
   "metadata": {},
   "outputs": [
    {
     "ename": "TypeError",
     "evalue": "module, class, method, function, traceback, frame, or code object was expected, got cycle",
     "output_type": "error",
     "traceback": [
      "\u001b[1;31m---------------------------------------------------------------------------\u001b[0m",
      "\u001b[1;31mTypeError\u001b[0m                                 Traceback (most recent call last)",
      "\u001b[1;32m<ipython-input-104-2529132d525e>\u001b[0m in \u001b[0;36m<module>\u001b[1;34m\u001b[0m\n\u001b[0;32m      1\u001b[0m \u001b[1;32mimport\u001b[0m \u001b[0minspect\u001b[0m\u001b[1;33m\u001b[0m\u001b[1;33m\u001b[0m\u001b[0m\n\u001b[1;32m----> 2\u001b[1;33m \u001b[0minspect\u001b[0m\u001b[1;33m.\u001b[0m\u001b[0mgetsource\u001b[0m\u001b[1;33m(\u001b[0m\u001b[0ma\u001b[0m\u001b[1;33m)\u001b[0m     \u001b[1;31m#소스가 안보이는 케이스: C로 만든 것.\u001b[0m\u001b[1;33m\u001b[0m\u001b[1;33m\u001b[0m\u001b[0m\n\u001b[0m",
      "\u001b[1;32m~\\Anaconda3\\lib\\inspect.py\u001b[0m in \u001b[0;36mgetsource\u001b[1;34m(object)\u001b[0m\n\u001b[0;32m    971\u001b[0m     \u001b[1;32mor\u001b[0m \u001b[0mcode\u001b[0m \u001b[0mobject\u001b[0m\u001b[1;33m.\u001b[0m  \u001b[0mThe\u001b[0m \u001b[0msource\u001b[0m \u001b[0mcode\u001b[0m \u001b[1;32mis\u001b[0m \u001b[0mreturned\u001b[0m \u001b[1;32mas\u001b[0m \u001b[0ma\u001b[0m \u001b[0msingle\u001b[0m \u001b[0mstring\u001b[0m\u001b[1;33m.\u001b[0m  \u001b[0mAn\u001b[0m\u001b[1;33m\u001b[0m\u001b[1;33m\u001b[0m\u001b[0m\n\u001b[0;32m    972\u001b[0m     OSError is raised if the source code cannot be retrieved.\"\"\"\n\u001b[1;32m--> 973\u001b[1;33m     \u001b[0mlines\u001b[0m\u001b[1;33m,\u001b[0m \u001b[0mlnum\u001b[0m \u001b[1;33m=\u001b[0m \u001b[0mgetsourcelines\u001b[0m\u001b[1;33m(\u001b[0m\u001b[0mobject\u001b[0m\u001b[1;33m)\u001b[0m\u001b[1;33m\u001b[0m\u001b[1;33m\u001b[0m\u001b[0m\n\u001b[0m\u001b[0;32m    974\u001b[0m     \u001b[1;32mreturn\u001b[0m \u001b[1;34m''\u001b[0m\u001b[1;33m.\u001b[0m\u001b[0mjoin\u001b[0m\u001b[1;33m(\u001b[0m\u001b[0mlines\u001b[0m\u001b[1;33m)\u001b[0m\u001b[1;33m\u001b[0m\u001b[1;33m\u001b[0m\u001b[0m\n\u001b[0;32m    975\u001b[0m \u001b[1;33m\u001b[0m\u001b[0m\n",
      "\u001b[1;32m~\\Anaconda3\\lib\\inspect.py\u001b[0m in \u001b[0;36mgetsourcelines\u001b[1;34m(object)\u001b[0m\n\u001b[0;32m    953\u001b[0m     raised if the source code cannot be retrieved.\"\"\"\n\u001b[0;32m    954\u001b[0m     \u001b[0mobject\u001b[0m \u001b[1;33m=\u001b[0m \u001b[0munwrap\u001b[0m\u001b[1;33m(\u001b[0m\u001b[0mobject\u001b[0m\u001b[1;33m)\u001b[0m\u001b[1;33m\u001b[0m\u001b[1;33m\u001b[0m\u001b[0m\n\u001b[1;32m--> 955\u001b[1;33m     \u001b[0mlines\u001b[0m\u001b[1;33m,\u001b[0m \u001b[0mlnum\u001b[0m \u001b[1;33m=\u001b[0m \u001b[0mfindsource\u001b[0m\u001b[1;33m(\u001b[0m\u001b[0mobject\u001b[0m\u001b[1;33m)\u001b[0m\u001b[1;33m\u001b[0m\u001b[1;33m\u001b[0m\u001b[0m\n\u001b[0m\u001b[0;32m    956\u001b[0m \u001b[1;33m\u001b[0m\u001b[0m\n\u001b[0;32m    957\u001b[0m     \u001b[1;32mif\u001b[0m \u001b[0mistraceback\u001b[0m\u001b[1;33m(\u001b[0m\u001b[0mobject\u001b[0m\u001b[1;33m)\u001b[0m\u001b[1;33m:\u001b[0m\u001b[1;33m\u001b[0m\u001b[1;33m\u001b[0m\u001b[0m\n",
      "\u001b[1;32m~\\Anaconda3\\lib\\inspect.py\u001b[0m in \u001b[0;36mfindsource\u001b[1;34m(object)\u001b[0m\n\u001b[0;32m    766\u001b[0m     is raised if the source code cannot be retrieved.\"\"\"\n\u001b[0;32m    767\u001b[0m \u001b[1;33m\u001b[0m\u001b[0m\n\u001b[1;32m--> 768\u001b[1;33m     \u001b[0mfile\u001b[0m \u001b[1;33m=\u001b[0m \u001b[0mgetsourcefile\u001b[0m\u001b[1;33m(\u001b[0m\u001b[0mobject\u001b[0m\u001b[1;33m)\u001b[0m\u001b[1;33m\u001b[0m\u001b[1;33m\u001b[0m\u001b[0m\n\u001b[0m\u001b[0;32m    769\u001b[0m     \u001b[1;32mif\u001b[0m \u001b[0mfile\u001b[0m\u001b[1;33m:\u001b[0m\u001b[1;33m\u001b[0m\u001b[1;33m\u001b[0m\u001b[0m\n\u001b[0;32m    770\u001b[0m         \u001b[1;31m# Invalidate cache if needed.\u001b[0m\u001b[1;33m\u001b[0m\u001b[1;33m\u001b[0m\u001b[1;33m\u001b[0m\u001b[0m\n",
      "\u001b[1;32m~\\Anaconda3\\lib\\inspect.py\u001b[0m in \u001b[0;36mgetsourcefile\u001b[1;34m(object)\u001b[0m\n\u001b[0;32m    682\u001b[0m     \u001b[0mReturn\u001b[0m \u001b[1;32mNone\u001b[0m \u001b[1;32mif\u001b[0m \u001b[0mno\u001b[0m \u001b[0mway\u001b[0m \u001b[0mcan\u001b[0m \u001b[0mbe\u001b[0m \u001b[0midentified\u001b[0m \u001b[0mto\u001b[0m \u001b[0mget\u001b[0m \u001b[0mthe\u001b[0m \u001b[0msource\u001b[0m\u001b[1;33m.\u001b[0m\u001b[1;33m\u001b[0m\u001b[1;33m\u001b[0m\u001b[0m\n\u001b[0;32m    683\u001b[0m     \"\"\"\n\u001b[1;32m--> 684\u001b[1;33m     \u001b[0mfilename\u001b[0m \u001b[1;33m=\u001b[0m \u001b[0mgetfile\u001b[0m\u001b[1;33m(\u001b[0m\u001b[0mobject\u001b[0m\u001b[1;33m)\u001b[0m\u001b[1;33m\u001b[0m\u001b[1;33m\u001b[0m\u001b[0m\n\u001b[0m\u001b[0;32m    685\u001b[0m     \u001b[0mall_bytecode_suffixes\u001b[0m \u001b[1;33m=\u001b[0m \u001b[0mimportlib\u001b[0m\u001b[1;33m.\u001b[0m\u001b[0mmachinery\u001b[0m\u001b[1;33m.\u001b[0m\u001b[0mDEBUG_BYTECODE_SUFFIXES\u001b[0m\u001b[1;33m[\u001b[0m\u001b[1;33m:\u001b[0m\u001b[1;33m]\u001b[0m\u001b[1;33m\u001b[0m\u001b[1;33m\u001b[0m\u001b[0m\n\u001b[0;32m    686\u001b[0m     \u001b[0mall_bytecode_suffixes\u001b[0m \u001b[1;33m+=\u001b[0m \u001b[0mimportlib\u001b[0m\u001b[1;33m.\u001b[0m\u001b[0mmachinery\u001b[0m\u001b[1;33m.\u001b[0m\u001b[0mOPTIMIZED_BYTECODE_SUFFIXES\u001b[0m\u001b[1;33m[\u001b[0m\u001b[1;33m:\u001b[0m\u001b[1;33m]\u001b[0m\u001b[1;33m\u001b[0m\u001b[1;33m\u001b[0m\u001b[0m\n",
      "\u001b[1;32m~\\Anaconda3\\lib\\inspect.py\u001b[0m in \u001b[0;36mgetfile\u001b[1;34m(object)\u001b[0m\n\u001b[0;32m    664\u001b[0m     raise TypeError('module, class, method, function, traceback, frame, or '\n\u001b[0;32m    665\u001b[0m                     'code object was expected, got {}'.format(\n\u001b[1;32m--> 666\u001b[1;33m                     type(object).__name__))\n\u001b[0m\u001b[0;32m    667\u001b[0m \u001b[1;33m\u001b[0m\u001b[0m\n\u001b[0;32m    668\u001b[0m \u001b[1;32mdef\u001b[0m \u001b[0mgetmodulename\u001b[0m\u001b[1;33m(\u001b[0m\u001b[0mpath\u001b[0m\u001b[1;33m)\u001b[0m\u001b[1;33m:\u001b[0m\u001b[1;33m\u001b[0m\u001b[1;33m\u001b[0m\u001b[0m\n",
      "\u001b[1;31mTypeError\u001b[0m: module, class, method, function, traceback, frame, or code object was expected, got cycle"
     ]
    }
   ],
   "source": [
    "import inspect\n",
    "inspect.getsource(a)     #소스가 안보이는 케이스: C로 만든 것."
   ]
  },
  {
   "cell_type": "code",
   "execution_count": 105,
   "metadata": {
    "scrolled": true
   },
   "outputs": [
    {
     "data": {
      "text/plain": [
       "'    def parser_f(filepath_or_buffer,\\n                 sep=sep,\\n                 delimiter=None,\\n\\n                 # Column and Index Locations and Names\\n                 header=\\'infer\\',\\n                 names=None,\\n                 index_col=None,\\n                 usecols=None,\\n                 squeeze=False,\\n                 prefix=None,\\n                 mangle_dupe_cols=True,\\n\\n                 # General Parsing Configuration\\n                 dtype=None,\\n                 engine=None,\\n                 converters=None,\\n                 true_values=None,\\n                 false_values=None,\\n                 skipinitialspace=False,\\n                 skiprows=None,\\n                 skipfooter=0,\\n                 nrows=None,\\n\\n                 # NA and Missing Data Handling\\n                 na_values=None,\\n                 keep_default_na=True,\\n                 na_filter=True,\\n                 verbose=False,\\n                 skip_blank_lines=True,\\n\\n                 # Datetime Handling\\n                 parse_dates=False,\\n                 infer_datetime_format=False,\\n                 keep_date_col=False,\\n                 date_parser=None,\\n                 dayfirst=False,\\n\\n                 # Iteration\\n                 iterator=False,\\n                 chunksize=None,\\n\\n                 # Quoting, Compression, and File Format\\n                 compression=\\'infer\\',\\n                 thousands=None,\\n                 decimal=b\\'.\\',\\n                 lineterminator=None,\\n                 quotechar=\\'\"\\',\\n                 quoting=csv.QUOTE_MINIMAL,\\n                 doublequote=True,\\n                 escapechar=None,\\n                 comment=None,\\n                 encoding=None,\\n                 dialect=None,\\n                 tupleize_cols=None,\\n\\n                 # Error Handling\\n                 error_bad_lines=True,\\n                 warn_bad_lines=True,\\n\\n                 # Internal\\n                 delim_whitespace=False,\\n                 low_memory=_c_parser_defaults[\\'low_memory\\'],\\n                 memory_map=False,\\n                 float_precision=None):\\n\\n        # deprecate read_table GH21948\\n        if name == \"read_table\":\\n            if sep is False and delimiter is None:\\n                warnings.warn(\"read_table is deprecated, use read_csv \"\\n                              \"instead, passing sep=\\'\\\\\\\\t\\'.\",\\n                              FutureWarning, stacklevel=2)\\n            else:\\n                warnings.warn(\"read_table is deprecated, use read_csv \"\\n                              \"instead.\",\\n                              FutureWarning, stacklevel=2)\\n            if sep is False:\\n                sep = default_sep\\n\\n        # gh-23761\\n        #\\n        # When a dialect is passed, it overrides any of the overlapping\\n        # parameters passed in directly. We don\\'t want to warn if the\\n        # default parameters were passed in (since it probably means\\n        # that the user didn\\'t pass them in explicitly in the first place).\\n        #\\n        # \"delimiter\" is the annoying corner case because we alias it to\\n        # \"sep\" before doing comparison to the dialect values later on.\\n        # Thus, we need a flag to indicate that we need to \"override\"\\n        # the comparison to dialect values by checking if default values\\n        # for BOTH \"delimiter\" and \"sep\" were provided.\\n        if dialect is not None:\\n            sep_override = delimiter is None and sep == default_sep\\n            kwds = dict(sep_override=sep_override)\\n        else:\\n            kwds = dict()\\n\\n        # Alias sep -> delimiter.\\n        if delimiter is None:\\n            delimiter = sep\\n\\n        if delim_whitespace and delimiter != default_sep:\\n            raise ValueError(\"Specified a delimiter with both sep and\"\\n                             \" delim_whitespace=True; you can only\"\\n                             \" specify one.\")\\n\\n        if engine is not None:\\n            engine_specified = True\\n        else:\\n            engine = \\'c\\'\\n            engine_specified = False\\n\\n        kwds.update(delimiter=delimiter,\\n                    engine=engine,\\n                    dialect=dialect,\\n                    compression=compression,\\n                    engine_specified=engine_specified,\\n\\n                    doublequote=doublequote,\\n                    escapechar=escapechar,\\n                    quotechar=quotechar,\\n                    quoting=quoting,\\n                    skipinitialspace=skipinitialspace,\\n                    lineterminator=lineterminator,\\n\\n                    header=header,\\n                    index_col=index_col,\\n                    names=names,\\n                    prefix=prefix,\\n                    skiprows=skiprows,\\n                    skipfooter=skipfooter,\\n                    na_values=na_values,\\n                    true_values=true_values,\\n                    false_values=false_values,\\n                    keep_default_na=keep_default_na,\\n                    thousands=thousands,\\n                    comment=comment,\\n                    decimal=decimal,\\n\\n                    parse_dates=parse_dates,\\n                    keep_date_col=keep_date_col,\\n                    dayfirst=dayfirst,\\n                    date_parser=date_parser,\\n\\n                    nrows=nrows,\\n                    iterator=iterator,\\n                    chunksize=chunksize,\\n                    converters=converters,\\n                    dtype=dtype,\\n                    usecols=usecols,\\n                    verbose=verbose,\\n                    encoding=encoding,\\n                    squeeze=squeeze,\\n                    memory_map=memory_map,\\n                    float_precision=float_precision,\\n\\n                    na_filter=na_filter,\\n                    delim_whitespace=delim_whitespace,\\n                    warn_bad_lines=warn_bad_lines,\\n                    error_bad_lines=error_bad_lines,\\n                    low_memory=low_memory,\\n                    mangle_dupe_cols=mangle_dupe_cols,\\n                    tupleize_cols=tupleize_cols,\\n                    infer_datetime_format=infer_datetime_format,\\n                    skip_blank_lines=skip_blank_lines)\\n\\n        return _read(filepath_or_buffer, kwds)\\n'"
      ]
     },
     "execution_count": 105,
     "metadata": {},
     "output_type": "execute_result"
    }
   ],
   "source": [
    "import pandas as pd\n",
    "inspect.getsource(pd.read_csv)"
   ]
  },
  {
   "cell_type": "code",
   "execution_count": 108,
   "metadata": {},
   "outputs": [],
   "source": [
    "from itertools import count\n",
    "count??"
   ]
  },
  {
   "cell_type": "code",
   "execution_count": 111,
   "metadata": {},
   "outputs": [
    {
     "data": {
      "text/plain": [
       "0"
      ]
     },
     "execution_count": 111,
     "metadata": {},
     "output_type": "execute_result"
    }
   ],
   "source": [
    "a = count()\n",
    "next(a)"
   ]
  },
  {
   "cell_type": "code",
   "execution_count": 112,
   "metadata": {},
   "outputs": [
    {
     "data": {
      "text/plain": [
       "1"
      ]
     },
     "execution_count": 112,
     "metadata": {},
     "output_type": "execute_result"
    }
   ],
   "source": [
    "next(a)   #무한루프(While True:) "
   ]
  },
  {
   "cell_type": "code",
   "execution_count": 113,
   "metadata": {},
   "outputs": [],
   "source": [
    "#언더바 기능 6가지\n",
    "#1. 가장 최근 기록된 값\n",
    "#2. (뒤에 숫자붙이면) 해당 line output\n",
    "#3. unpacking 거부용. (_, prime in zip()    => 'prime만 쓰겠다')"
   ]
  },
  {
   "cell_type": "code",
   "execution_count": null,
   "metadata": {},
   "outputs": [],
   "source": []
  }
 ],
 "metadata": {
  "kernelspec": {
   "display_name": "Python 3",
   "language": "python",
   "name": "python3"
  },
  "language_info": {
   "codemirror_mode": {
    "name": "ipython",
    "version": 3
   },
   "file_extension": ".py",
   "mimetype": "text/x-python",
   "name": "python",
   "nbconvert_exporter": "python",
   "pygments_lexer": "ipython3",
   "version": "3.7.3"
  }
 },
 "nbformat": 4,
 "nbformat_minor": 2
}
