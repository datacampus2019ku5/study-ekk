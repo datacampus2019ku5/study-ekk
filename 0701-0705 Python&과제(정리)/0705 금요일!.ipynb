{
 "cells": [
  {
   "cell_type": "markdown",
   "metadata": {},
   "source": [
    "## 클래스 메소드 / 클래스 변수 / 인스턴스 메소드 / 인스턴스 변수"
   ]
  },
  {
   "cell_type": "code",
   "execution_count": 2,
   "metadata": {},
   "outputs": [],
   "source": [
    "class A:\n",
    "    a = 1             #클래스 변수\n",
    "    def x(cls):\n",
    "        return a      #인스턴스 변수"
   ]
  },
  {
   "cell_type": "code",
   "execution_count": 3,
   "metadata": {},
   "outputs": [
    {
     "data": {
      "text/plain": [
       "<__main__.A at 0x12e3f63c3c8>"
      ]
     },
     "execution_count": 3,
     "metadata": {},
     "output_type": "execute_result"
    }
   ],
   "source": [
    "a = A()\n",
    "a.x()"
   ]
  },
  {
   "cell_type": "code",
   "execution_count": 4,
   "metadata": {},
   "outputs": [],
   "source": [
    "#기본적으로 인스턴스 변수는 클래스 변수에 접근하기 위해 "
   ]
  },
  {
   "cell_type": "code",
   "execution_count": 5,
   "metadata": {},
   "outputs": [],
   "source": [
    "class A:\n",
    "    a = 1          \n",
    "    def x(cls):\n",
    "        return A.a "
   ]
  },
  {
   "cell_type": "code",
   "execution_count": 6,
   "metadata": {},
   "outputs": [
    {
     "data": {
      "text/plain": [
       "1"
      ]
     },
     "execution_count": 6,
     "metadata": {},
     "output_type": "execute_result"
    }
   ],
   "source": [
    "a =A()\n",
    "a.x()"
   ]
  },
  {
   "cell_type": "code",
   "execution_count": 7,
   "metadata": {
    "collapsed": true
   },
   "outputs": [
    {
     "data": {
      "text/plain": [
       "['__class__',\n",
       " '__delattr__',\n",
       " '__dict__',\n",
       " '__dir__',\n",
       " '__doc__',\n",
       " '__eq__',\n",
       " '__format__',\n",
       " '__ge__',\n",
       " '__getattribute__',\n",
       " '__gt__',\n",
       " '__hash__',\n",
       " '__init__',\n",
       " '__init_subclass__',\n",
       " '__le__',\n",
       " '__lt__',\n",
       " '__module__',\n",
       " '__ne__',\n",
       " '__new__',\n",
       " '__reduce__',\n",
       " '__reduce_ex__',\n",
       " '__repr__',\n",
       " '__setattr__',\n",
       " '__sizeof__',\n",
       " '__str__',\n",
       " '__subclasshook__',\n",
       " '__weakref__',\n",
       " 'a',\n",
       " 'x']"
      ]
     },
     "execution_count": 7,
     "metadata": {},
     "output_type": "execute_result"
    }
   ],
   "source": [
    "# __class__\n",
    "dir(a)"
   ]
  },
  {
   "cell_type": "code",
   "execution_count": 8,
   "metadata": {},
   "outputs": [
    {
     "data": {
      "text/plain": [
       "__main__.A"
      ]
     },
     "execution_count": 8,
     "metadata": {},
     "output_type": "execute_result"
    }
   ],
   "source": [
    "a.__class__"
   ]
  },
  {
   "cell_type": "code",
   "execution_count": 9,
   "metadata": {},
   "outputs": [],
   "source": [
    "class A:\n",
    "    a = 1        \n",
    "    def x(self):\n",
    "        return self.__class__.a "
   ]
  },
  {
   "cell_type": "code",
   "execution_count": 10,
   "metadata": {},
   "outputs": [
    {
     "data": {
      "text/plain": [
       "1"
      ]
     },
     "execution_count": 10,
     "metadata": {},
     "output_type": "execute_result"
    }
   ],
   "source": [
    "b = A()\n",
    "b.x()      # == a"
   ]
  },
  {
   "cell_type": "code",
   "execution_count": 12,
   "metadata": {},
   "outputs": [
    {
     "data": {
      "text/plain": [
       "__main__.A"
      ]
     },
     "execution_count": 12,
     "metadata": {},
     "output_type": "execute_result"
    }
   ],
   "source": [
    "# __class__  == type()     #인스턴스의 타입을 알려주는 애\n",
    "type(b)"
   ]
  },
  {
   "cell_type": "code",
   "execution_count": 13,
   "metadata": {},
   "outputs": [
    {
     "data": {
      "text/plain": [
       "__main__.A"
      ]
     },
     "execution_count": 13,
     "metadata": {},
     "output_type": "execute_result"
    }
   ],
   "source": [
    "b.__class__"
   ]
  },
  {
   "cell_type": "code",
   "execution_count": 14,
   "metadata": {},
   "outputs": [],
   "source": [
    "class A:\n",
    "    a = 1        \n",
    "    def x(self):\n",
    "        return type(self).a        #위의 것과 동일하다"
   ]
  },
  {
   "cell_type": "code",
   "execution_count": 15,
   "metadata": {},
   "outputs": [
    {
     "data": {
      "text/plain": [
       "True"
      ]
     },
     "execution_count": 15,
     "metadata": {},
     "output_type": "execute_result"
    }
   ],
   "source": [
    "isinstance(1, int)         #(obj=객체, class_or_tuple, /)   #1이 저 클래스or튜플에서 인스턴스인지 아닌지"
   ]
  },
  {
   "cell_type": "code",
   "execution_count": 16,
   "metadata": {},
   "outputs": [
    {
     "data": {
      "text/plain": [
       "True"
      ]
     },
     "execution_count": 16,
     "metadata": {},
     "output_type": "execute_result"
    }
   ],
   "source": [
    "issubclass(A, object)      #(cls, class_or_tuple, /)"
   ]
  },
  {
   "cell_type": "code",
   "execution_count": 17,
   "metadata": {},
   "outputs": [
    {
     "data": {
      "text/plain": [
       "type"
      ]
     },
     "execution_count": 17,
     "metadata": {},
     "output_type": "execute_result"
    }
   ],
   "source": [
    "a = 1\n",
    "type(type(a))       #type(int)    #int의 type      #  wrapperclass"
   ]
  },
  {
   "cell_type": "code",
   "execution_count": 18,
   "metadata": {},
   "outputs": [
    {
     "data": {
      "text/plain": [
       "type"
      ]
     },
     "execution_count": 18,
     "metadata": {},
     "output_type": "execute_result"
    }
   ],
   "source": [
    "type     #type(object) -> the object's type  (인자가 1개일때)      type(object_or_name, bases, dict)  ()\n",
    "# 함수 선언 안해도 함수 ok => lambda\n",
    "# 클래스도 마찬가지 => type (....?) => meta class  (사이킷에서 많이 나옴. 클래스의 행동을 파이썬의 기본적 행동이 아닌 다른것을 제공가능.)"
   ]
  },
  {
   "cell_type": "code",
   "execution_count": 20,
   "metadata": {},
   "outputs": [],
   "source": [
    "a = type('Moon', (int,),{})        #meta class 생성"
   ]
  },
  {
   "cell_type": "code",
   "execution_count": 21,
   "metadata": {},
   "outputs": [
    {
     "data": {
      "text/plain": [
       "3"
      ]
     },
     "execution_count": 21,
     "metadata": {},
     "output_type": "execute_result"
    }
   ],
   "source": [
    "a(3)                #bases : 상속받는 객체. (여기선 int)"
   ]
  },
  {
   "cell_type": "code",
   "execution_count": 22,
   "metadata": {},
   "outputs": [
    {
     "data": {
      "text/plain": [
       "__main__.Moon"
      ]
     },
     "execution_count": 22,
     "metadata": {},
     "output_type": "execute_result"
    }
   ],
   "source": [
    "x = a(3)\n",
    "type(x)"
   ]
  },
  {
   "cell_type": "code",
   "execution_count": 23,
   "metadata": {},
   "outputs": [
    {
     "data": {
      "text/plain": [
       "'\\nclass Moon(int):\\n    pass\\n'"
      ]
     },
     "execution_count": 23,
     "metadata": {},
     "output_type": "execute_result"
    }
   ],
   "source": [
    "\"\"\"    ==\n",
    "class Moon(int):\n",
    "    pass\n",
    "\"\"\""
   ]
  },
  {
   "cell_type": "code",
   "execution_count": 26,
   "metadata": {},
   "outputs": [],
   "source": [
    "#객체를 type 하면 -> type명     type(object) == (type name)\n",
    "#클래스를 type하면 -> type      type(class) == type\n",
    "#↑ type의 용법1 : type을 알아내는 방법\n",
    "# type의 용법2 : 클래스를 만드는 역할\n",
    "# type의 용법3 : metaclass 그 자체일 때"
   ]
  },
  {
   "cell_type": "code",
   "execution_count": 28,
   "metadata": {},
   "outputs": [],
   "source": [
    "#a = type(x, (int,), {})\n",
    "#a.__bases__ == (int,)\n",
    "\n",
    "#Python: 다중 상속 언어 => 첫번째 애가 제일 중요함. => bases : 상속받는 모든 아이들이 다나옴."
   ]
  },
  {
   "cell_type": "code",
   "execution_count": 29,
   "metadata": {},
   "outputs": [],
   "source": [
    "#상속(inheritance)\n",
    "class A:    #생략되있으면 최상위 클래스(object) 를 상속받는다. => class A:   == class A(object)\n",
    "    pass     "
   ]
  },
  {
   "cell_type": "code",
   "execution_count": 30,
   "metadata": {},
   "outputs": [
    {
     "data": {
      "text/plain": [
       "type"
      ]
     },
     "execution_count": 30,
     "metadata": {},
     "output_type": "execute_result"
    }
   ],
   "source": [
    "type(object)      #결과가 type ==> object 는 class"
   ]
  },
  {
   "cell_type": "code",
   "execution_count": 32,
   "metadata": {},
   "outputs": [
    {
     "data": {
      "text/plain": [
       "['__class__',\n",
       " '__delattr__',\n",
       " '__dict__',\n",
       " '__dir__',\n",
       " '__doc__',\n",
       " '__eq__',\n",
       " '__format__',\n",
       " '__ge__',\n",
       " '__getattribute__',\n",
       " '__gt__',\n",
       " '__hash__',\n",
       " '__init__',\n",
       " '__init_subclass__',\n",
       " '__le__',\n",
       " '__lt__',\n",
       " '__module__',\n",
       " '__ne__',\n",
       " '__new__',\n",
       " '__reduce__',\n",
       " '__reduce_ex__',\n",
       " '__repr__',\n",
       " '__setattr__',\n",
       " '__sizeof__',\n",
       " '__str__',\n",
       " '__subclasshook__',\n",
       " '__weakref__']"
      ]
     },
     "execution_count": 32,
     "metadata": {},
     "output_type": "execute_result"
    }
   ],
   "source": [
    "dir(A)        #__init__ : 생성자"
   ]
  },
  {
   "cell_type": "code",
   "execution_count": 33,
   "metadata": {},
   "outputs": [
    {
     "data": {
      "text/plain": [
       "<method '__dir__' of 'object' objects>"
      ]
     },
     "execution_count": 33,
     "metadata": {},
     "output_type": "execute_result"
    }
   ],
   "source": [
    "# dir    vs     __dir__\n",
    "A.__dir__"
   ]
  },
  {
   "cell_type": "code",
   "execution_count": 34,
   "metadata": {},
   "outputs": [
    {
     "ename": "TypeError",
     "evalue": "descriptor '__dir__' of 'object' object needs an argument",
     "output_type": "error",
     "traceback": [
      "\u001b[1;31m---------------------------------------------------------------------------\u001b[0m",
      "\u001b[1;31mTypeError\u001b[0m                                 Traceback (most recent call last)",
      "\u001b[1;32m<ipython-input-34-f4bd825d514e>\u001b[0m in \u001b[0;36m<module>\u001b[1;34m\u001b[0m\n\u001b[1;32m----> 1\u001b[1;33m \u001b[0mA\u001b[0m\u001b[1;33m.\u001b[0m\u001b[0m__dir__\u001b[0m\u001b[1;33m(\u001b[0m\u001b[1;33m)\u001b[0m\u001b[1;33m\u001b[0m\u001b[1;33m\u001b[0m\u001b[0m\n\u001b[0m",
      "\u001b[1;31mTypeError\u001b[0m: descriptor '__dir__' of 'object' object needs an argument"
     ]
    }
   ],
   "source": [
    "A.__dir__()     #TypeError: descriptor '__dir__' of 'object' object needs an argument"
   ]
  },
  {
   "cell_type": "code",
   "execution_count": 35,
   "metadata": {},
   "outputs": [
    {
     "data": {
      "text/plain": [
       "['__module__',\n",
       " '__dict__',\n",
       " '__weakref__',\n",
       " '__doc__',\n",
       " '__repr__',\n",
       " '__hash__',\n",
       " '__str__',\n",
       " '__getattribute__',\n",
       " '__setattr__',\n",
       " '__delattr__',\n",
       " '__lt__',\n",
       " '__le__',\n",
       " '__eq__',\n",
       " '__ne__',\n",
       " '__gt__',\n",
       " '__ge__',\n",
       " '__init__',\n",
       " '__new__',\n",
       " '__reduce_ex__',\n",
       " '__reduce__',\n",
       " '__subclasshook__',\n",
       " '__init_subclass__',\n",
       " '__format__',\n",
       " '__sizeof__',\n",
       " '__dir__',\n",
       " '__class__']"
      ]
     },
     "execution_count": 35,
     "metadata": {},
     "output_type": "execute_result"
    }
   ],
   "source": [
    "# Descriptor : 접근제한자.\n",
    "a = A()\n",
    "a.__dir__()"
   ]
  },
  {
   "cell_type": "code",
   "execution_count": 36,
   "metadata": {},
   "outputs": [
    {
     "data": {
      "text/plain": [
       "set()"
      ]
     },
     "execution_count": 36,
     "metadata": {},
     "output_type": "execute_result"
    }
   ],
   "source": [
    "# dir vs __dir__ : (함수형)정렬을 해준다/(언더바)안해준다, \n",
    "set(dir(a)) - set(a.__dir__())                #기능은 완전 같다\n",
    "# __ 기능은 기능상 대응되는 함수가 존재한다."
   ]
  },
  {
   "cell_type": "code",
   "execution_count": 37,
   "metadata": {},
   "outputs": [
    {
     "ename": "TypeError",
     "evalue": "descriptor '__dir__' of 'object' object needs an argument",
     "output_type": "error",
     "traceback": [
      "\u001b[1;31m---------------------------------------------------------------------------\u001b[0m",
      "\u001b[1;31mTypeError\u001b[0m                                 Traceback (most recent call last)",
      "\u001b[1;32m<ipython-input-37-2f5d2fe43b84>\u001b[0m in \u001b[0;36m<module>\u001b[1;34m\u001b[0m\n\u001b[1;32m----> 1\u001b[1;33m \u001b[0mA\u001b[0m\u001b[1;33m.\u001b[0m\u001b[0m__dir__\u001b[0m\u001b[1;33m(\u001b[0m\u001b[1;33m)\u001b[0m\u001b[1;33m\u001b[0m\u001b[1;33m\u001b[0m\u001b[0m\n\u001b[0m\u001b[0;32m      2\u001b[0m \u001b[1;31m# dir은 함수, 인스턴스 모두 사용가능 but __dir__은 인스턴스에만 사용 가능.\u001b[0m\u001b[1;33m\u001b[0m\u001b[1;33m\u001b[0m\u001b[1;33m\u001b[0m\u001b[0m\n",
      "\u001b[1;31mTypeError\u001b[0m: descriptor '__dir__' of 'object' object needs an argument"
     ]
    }
   ],
   "source": [
    "A.__dir__()\n",
    "# dir은 함수, 인스턴스 모두 사용가능 but __dir__은 인스턴스에만 사용 가능."
   ]
  },
  {
   "cell_type": "code",
   "execution_count": 40,
   "metadata": {},
   "outputs": [],
   "source": [
    "#다중상속: 상속 클래스 이름 뒤에 콤마(,) 붙이고 계속 이어나가면 됨.\n",
    "#부모의 값을 자식이 상속받아 바꾼다(재정의) : Overriding\n",
    "#변수, 메소드에서 가능 (단, Python에서는 이름이 같으면 같은 메소드이다. 조심!)\n",
    "\n",
    "class A:\n",
    "    a = 1\n",
    "    def x(self):\n",
    "        return 1\n",
    "class B(A):               #단일 상속\n",
    "    a = 1\n",
    "    def x(self,a):\n",
    "        return a"
   ]
  },
  {
   "cell_type": "code",
   "execution_count": 41,
   "metadata": {},
   "outputs": [
    {
     "ename": "TypeError",
     "evalue": "x() missing 1 required positional argument: 'a'",
     "output_type": "error",
     "traceback": [
      "\u001b[1;31m---------------------------------------------------------------------------\u001b[0m",
      "\u001b[1;31mTypeError\u001b[0m                                 Traceback (most recent call last)",
      "\u001b[1;32m<ipython-input-41-e017e03df133>\u001b[0m in \u001b[0;36m<module>\u001b[1;34m\u001b[0m\n\u001b[0;32m      1\u001b[0m \u001b[0mb\u001b[0m \u001b[1;33m=\u001b[0m \u001b[0mB\u001b[0m\u001b[1;33m(\u001b[0m\u001b[1;33m)\u001b[0m\u001b[1;33m\u001b[0m\u001b[1;33m\u001b[0m\u001b[0m\n\u001b[1;32m----> 2\u001b[1;33m \u001b[0mb\u001b[0m\u001b[1;33m.\u001b[0m\u001b[0mx\u001b[0m\u001b[1;33m(\u001b[0m\u001b[1;33m)\u001b[0m\u001b[1;33m\u001b[0m\u001b[1;33m\u001b[0m\u001b[0m\n\u001b[0m",
      "\u001b[1;31mTypeError\u001b[0m: x() missing 1 required positional argument: 'a'"
     ]
    }
   ],
   "source": [
    "b = B()\n",
    "b.x()       #A의 x를 불러올 수 없다.(B의 x랑 이름이 같아 부모클래스까지 안간다)"
   ]
  },
  {
   "cell_type": "code",
   "execution_count": 42,
   "metadata": {},
   "outputs": [],
   "source": [
    "class A:\n",
    "    a = 1\n",
    "    def x(self):\n",
    "        return 1\n",
    "class B(A,):\n",
    "    a = 1\n",
    "    def x(self, a):\n",
    "        #return a\n",
    "        #return A.a #상속받은 A클래스에 있는 a메소드 불러서 사용하기\n",
    "        #return self.__class__ __base__.a\n",
    "        return super().x() #첫번째 클래스의 객체를 반환\n",
    "    #다중상속 시에도 super가 중요함."
   ]
  },
  {
   "cell_type": "code",
   "execution_count": 43,
   "metadata": {},
   "outputs": [
    {
     "data": {
      "text/plain": [
       "1"
      ]
     },
     "execution_count": 43,
     "metadata": {},
     "output_type": "execute_result"
    }
   ],
   "source": [
    "b = B()\n",
    "b.x(3)"
   ]
  },
  {
   "cell_type": "code",
   "execution_count": 44,
   "metadata": {},
   "outputs": [],
   "source": [
    "class A:\n",
    "    a = 1\n",
    "    def x(self,a):\n",
    "        return a\n",
    "class B(A):\n",
    "    a = 1\n",
    "    def x(self):\n",
    "        return super().x(A.a)        #인스턴스를 반환"
   ]
  },
  {
   "cell_type": "code",
   "execution_count": 45,
   "metadata": {},
   "outputs": [
    {
     "data": {
      "text/plain": [
       "1"
      ]
     },
     "execution_count": 45,
     "metadata": {},
     "output_type": "execute_result"
    }
   ],
   "source": [
    "b = B()\n",
    "b.x()"
   ]
  },
  {
   "cell_type": "code",
   "execution_count": 46,
   "metadata": {},
   "outputs": [
    {
     "ename": "TypeError",
     "evalue": "Cannot create a consistent method resolution\norder (MRO) for bases A, B",
     "output_type": "error",
     "traceback": [
      "\u001b[1;31m---------------------------------------------------------------------------\u001b[0m",
      "\u001b[1;31mTypeError\u001b[0m                                 Traceback (most recent call last)",
      "\u001b[1;32m<ipython-input-46-921953294741>\u001b[0m in \u001b[0;36m<module>\u001b[1;34m\u001b[0m\n\u001b[0;32m      8\u001b[0m     \u001b[1;32mdef\u001b[0m \u001b[0m__init__\u001b[0m\u001b[1;33m(\u001b[0m\u001b[0mself\u001b[0m\u001b[1;33m)\u001b[0m\u001b[1;33m:\u001b[0m\u001b[1;33m\u001b[0m\u001b[1;33m\u001b[0m\u001b[0m\n\u001b[0;32m      9\u001b[0m         \u001b[0mprint\u001b[0m\u001b[1;33m(\u001b[0m\u001b[0mC\u001b[0m\u001b[1;33m)\u001b[0m\u001b[1;33m\u001b[0m\u001b[1;33m\u001b[0m\u001b[0m\n\u001b[1;32m---> 10\u001b[1;33m \u001b[1;32mclass\u001b[0m \u001b[0mD\u001b[0m\u001b[1;33m(\u001b[0m\u001b[0mA\u001b[0m\u001b[1;33m,\u001b[0m\u001b[0mB\u001b[0m\u001b[1;33m)\u001b[0m\u001b[1;33m:\u001b[0m\u001b[1;33m\u001b[0m\u001b[1;33m\u001b[0m\u001b[0m\n\u001b[0m\u001b[0;32m     11\u001b[0m     \u001b[1;32mdef\u001b[0m \u001b[0m__init__\u001b[0m\u001b[1;33m(\u001b[0m\u001b[0mself\u001b[0m\u001b[1;33m)\u001b[0m\u001b[1;33m:\u001b[0m\u001b[1;33m\u001b[0m\u001b[1;33m\u001b[0m\u001b[0m\n\u001b[0;32m     12\u001b[0m         \u001b[0mprint\u001b[0m\u001b[1;33m(\u001b[0m\u001b[0mD\u001b[0m\u001b[1;33m)\u001b[0m\u001b[1;33m\u001b[0m\u001b[1;33m\u001b[0m\u001b[0m\n",
      "\u001b[1;31mTypeError\u001b[0m: Cannot create a consistent method resolution\norder (MRO) for bases A, B"
     ]
    }
   ],
   "source": [
    "class A:\n",
    "    def __init__(self):\n",
    "        print(A)\n",
    "class B(A):\n",
    "    def __init__(self):\n",
    "        print(B)\n",
    "class C(A):\n",
    "    def __init__(self):\n",
    "        print(C)\n",
    "class D(A,B):\n",
    "    def __init__(self):\n",
    "        print(D)\n",
    "# 다이아몬드 상속문제\n",
    "# B  →   A    ←  C\n",
    "# B  ←   D    →  C\n",
    "\n",
    "# TypeError: Cannot create a consistent method resolution\n",
    "# order (MRO) for bases A, B\n",
    "#MRO : 다중상속 문제(클래스 메소드)"
   ]
  },
  {
   "cell_type": "code",
   "execution_count": 47,
   "metadata": {},
   "outputs": [],
   "source": [
    "class A:\n",
    "    def __init__(self):\n",
    "        print(A)\n",
    "class B(A):\n",
    "    def __init__(self):\n",
    "        print(B)\n",
    "class C(A):\n",
    "    def __init__(self):\n",
    "        print(C)\n",
    "class D(B,C):\n",
    "    def __init__(self):\n",
    "        print(D)"
   ]
  },
  {
   "cell_type": "code",
   "execution_count": 48,
   "metadata": {},
   "outputs": [
    {
     "data": {
      "text/plain": [
       "[__main__.D, __main__.B, __main__.C, __main__.A, object]"
      ]
     },
     "execution_count": 48,
     "metadata": {},
     "output_type": "execute_result"
    }
   ],
   "source": [
    "D.mro()    #결과 : 리스트(순서가 중요하다.)  (D -> B -> C -> A)   \n",
    "           #중요한 차례를 순서대로 알 수 있다."
   ]
  },
  {
   "cell_type": "code",
   "execution_count": 49,
   "metadata": {},
   "outputs": [],
   "source": [
    "class A:\n",
    "    def __init__(self):\n",
    "        print(A)\n",
    "class B(A):\n",
    "    def __init__(self):\n",
    "        print(B)\n",
    "class C(A):\n",
    "    def __init__(self):\n",
    "        print(C)\n",
    "class D(C,B):\n",
    "    def __init__(self):\n",
    "        print(D)"
   ]
  },
  {
   "cell_type": "code",
   "execution_count": 50,
   "metadata": {},
   "outputs": [
    {
     "data": {
      "text/plain": [
       "[__main__.D, __main__.C, __main__.B, __main__.A, object]"
      ]
     },
     "execution_count": 50,
     "metadata": {},
     "output_type": "execute_result"
    }
   ],
   "source": [
    "D.mro()       #상속을 2개 받으면 첫번째꺼부터 나온다. #얽혀서 중요 순서를 모를 때는 .mro() 를 써본다."
   ]
  },
  {
   "cell_type": "code",
   "execution_count": 52,
   "metadata": {},
   "outputs": [
    {
     "data": {
      "text/plain": [
       "(__main__.D, __main__.C, __main__.B, __main__.A, object)"
      ]
     },
     "execution_count": 52,
     "metadata": {},
     "output_type": "execute_result"
    }
   ],
   "source": [
    "D.__mro__    #메소드 방식 : 튜플로 나온다."
   ]
  },
  {
   "cell_type": "code",
   "execution_count": 53,
   "metadata": {},
   "outputs": [
    {
     "name": "stdout",
     "output_type": "stream",
     "text": [
      "<class '__main__.D'>\n"
     ]
    },
    {
     "ename": "AttributeError",
     "evalue": "'D' object has no attribute 'mro'",
     "output_type": "error",
     "traceback": [
      "\u001b[1;31m---------------------------------------------------------------------------\u001b[0m",
      "\u001b[1;31mAttributeError\u001b[0m                            Traceback (most recent call last)",
      "\u001b[1;32m<ipython-input-53-867eaa8d5d33>\u001b[0m in \u001b[0;36m<module>\u001b[1;34m\u001b[0m\n\u001b[0;32m      1\u001b[0m \u001b[0md\u001b[0m \u001b[1;33m=\u001b[0m \u001b[0mD\u001b[0m\u001b[1;33m(\u001b[0m\u001b[1;33m)\u001b[0m\u001b[1;33m\u001b[0m\u001b[1;33m\u001b[0m\u001b[0m\n\u001b[1;32m----> 2\u001b[1;33m \u001b[0md\u001b[0m\u001b[1;33m.\u001b[0m\u001b[0mmro\u001b[0m\u001b[1;33m(\u001b[0m\u001b[1;33m)\u001b[0m\u001b[1;33m\u001b[0m\u001b[1;33m\u001b[0m\u001b[0m\n\u001b[0m",
      "\u001b[1;31mAttributeError\u001b[0m: 'D' object has no attribute 'mro'"
     ]
    }
   ],
   "source": [
    "d = D()          \n",
    "d.mro()              "
   ]
  },
  {
   "cell_type": "code",
   "execution_count": 54,
   "metadata": {},
   "outputs": [
    {
     "data": {
      "text/plain": [
       "[__main__.A, object]"
      ]
     },
     "execution_count": 54,
     "metadata": {},
     "output_type": "execute_result"
    }
   ],
   "source": [
    "A.mro()"
   ]
  },
  {
   "cell_type": "code",
   "execution_count": 55,
   "metadata": {},
   "outputs": [
    {
     "data": {
      "text/plain": [
       "[__main__.B, __main__.A, object]"
      ]
     },
     "execution_count": 55,
     "metadata": {},
     "output_type": "execute_result"
    }
   ],
   "source": [
    "B.mro()           #object가 나오지 않아도 당황하지 않아도 된다."
   ]
  },
  {
   "cell_type": "code",
   "execution_count": 56,
   "metadata": {},
   "outputs": [],
   "source": [
    "# 다중상속할 때는 => mro() 체크해본다.  (자기가 상속한 부모 객체를 띄워줌)\n",
    "# 남이 쓴걸 갖고올 때는 상속 구조를 잘 모르기 때문."
   ]
  },
  {
   "cell_type": "code",
   "execution_count": 57,
   "metadata": {},
   "outputs": [
    {
     "data": {
      "text/plain": [
       "(__main__.C, __main__.B)"
      ]
     },
     "execution_count": 57,
     "metadata": {},
     "output_type": "execute_result"
    }
   ],
   "source": [
    "D.__bases__    #클래스만 알려줌.            #mro는 어떻게 실행되는지 메소드까지 알려줌."
   ]
  },
  {
   "cell_type": "code",
   "execution_count": 60,
   "metadata": {},
   "outputs": [],
   "source": [
    "class A:\n",
    "    def __init__(self):\n",
    "        print(A)\n",
    "class B(A):\n",
    "    def __init__(self):\n",
    "        A.__init__(self)\n",
    "        print(B)\n",
    "class C(A):\n",
    "    def __init__(self):\n",
    "        A.__init__(self)\n",
    "        print(C)\n",
    "class D(C,B):\n",
    "    def __init__(self):\n",
    "        B.__init__(self)\n",
    "        C.__init__(self)\n",
    "        print(D)"
   ]
  },
  {
   "cell_type": "code",
   "execution_count": 61,
   "metadata": {},
   "outputs": [
    {
     "name": "stdout",
     "output_type": "stream",
     "text": [
      "<class '__main__.A'>\n",
      "<class '__main__.B'>\n",
      "<class '__main__.A'>\n",
      "<class '__main__.C'>\n",
      "<class '__main__.D'>\n"
     ]
    }
   ],
   "source": [
    "d = D()                  # A -> B / A-> C / B, C -> D"
   ]
  },
  {
   "cell_type": "code",
   "execution_count": 64,
   "metadata": {},
   "outputs": [],
   "source": [
    "class A:\n",
    "    def __init__(self):\n",
    "        print(A)\n",
    "class B(A):\n",
    "    def __init__(self):\n",
    "        print(B)\n",
    "        A.__init__(self)\n",
    "class C(A):\n",
    "    def __init__(self):\n",
    "        print(C)\n",
    "        A.__init__(self)\n",
    "class D(C,B):\n",
    "    def __init__(self):\n",
    "        B.__init__(self)\n",
    "        C.__init__(self)\n",
    "        print(D)"
   ]
  },
  {
   "cell_type": "code",
   "execution_count": 65,
   "metadata": {},
   "outputs": [
    {
     "name": "stdout",
     "output_type": "stream",
     "text": [
      "<class '__main__.B'>\n",
      "<class '__main__.A'>\n",
      "<class '__main__.C'>\n",
      "<class '__main__.A'>\n",
      "<class '__main__.D'>\n"
     ]
    }
   ],
   "source": [
    "d = D()"
   ]
  },
  {
   "cell_type": "code",
   "execution_count": 67,
   "metadata": {},
   "outputs": [
    {
     "data": {
      "text/plain": [
       "1"
      ]
     },
     "execution_count": 67,
     "metadata": {},
     "output_type": "execute_result"
    }
   ],
   "source": [
    "class T:\n",
    "    def u(self):\n",
    "        return 1\n",
    "t = T()\n",
    "T.u(t)"
   ]
  },
  {
   "cell_type": "code",
   "execution_count": 68,
   "metadata": {},
   "outputs": [
    {
     "data": {
      "text/plain": [
       "1"
      ]
     },
     "execution_count": 68,
     "metadata": {},
     "output_type": "execute_result"
    }
   ],
   "source": [
    "t.u()"
   ]
  },
  {
   "cell_type": "code",
   "execution_count": 75,
   "metadata": {},
   "outputs": [],
   "source": [
    "class A:\n",
    "    def __init__(self):\n",
    "        print(A)\n",
    "class B(A):\n",
    "    def __init__(self):\n",
    "        super().__init__()\n",
    "        print(B)\n",
    "class C(A):\n",
    "    def __init__(self):\n",
    "        super().__init__()\n",
    "        print(C)\n",
    "class D(C,B):\n",
    "    def __init__(self):\n",
    "        super().__init__()        #super 는 인스턴스 => 뒤에 빈괄호\n",
    "        super().__init__()\n",
    "        print(D)"
   ]
  },
  {
   "cell_type": "code",
   "execution_count": 76,
   "metadata": {},
   "outputs": [
    {
     "name": "stdout",
     "output_type": "stream",
     "text": [
      "<class '__main__.A'>\n",
      "<class '__main__.B'>\n",
      "<class '__main__.C'>\n",
      "<class '__main__.A'>\n",
      "<class '__main__.B'>\n",
      "<class '__main__.C'>\n",
      "<class '__main__.D'>\n"
     ]
    }
   ],
   "source": [
    "d = D()"
   ]
  },
  {
   "cell_type": "code",
   "execution_count": 81,
   "metadata": {},
   "outputs": [],
   "source": [
    "class A:\n",
    "    def __init__(self):\n",
    "        print(A)\n",
    "class B(A):\n",
    "    def __init__(self):\n",
    "        super().__init__()\n",
    "        print(B)\n",
    "class C(A):\n",
    "    def __init__(self):\n",
    "        super().__init__()\n",
    "        print(C)\n",
    "class D(B,C):\n",
    "    def __init__(self):\n",
    "        super().__init__()        #super를 한번만 쓰면 파이썬 내부적으로 중복실행을 막아줌.\n",
    "        print(D)\n",
    "        \n",
    "#부모클래스를 콕 찍어서 쓰는 것보다 super를 쓰는 것이 낫다.(중복 실행 문제를 내부적으로 해결해줌)\n",
    "# super와 mro를 잘 활용하면 코드의 양을 (확) 줄일 수 있음.\n",
    "# 위에서 한번 실행했던 함수(클래스)는 (super가) 걸러줌\n",
    "# 다중상속일 때 중복을 막아줌 => 상속을 이용해서 뭘 만든다 하면 -> super()"
   ]
  },
  {
   "cell_type": "code",
   "execution_count": 82,
   "metadata": {},
   "outputs": [
    {
     "name": "stdout",
     "output_type": "stream",
     "text": [
      "<class '__main__.A'>\n",
      "<class '__main__.C'>\n",
      "<class '__main__.B'>\n",
      "<class '__main__.D'>\n"
     ]
    }
   ],
   "source": [
    "d = D()"
   ]
  },
  {
   "cell_type": "code",
   "execution_count": 84,
   "metadata": {},
   "outputs": [],
   "source": [
    "class A:\n",
    "    def x(self):\n",
    "        print(A)\n",
    "        \n",
    "class B(A):\n",
    "    def x(self):\n",
    "        super().x()\n",
    "        print(B)\n",
    "        \n",
    "def t(obj):\n",
    "    return obj.x()"
   ]
  },
  {
   "cell_type": "code",
   "execution_count": 85,
   "metadata": {},
   "outputs": [
    {
     "name": "stdout",
     "output_type": "stream",
     "text": [
      "<class '__main__.A'>\n"
     ]
    }
   ],
   "source": [
    "t(A())"
   ]
  },
  {
   "cell_type": "code",
   "execution_count": 86,
   "metadata": {},
   "outputs": [
    {
     "name": "stdout",
     "output_type": "stream",
     "text": [
      "<class '__main__.A'>\n",
      "<class '__main__.B'>\n"
     ]
    }
   ],
   "source": [
    "t(B())      #super때문에 A도 찍힌다"
   ]
  },
  {
   "cell_type": "code",
   "execution_count": 87,
   "metadata": {},
   "outputs": [],
   "source": [
    "class C:\n",
    "    def x(self):\n",
    "        print(C)"
   ]
  },
  {
   "cell_type": "code",
   "execution_count": 88,
   "metadata": {},
   "outputs": [
    {
     "name": "stdout",
     "output_type": "stream",
     "text": [
      "<class '__main__.C'>\n"
     ]
    }
   ],
   "source": [
    "t(C())"
   ]
  },
  {
   "cell_type": "code",
   "execution_count": 90,
   "metadata": {},
   "outputs": [],
   "source": [
    "class A:\n",
    "    def x(self):\n",
    "        print(A)\n",
    "        \n",
    "class B(A):\n",
    "    def x(self):\n",
    "        super().x()\n",
    "        print(B)\n",
    "        \n",
    "class C:\n",
    "    def x(self):\n",
    "        print(C)\n",
    "\n",
    "def t(obj):\n",
    "    return obj.x()\n",
    "        \n",
    "#타입 체크를 안하고 메소드의 이름만 같아버리면 다 되버린다(..?)\n",
    "\n",
    "#상속을 받으면 부모한테 상속받은 걸 없앨 수 (없는게 맞지만) 있다. (동적으로)"
   ]
  },
  {
   "cell_type": "code",
   "execution_count": 91,
   "metadata": {},
   "outputs": [],
   "source": [
    "#Composition : 상속을 안하고 상속을 쓸 수 있는 방법\n"
   ]
  },
  {
   "cell_type": "code",
   "execution_count": 92,
   "metadata": {},
   "outputs": [],
   "source": [
    "import gc"
   ]
  },
  {
   "cell_type": "code",
   "execution_count": 94,
   "metadata": {
    "collapsed": true
   },
   "outputs": [
    {
     "name": "stdout",
     "output_type": "stream",
     "text": [
      "Help on built-in module gc:\n",
      "\n",
      "NAME\n",
      "    gc - This module provides access to the garbage collector for reference cycles.\n",
      "\n",
      "MODULE REFERENCE\n",
      "    https://docs.python.org/3.7/library/gc\n",
      "    \n",
      "    The following documentation is automatically generated from the Python\n",
      "    source files.  It may be incomplete, incorrect or include features that\n",
      "    are considered implementation detail and may vary between Python\n",
      "    implementations.  When in doubt, consult the module reference at the\n",
      "    location listed above.\n",
      "\n",
      "DESCRIPTION\n",
      "    enable() -- Enable automatic garbage collection.\n",
      "    disable() -- Disable automatic garbage collection.\n",
      "    isenabled() -- Returns true if automatic collection is enabled.\n",
      "    collect() -- Do a full collection right now.\n",
      "    get_count() -- Return the current collection counts.\n",
      "    get_stats() -- Return list of dictionaries containing per-generation stats.\n",
      "    set_debug() -- Set debugging flags.\n",
      "    get_debug() -- Get debugging flags.\n",
      "    set_threshold() -- Set the collection thresholds.\n",
      "    get_threshold() -- Return the current the collection thresholds.\n",
      "    get_objects() -- Return a list of all objects tracked by the collector.\n",
      "    is_tracked() -- Returns true if a given object is tracked.\n",
      "    get_referrers() -- Return the list of objects that refer to an object.\n",
      "    get_referents() -- Return the list of objects that an object refers to.\n",
      "    freeze() -- Freeze all tracked objects and ignore them for future collections.\n",
      "    unfreeze() -- Unfreeze all objects in the permanent generation.\n",
      "    get_freeze_count() -- Return the number of objects in the permanent generation.\n",
      "\n",
      "FUNCTIONS\n",
      "    collect(generation=2)\n",
      "        Run the garbage collector.\n",
      "        \n",
      "        With no arguments, run a full collection.  The optional argument\n",
      "        may be an integer specifying which generation to collect.  A ValueError\n",
      "        is raised if the generation number is invalid.\n",
      "        \n",
      "        The number of unreachable objects is returned.\n",
      "    \n",
      "    disable()\n",
      "        Disable automatic garbage collection.\n",
      "    \n",
      "    enable()\n",
      "        Enable automatic garbage collection.\n",
      "    \n",
      "    freeze()\n",
      "        Freeze all current tracked objects and ignore them for future collections.\n",
      "        \n",
      "        This can be used before a POSIX fork() call to make the gc copy-on-write friendly.\n",
      "        Note: collection before a POSIX fork() call may free pages for future allocation\n",
      "        which can cause copy-on-write.\n",
      "    \n",
      "    get_count()\n",
      "        Return a three-tuple of the current collection counts.\n",
      "    \n",
      "    get_debug()\n",
      "        Get the garbage collection debugging flags.\n",
      "    \n",
      "    get_freeze_count()\n",
      "        Return the number of objects in the permanent generation.\n",
      "    \n",
      "    get_objects()\n",
      "        Return a list of objects tracked by the collector (excluding the list returned).\n",
      "    \n",
      "    get_referents(...)\n",
      "        get_referents(*objs) -> list\n",
      "        Return the list of objects that are directly referred to by objs.\n",
      "    \n",
      "    get_referrers(...)\n",
      "        get_referrers(*objs) -> list\n",
      "        Return the list of objects that directly refer to any of objs.\n",
      "    \n",
      "    get_stats()\n",
      "        Return a list of dictionaries containing per-generation statistics.\n",
      "    \n",
      "    get_threshold()\n",
      "        Return the current collection thresholds.\n",
      "    \n",
      "    is_tracked(obj, /)\n",
      "        Returns true if the object is tracked by the garbage collector.\n",
      "        \n",
      "        Simple atomic objects will return false.\n",
      "    \n",
      "    isenabled()\n",
      "        Returns true if automatic garbage collection is enabled.\n",
      "    \n",
      "    set_debug(flags, /)\n",
      "        Set the garbage collection debugging flags.\n",
      "        \n",
      "          flags\n",
      "            An integer that can have the following bits turned on:\n",
      "              DEBUG_STATS - Print statistics during collection.\n",
      "              DEBUG_COLLECTABLE - Print collectable objects found.\n",
      "              DEBUG_UNCOLLECTABLE - Print unreachable but uncollectable objects\n",
      "                found.\n",
      "              DEBUG_SAVEALL - Save objects to gc.garbage rather than freeing them.\n",
      "              DEBUG_LEAK - Debug leaking programs (everything but STATS).\n",
      "        \n",
      "        Debugging information is written to sys.stderr.\n",
      "    \n",
      "    set_threshold(...)\n",
      "        set_threshold(threshold0, [threshold1, threshold2]) -> None\n",
      "        \n",
      "        Sets the collection thresholds.  Setting threshold0 to zero disables\n",
      "        collection.\n",
      "    \n",
      "    unfreeze()\n",
      "        Unfreeze all objects in the permanent generation.\n",
      "        \n",
      "        Put all objects in the permanent generation back into oldest generation.\n",
      "\n",
      "DATA\n",
      "    DEBUG_COLLECTABLE = 2\n",
      "    DEBUG_LEAK = 38\n",
      "    DEBUG_SAVEALL = 32\n",
      "    DEBUG_STATS = 1\n",
      "    DEBUG_UNCOLLECTABLE = 4\n",
      "    callbacks = []\n",
      "    garbage = []\n",
      "\n",
      "FILE\n",
      "    (built-in)\n",
      "\n",
      "\n"
     ]
    }
   ],
   "source": [
    "help(gc)   #garbage collector for reference cycles.    #파이썬도 가상머신이 있다 => 플랫폼마다 고유의 기능도 있다."
   ]
  },
  {
   "cell_type": "code",
   "execution_count": 95,
   "metadata": {},
   "outputs": [],
   "source": [
    "# Windows / Mac / Linux 각 고유의 기능들이 있다.\n",
    "import platform"
   ]
  },
  {
   "cell_type": "code",
   "execution_count": 96,
   "metadata": {
    "collapsed": true
   },
   "outputs": [
    {
     "name": "stdout",
     "output_type": "stream",
     "text": [
      "Help on module platform:\n",
      "\n",
      "NAME\n",
      "    platform\n",
      "\n",
      "DESCRIPTION\n",
      "    This module tries to retrieve as much platform-identifying data as\n",
      "    possible. It makes this information available via function APIs.\n",
      "    \n",
      "    If called from the command line, it prints the platform\n",
      "    information concatenated as single string to stdout. The output\n",
      "    format is useable as part of a filename.\n",
      "\n",
      "CLASSES\n",
      "    builtins.tuple(builtins.object)\n",
      "        uname_result\n",
      "    \n",
      "    class uname_result(builtins.tuple)\n",
      "     |  uname_result(system, node, release, version, machine, processor)\n",
      "     |  \n",
      "     |  uname_result(system, node, release, version, machine, processor)\n",
      "     |  \n",
      "     |  Method resolution order:\n",
      "     |      uname_result\n",
      "     |      builtins.tuple\n",
      "     |      builtins.object\n",
      "     |  \n",
      "     |  Methods defined here:\n",
      "     |  \n",
      "     |  __getnewargs__(self)\n",
      "     |      Return self as a plain tuple.  Used by copy and pickle.\n",
      "     |  \n",
      "     |  __repr__(self)\n",
      "     |      Return a nicely formatted representation string\n",
      "     |  \n",
      "     |  _asdict(self)\n",
      "     |      Return a new OrderedDict which maps field names to their values.\n",
      "     |  \n",
      "     |  _replace(_self, **kwds)\n",
      "     |      Return a new uname_result object replacing specified fields with new values\n",
      "     |  \n",
      "     |  ----------------------------------------------------------------------\n",
      "     |  Class methods defined here:\n",
      "     |  \n",
      "     |  _make(iterable) from builtins.type\n",
      "     |      Make a new uname_result object from a sequence or iterable\n",
      "     |  \n",
      "     |  ----------------------------------------------------------------------\n",
      "     |  Static methods defined here:\n",
      "     |  \n",
      "     |  __new__(_cls, system, node, release, version, machine, processor)\n",
      "     |      Create new instance of uname_result(system, node, release, version, machine, processor)\n",
      "     |  \n",
      "     |  ----------------------------------------------------------------------\n",
      "     |  Data descriptors defined here:\n",
      "     |  \n",
      "     |  system\n",
      "     |      Alias for field number 0\n",
      "     |  \n",
      "     |  node\n",
      "     |      Alias for field number 1\n",
      "     |  \n",
      "     |  release\n",
      "     |      Alias for field number 2\n",
      "     |  \n",
      "     |  version\n",
      "     |      Alias for field number 3\n",
      "     |  \n",
      "     |  machine\n",
      "     |      Alias for field number 4\n",
      "     |  \n",
      "     |  processor\n",
      "     |      Alias for field number 5\n",
      "     |  \n",
      "     |  ----------------------------------------------------------------------\n",
      "     |  Data and other attributes defined here:\n",
      "     |  \n",
      "     |  _fields = ('system', 'node', 'release', 'version', 'machine', 'process...\n",
      "     |  \n",
      "     |  _fields_defaults = {}\n",
      "     |  \n",
      "     |  ----------------------------------------------------------------------\n",
      "     |  Methods inherited from builtins.tuple:\n",
      "     |  \n",
      "     |  __add__(self, value, /)\n",
      "     |      Return self+value.\n",
      "     |  \n",
      "     |  __contains__(self, key, /)\n",
      "     |      Return key in self.\n",
      "     |  \n",
      "     |  __eq__(self, value, /)\n",
      "     |      Return self==value.\n",
      "     |  \n",
      "     |  __ge__(self, value, /)\n",
      "     |      Return self>=value.\n",
      "     |  \n",
      "     |  __getattribute__(self, name, /)\n",
      "     |      Return getattr(self, name).\n",
      "     |  \n",
      "     |  __getitem__(self, key, /)\n",
      "     |      Return self[key].\n",
      "     |  \n",
      "     |  __gt__(self, value, /)\n",
      "     |      Return self>value.\n",
      "     |  \n",
      "     |  __hash__(self, /)\n",
      "     |      Return hash(self).\n",
      "     |  \n",
      "     |  __iter__(self, /)\n",
      "     |      Implement iter(self).\n",
      "     |  \n",
      "     |  __le__(self, value, /)\n",
      "     |      Return self<=value.\n",
      "     |  \n",
      "     |  __len__(self, /)\n",
      "     |      Return len(self).\n",
      "     |  \n",
      "     |  __lt__(self, value, /)\n",
      "     |      Return self<value.\n",
      "     |  \n",
      "     |  __mul__(self, value, /)\n",
      "     |      Return self*value.\n",
      "     |  \n",
      "     |  __ne__(self, value, /)\n",
      "     |      Return self!=value.\n",
      "     |  \n",
      "     |  __rmul__(self, value, /)\n",
      "     |      Return value*self.\n",
      "     |  \n",
      "     |  count(self, value, /)\n",
      "     |      Return number of occurrences of value.\n",
      "     |  \n",
      "     |  index(self, value, start=0, stop=9223372036854775807, /)\n",
      "     |      Return first index of value.\n",
      "     |      \n",
      "     |      Raises ValueError if the value is not present.\n",
      "\n",
      "FUNCTIONS\n",
      "    architecture(executable='C:\\\\Users\\\\David\\\\Anaconda3\\\\python.exe', bits='', linkage='')\n",
      "        Queries the given executable (defaults to the Python interpreter\n",
      "        binary) for various architecture information.\n",
      "        \n",
      "        Returns a tuple (bits, linkage) which contains information about\n",
      "        the bit architecture and the linkage format used for the\n",
      "        executable. Both values are returned as strings.\n",
      "        \n",
      "        Values that cannot be determined are returned as given by the\n",
      "        parameter presets. If bits is given as '', the sizeof(pointer)\n",
      "        (or sizeof(long) on Python version < 1.5.2) is used as\n",
      "        indicator for the supported pointer size.\n",
      "        \n",
      "        The function relies on the system's \"file\" command to do the\n",
      "        actual work. This is available on most if not all Unix\n",
      "        platforms. On some non-Unix platforms where the \"file\" command\n",
      "        does not exist and the executable is set to the Python interpreter\n",
      "        binary defaults from _default_architecture are used.\n",
      "    \n",
      "    dist(distname='', version='', id='', supported_dists=('SuSE', 'debian', 'fedora', 'redhat', 'centos', 'mandrake', 'mandriva', 'rocks', 'slackware', 'yellowdog', 'gentoo', 'UnitedLinux', 'turbolinux', 'arch', 'mageia'))\n",
      "        Tries to determine the name of the Linux OS distribution name.\n",
      "        \n",
      "        The function first looks for a distribution release file in\n",
      "        /etc and then reverts to _dist_try_harder() in case no\n",
      "        suitable files are found.\n",
      "        \n",
      "        Returns a tuple (distname, version, id) which default to the\n",
      "        args given as parameters.\n",
      "    \n",
      "    java_ver(release='', vendor='', vminfo=('', '', ''), osinfo=('', '', ''))\n",
      "        Version interface for Jython.\n",
      "        \n",
      "        Returns a tuple (release, vendor, vminfo, osinfo) with vminfo being\n",
      "        a tuple (vm_name, vm_release, vm_vendor) and osinfo being a\n",
      "        tuple (os_name, os_version, os_arch).\n",
      "        \n",
      "        Values which cannot be determined are set to the defaults\n",
      "        given as parameters (which all default to '').\n",
      "    \n",
      "    libc_ver(executable='C:\\\\Users\\\\David\\\\Anaconda3\\\\python.exe', lib='', version='', chunksize=16384)\n",
      "        Tries to determine the libc version that the file executable\n",
      "        (which defaults to the Python interpreter) is linked against.\n",
      "        \n",
      "        Returns a tuple of strings (lib,version) which default to the\n",
      "        given parameters in case the lookup fails.\n",
      "        \n",
      "        Note that the function has intimate knowledge of how different\n",
      "        libc versions add symbols to the executable and thus is probably\n",
      "        only useable for executables compiled using gcc.\n",
      "        \n",
      "        The file is read and scanned in chunks of chunksize bytes.\n",
      "    \n",
      "    linux_distribution(distname='', version='', id='', supported_dists=('SuSE', 'debian', 'fedora', 'redhat', 'centos', 'mandrake', 'mandriva', 'rocks', 'slackware', 'yellowdog', 'gentoo', 'UnitedLinux', 'turbolinux', 'arch', 'mageia'), full_distribution_name=1)\n",
      "    \n",
      "    mac_ver(release='', versioninfo=('', '', ''), machine='')\n",
      "        Get MacOS version information and return it as tuple (release,\n",
      "        versioninfo, machine) with versioninfo being a tuple (version,\n",
      "        dev_stage, non_release_version).\n",
      "        \n",
      "        Entries which cannot be determined are set to the parameter values\n",
      "        which default to ''. All tuple entries are strings.\n",
      "    \n",
      "    machine()\n",
      "        Returns the machine type, e.g. 'i386'\n",
      "        \n",
      "        An empty string is returned if the value cannot be determined.\n",
      "    \n",
      "    node()\n",
      "        Returns the computer's network name (which may not be fully\n",
      "        qualified)\n",
      "        \n",
      "        An empty string is returned if the value cannot be determined.\n",
      "    \n",
      "    platform(aliased=0, terse=0)\n",
      "        Returns a single string identifying the underlying platform\n",
      "        with as much useful information as possible (but no more :).\n",
      "        \n",
      "        The output is intended to be human readable rather than\n",
      "        machine parseable. It may look different on different\n",
      "        platforms and this is intended.\n",
      "        \n",
      "        If \"aliased\" is true, the function will use aliases for\n",
      "        various platforms that report system names which differ from\n",
      "        their common names, e.g. SunOS will be reported as\n",
      "        Solaris. The system_alias() function is used to implement\n",
      "        this.\n",
      "        \n",
      "        Setting terse to true causes the function to return only the\n",
      "        absolute minimum information needed to identify the platform.\n",
      "    \n",
      "    popen(cmd, mode='r', bufsize=-1)\n",
      "        Portable popen() interface.\n",
      "    \n",
      "    processor()\n",
      "        Returns the (true) processor name, e.g. 'amdk6'\n",
      "        \n",
      "        An empty string is returned if the value cannot be\n",
      "        determined. Note that many platforms do not provide this\n",
      "        information or simply return the same value as for machine(),\n",
      "        e.g.  NetBSD does this.\n",
      "    \n",
      "    python_branch()\n",
      "        Returns a string identifying the Python implementation\n",
      "        branch.\n",
      "        \n",
      "        For CPython this is the SCM branch from which the\n",
      "        Python binary was built.\n",
      "        \n",
      "        If not available, an empty string is returned.\n",
      "    \n",
      "    python_build()\n",
      "        Returns a tuple (buildno, builddate) stating the Python\n",
      "        build number and date as strings.\n",
      "    \n",
      "    python_compiler()\n",
      "        Returns a string identifying the compiler used for compiling\n",
      "        Python.\n",
      "    \n",
      "    python_implementation()\n",
      "        Returns a string identifying the Python implementation.\n",
      "        \n",
      "        Currently, the following implementations are identified:\n",
      "          'CPython' (C implementation of Python),\n",
      "          'IronPython' (.NET implementation of Python),\n",
      "          'Jython' (Java implementation of Python),\n",
      "          'PyPy' (Python implementation of Python).\n",
      "    \n",
      "    python_revision()\n",
      "        Returns a string identifying the Python implementation\n",
      "        revision.\n",
      "        \n",
      "        For CPython this is the SCM revision from which the\n",
      "        Python binary was built.\n",
      "        \n",
      "        If not available, an empty string is returned.\n",
      "    \n",
      "    python_version()\n",
      "        Returns the Python version as string 'major.minor.patchlevel'\n",
      "        \n",
      "        Note that unlike the Python sys.version, the returned value\n",
      "        will always include the patchlevel (it defaults to 0).\n",
      "    \n",
      "    python_version_tuple()\n",
      "        Returns the Python version as tuple (major, minor, patchlevel)\n",
      "        of strings.\n",
      "        \n",
      "        Note that unlike the Python sys.version, the returned value\n",
      "        will always include the patchlevel (it defaults to 0).\n",
      "    \n",
      "    release()\n",
      "        Returns the system's release, e.g. '2.2.0' or 'NT'\n",
      "        \n",
      "        An empty string is returned if the value cannot be determined.\n",
      "    \n",
      "    system()\n",
      "        Returns the system/OS name, e.g. 'Linux', 'Windows' or 'Java'.\n",
      "        \n",
      "        An empty string is returned if the value cannot be determined.\n",
      "    \n",
      "    system_alias(system, release, version)\n",
      "        Returns (system, release, version) aliased to common\n",
      "        marketing names used for some systems.\n",
      "        \n",
      "        It also does some reordering of the information in some cases\n",
      "        where it would otherwise cause confusion.\n",
      "    \n",
      "    uname()\n",
      "        Fairly portable uname interface. Returns a tuple\n",
      "        of strings (system, node, release, version, machine, processor)\n",
      "        identifying the underlying platform.\n",
      "        \n",
      "        Note that unlike the os.uname function this also returns\n",
      "        possible processor information as an additional tuple entry.\n",
      "        \n",
      "        Entries which cannot be determined are set to ''.\n",
      "    \n",
      "    version()\n",
      "        Returns the system's release version, e.g. '#3 on degas'\n",
      "        \n",
      "        An empty string is returned if the value cannot be determined.\n",
      "    \n",
      "    win32_ver(release='', version='', csd='', ptype='')\n",
      "\n",
      "DATA\n",
      "    DEV_NULL = 'nul'\n",
      "    __copyright__ = '\\n    Copyright (c) 1999-2000, Marc-Andre Lemburg... ...\n",
      "\n",
      "VERSION\n",
      "    1.0.8\n",
      "\n",
      "FILE\n",
      "    c:\\users\\david\\anaconda3\\lib\\platform.py\n",
      "\n",
      "\n"
     ]
    }
   ],
   "source": [
    "help(platform)   #기능 중 특정 운영체제에서만 쓸 수 있는 것들도 존재한다."
   ]
  },
  {
   "cell_type": "code",
   "execution_count": 97,
   "metadata": {},
   "outputs": [
    {
     "data": {
      "text/plain": [
       "('default', 'Mar 27 2019 17:13:21')"
      ]
     },
     "execution_count": 97,
     "metadata": {},
     "output_type": "execute_result"
    }
   ],
   "source": [
    "platform.python_build()"
   ]
  },
  {
   "cell_type": "code",
   "execution_count": 98,
   "metadata": {},
   "outputs": [],
   "source": [
    "#__init__: 인스턴스화 할때 내부적으로 불림. 실제로는 __new__가 먼저 실행되고 실행됨.\n",
    "#클래스 방식으로 사용하면 3개, 메소드 방식이면 2개."
   ]
  },
  {
   "cell_type": "markdown",
   "metadata": {},
   "source": [
    "# Design Pattern"
   ]
  },
  {
   "cell_type": "code",
   "execution_count": 101,
   "metadata": {},
   "outputs": [],
   "source": [
    "#객체 지향 시 가장 많이 일어나는 패턴들"
   ]
  },
  {
   "cell_type": "code",
   "execution_count": null,
   "metadata": {},
   "outputs": [],
   "source": [
    "#proxy pattern\n"
   ]
  }
 ],
 "metadata": {
  "kernelspec": {
   "display_name": "Python 3",
   "language": "python",
   "name": "python3"
  },
  "language_info": {
   "codemirror_mode": {
    "name": "ipython",
    "version": 3
   },
   "file_extension": ".py",
   "mimetype": "text/x-python",
   "name": "python",
   "nbconvert_exporter": "python",
   "pygments_lexer": "ipython3",
   "version": "3.7.3"
  }
 },
 "nbformat": 4,
 "nbformat_minor": 2
}
