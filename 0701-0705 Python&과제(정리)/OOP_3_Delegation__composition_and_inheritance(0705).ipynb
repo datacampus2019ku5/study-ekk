{
 "cells": [
  {
   "cell_type": "markdown",
   "metadata": {},
   "source": [
    "## The Delegation Run\n",
    "\n",
    "If classes are objects what is the difference between types and instances?\n",
    "\n",
    "When I talk about \"my cat\" I am referring to a concrete instance of the \"cat\" concept, which is a _subtype_ of \"animal\". So, despite being both objects, while types can be _specialized_, instances cannot.\n",
    "\n",
    "Usually an object B is said to be a specialization of an object A when:\n",
    "\n",
    "* B has all the features of A\n",
    "* B can provide new features\n",
    "* B can perform some or all the tasks performed by A in a different way\n",
    "\n",
    "Those targets are very general and valid for any system and the key to achieve them with the maximum reuse of already existing components is _delegation_. Delegation means that an object shall perform only what it knows best, and leave the rest to other objects.\n",
    "\n",
    "Delegation can be implemented with two different mechanisms: _composition_ and _inheritance_. Sadly, very often only inheritance is listed among the pillars of OOP techniques, forgetting that it is an implementation of the more generic and fundamental mechanism of delegation; perhaps a better nomenclature for the two techniques could be _explicit delegation_ (composition) and _implicit delegation_ (inheritance).\n",
    "\n",
    "Please note that, again, when talking about composition and inheritance we are talking about focusing on a behavioural or structural delegation. Another way to think about the difference between composition and inheritance is to consider if the object _knows_ who can satisfy your request or if the object _is_ the one that satisfy the request.\n",
    "\n",
    "**Please, please, please do not forget composition**: in many cases, composition can lead to simpler systems, with benefits on maintainability and changeability. \n",
    "\n",
    "Usually composition is said to be a very generic technique that needs no special syntax, while inheritance and its rules are strongly dependent on the language of choice. Actually, the strong dynamic nature of Python softens the boundary line between the two techniques.\n",
    "\n",
    "## Inheritance Now\n",
    "\n",
    "In Python a class can be declared as an _extension_ of one or more different classes, through the _class inheritance_ mechanism. The child class (the one that inherits) has the same internal structure of the parent class (the one that is inherited), and for the case of multiple inheritance the language has very specific rules to manage possible conflicts or redefinitions among the parent classes. A very simple example of inheritance is"
   ]
  },
  {
   "cell_type": "code",
   "execution_count": 88,
   "metadata": {},
   "outputs": [],
   "source": [
    "class Door:\n",
    "    '''문근영1'''\n",
    "    colour = 'brown'\n",
    "\n",
    "    def __init__(self, number, status):    #제일 먼저 실행되는건 아니다. #__new__ 가 먼저 실행된다. 객체 반환하고 __init를 실행 #생성자\n",
    "        self.number = number                \n",
    "        self.status = status\n",
    "\n",
    "    @classmethod\n",
    "    def knock(cls):          #관례상 cls로 써준다.(self로 써도 되긴 되지만..... 흠)\n",
    "        '''문근영2'''\n",
    "        print(\"Knock!\")\n",
    "\n",
    "    @classmethod\n",
    "    def paint(cls, colour):\n",
    "        cls.colour = colour\n",
    "        \n",
    "    @classmethod\n",
    "    def paint2(self, number):\n",
    "        self.number = number\n",
    "\n",
    "    def open(self):\n",
    "        self.status = 'open'\n",
    "        \n",
    "    def close(self):\n",
    "        self.status = 'closed'\n",
    "        \n",
    "class SecurityDoor(Door,):\n",
    "    colour = 'pink'\n",
    "    \n",
    "#Python에서는 Gabage Collection이 존재한다. (심지어 맘대로 쓸 수 있다)"
   ]
  },
  {
   "cell_type": "code",
   "execution_count": 17,
   "metadata": {},
   "outputs": [
    {
     "data": {
      "text/plain": [
       "<__main__.Door at 0x1e92bbd6080>"
      ]
     },
     "execution_count": 17,
     "metadata": {},
     "output_type": "execute_result"
    }
   ],
   "source": [
    "t = {'number':1,'status':open}\n",
    "Door(**t)     #unpacking  #number에 1, status에 open이 들어감"
   ]
  },
  {
   "cell_type": "code",
   "execution_count": null,
   "metadata": {},
   "outputs": [],
   "source": [
    "# 별표 정리한거 다시 보기"
   ]
  },
  {
   "cell_type": "code",
   "execution_count": 23,
   "metadata": {
    "collapsed": true
   },
   "outputs": [
    {
     "data": {
      "text/plain": [
       "['__class__',\n",
       " '__delattr__',\n",
       " '__dict__',\n",
       " '__dir__',\n",
       " '__doc__',\n",
       " '__eq__',\n",
       " '__format__',\n",
       " '__ge__',\n",
       " '__getattribute__',\n",
       " '__gt__',\n",
       " '__hash__',\n",
       " '__init__',\n",
       " '__init_subclass__',\n",
       " '__le__',\n",
       " '__lt__',\n",
       " '__module__',\n",
       " '__ne__',\n",
       " '__new__',\n",
       " '__reduce__',\n",
       " '__reduce_ex__',\n",
       " '__repr__',\n",
       " '__setattr__',\n",
       " '__sizeof__',\n",
       " '__str__',\n",
       " '__subclasshook__',\n",
       " '__weakref__',\n",
       " 'close',\n",
       " 'colour',\n",
       " 'knock',\n",
       " 'open',\n",
       " 'paint',\n",
       " 'paint2']"
      ]
     },
     "execution_count": 23,
     "metadata": {},
     "output_type": "execute_result"
    }
   ],
   "source": [
    "t = Door\n",
    "dir(t)"
   ]
  },
  {
   "cell_type": "code",
   "execution_count": 41,
   "metadata": {
    "collapsed": true
   },
   "outputs": [
    {
     "data": {
      "text/plain": [
       "(__main__.SecurityDoor, __main__.Door, object)"
      ]
     },
     "execution_count": 41,
     "metadata": {},
     "output_type": "execute_result"
    }
   ],
   "source": [
    "SecurityDoor.__mro__    #상속체계의 순서 (특히 남이 만든거는 상속체계를 모르니까 mro로 가즈아)"
   ]
  },
  {
   "cell_type": "code",
   "execution_count": 6,
   "metadata": {},
   "outputs": [
    {
     "data": {
      "text/plain": [
       "[__main__.SecurityDoor, __main__.Door, object]"
      ]
     },
     "execution_count": 6,
     "metadata": {},
     "output_type": "execute_result"
    }
   ],
   "source": [
    "SecurityDoor.mro()       #SecurityDoor -> Door"
   ]
  },
  {
   "cell_type": "code",
   "execution_count": 9,
   "metadata": {},
   "outputs": [],
   "source": [
    "t = Door(1, 'o')   #인스턴스화 할때는 __init__ 에 맞춘다. #개수 안맞으면 크은일남^^\n",
    "\n",
    "\n",
    "#함수 방식은 개수 무조건 맞춰줘야함. 메소드 방식이면 다름"
   ]
  },
  {
   "cell_type": "code",
   "execution_count": 7,
   "metadata": {},
   "outputs": [
    {
     "ename": "TypeError",
     "evalue": "__init__() missing 1 required positional argument: 'status'",
     "output_type": "error",
     "traceback": [
      "\u001b[1;31m---------------------------------------------------------------------------\u001b[0m",
      "\u001b[1;31mTypeError\u001b[0m                                 Traceback (most recent call last)",
      "\u001b[1;32m<ipython-input-7-e0d3d90d2639>\u001b[0m in \u001b[0;36m<module>\u001b[1;34m\u001b[0m\n\u001b[1;32m----> 1\u001b[1;33m \u001b[0mtt\u001b[0m \u001b[1;33m=\u001b[0m \u001b[0mDoor\u001b[0m\u001b[1;33m(\u001b[0m\u001b[1;36m1\u001b[0m\u001b[1;33m,\u001b[0m\u001b[1;33m)\u001b[0m\u001b[1;33m\u001b[0m\u001b[1;33m\u001b[0m\u001b[0m\n\u001b[0m",
      "\u001b[1;31mTypeError\u001b[0m: __init__() missing 1 required positional argument: 'status'"
     ]
    }
   ],
   "source": [
    "tt = Door(1,)   #__init__() missing 1 required positional argument: 'status'"
   ]
  },
  {
   "cell_type": "code",
   "execution_count": 10,
   "metadata": {
    "collapsed": true
   },
   "outputs": [
    {
     "data": {
      "text/plain": [
       "['__class__',\n",
       " '__delattr__',\n",
       " '__dict__',\n",
       " '__dir__',\n",
       " '__doc__',\n",
       " '__eq__',\n",
       " '__format__',\n",
       " '__ge__',\n",
       " '__getattribute__',\n",
       " '__gt__',\n",
       " '__hash__',\n",
       " '__init__',\n",
       " '__init_subclass__',\n",
       " '__le__',\n",
       " '__lt__',\n",
       " '__module__',\n",
       " '__ne__',\n",
       " '__new__',\n",
       " '__reduce__',\n",
       " '__reduce_ex__',\n",
       " '__repr__',\n",
       " '__setattr__',\n",
       " '__sizeof__',\n",
       " '__str__',\n",
       " '__subclasshook__',\n",
       " '__weakref__',\n",
       " 'close',\n",
       " 'colour',\n",
       " 'knock',\n",
       " 'number',\n",
       " 'open',\n",
       " 'paint',\n",
       " 'paint2',\n",
       " 'status']"
      ]
     },
     "execution_count": 10,
     "metadata": {},
     "output_type": "execute_result"
    }
   ],
   "source": [
    "dir(t)    #__class__ : type. #"
   ]
  },
  {
   "cell_type": "code",
   "execution_count": 15,
   "metadata": {},
   "outputs": [],
   "source": [
    "#클래스메소드/인스턴스 메소드 암기법\n",
    "\n",
    "# 인스턴스 변수가 없으면 클래스 변수를 찾음\n",
    "# 인스턴스가 인스턴스 메소드 없으면 클래스메소드를 찾음.\n",
    "\n",
    "#(반대로)\n",
    "#클래스에 없으면 인스턴스에서도 못찾는다.(인스턴스는 다수니까..)"
   ]
  },
  {
   "cell_type": "code",
   "execution_count": 24,
   "metadata": {},
   "outputs": [
    {
     "data": {
      "text/plain": [
       "'brown'"
      ]
     },
     "execution_count": 24,
     "metadata": {},
     "output_type": "execute_result"
    }
   ],
   "source": [
    "Door.colour"
   ]
  },
  {
   "cell_type": "code",
   "execution_count": 25,
   "metadata": {},
   "outputs": [],
   "source": [
    "t.paint('red')     #paint : 클래스메소드        #클래스변수만 수정 가능. 인스턴스 변수는 수정 못함."
   ]
  },
  {
   "cell_type": "code",
   "execution_count": 27,
   "metadata": {},
   "outputs": [
    {
     "data": {
      "text/plain": [
       "'red'"
      ]
     },
     "execution_count": 27,
     "metadata": {},
     "output_type": "execute_result"
    }
   ],
   "source": [
    "t.colour   #인스턴스 변수 없어서 -> 클래스 변수를 찾음."
   ]
  },
  {
   "cell_type": "code",
   "execution_count": 28,
   "metadata": {},
   "outputs": [],
   "source": [
    "Door.paint('yello')    #클래스 메소드 -> 클래스로 쓴다."
   ]
  },
  {
   "cell_type": "code",
   "execution_count": 29,
   "metadata": {},
   "outputs": [],
   "source": [
    "t.paint2(3)"
   ]
  },
  {
   "cell_type": "code",
   "execution_count": 30,
   "metadata": {
    "collapsed": true
   },
   "outputs": [
    {
     "data": {
      "text/plain": [
       "mappingproxy({'__module__': '__main__',\n",
       "              '__doc__': '문근영1',\n",
       "              'colour': 'yello',\n",
       "              '__init__': <function __main__.Door.__init__(self, number, status)>,\n",
       "              'knock': <classmethod at 0x1e92bbd6a58>,\n",
       "              'paint': <classmethod at 0x1e92bbd6a90>,\n",
       "              'paint2': <classmethod at 0x1e92bbd6ac8>,\n",
       "              'open': <function __main__.Door.open(self)>,\n",
       "              'close': <function __main__.Door.close(self)>,\n",
       "              '__dict__': <attribute '__dict__' of 'Door' objects>,\n",
       "              '__weakref__': <attribute '__weakref__' of 'Door' objects>,\n",
       "              'number': 3})"
      ]
     },
     "execution_count": 30,
     "metadata": {},
     "output_type": "execute_result"
    }
   ],
   "source": [
    "vars(t)"
   ]
  },
  {
   "cell_type": "code",
   "execution_count": 32,
   "metadata": {},
   "outputs": [
    {
     "data": {
      "text/plain": [
       "mappingproxy({'__module__': '__main__',\n",
       "              '__doc__': '문근영1',\n",
       "              'colour': 'yello',\n",
       "              '__init__': <function __main__.Door.__init__(self, number, status)>,\n",
       "              'knock': <classmethod at 0x1e92bbd6a58>,\n",
       "              'paint': <classmethod at 0x1e92bbd6a90>,\n",
       "              'paint2': <classmethod at 0x1e92bbd6ac8>,\n",
       "              'open': <function __main__.Door.open(self)>,\n",
       "              'close': <function __main__.Door.close(self)>,\n",
       "              '__dict__': <attribute '__dict__' of 'Door' objects>,\n",
       "              '__weakref__': <attribute '__weakref__' of 'Door' objects>,\n",
       "              'number': 3})"
      ]
     },
     "execution_count": 32,
     "metadata": {},
     "output_type": "execute_result"
    }
   ],
   "source": [
    "vars(Door)"
   ]
  },
  {
   "cell_type": "code",
   "execution_count": 33,
   "metadata": {},
   "outputs": [
    {
     "data": {
      "text/plain": [
       "'문근영1'"
      ]
     },
     "execution_count": 33,
     "metadata": {},
     "output_type": "execute_result"
    }
   ],
   "source": [
    "vars(Door)['__doc__']"
   ]
  },
  {
   "cell_type": "code",
   "execution_count": null,
   "metadata": {},
   "outputs": [],
   "source": [
    "#__weekref__ : week reference"
   ]
  },
  {
   "cell_type": "code",
   "execution_count": 31,
   "metadata": {},
   "outputs": [
    {
     "data": {
      "text/plain": [
       "3"
      ]
     },
     "execution_count": 31,
     "metadata": {},
     "output_type": "execute_result"
    }
   ],
   "source": [
    "Door.number"
   ]
  },
  {
   "cell_type": "markdown",
   "metadata": {},
   "source": [
    "where we declare a new class `SecurityDoor` that, at the moment, is a perfect copy of the `Door` class. Let us investigate what happens when we access attributes and methods. First we instance the class"
   ]
  },
  {
   "cell_type": "code",
   "execution_count": 36,
   "metadata": {},
   "outputs": [],
   "source": [
    "sdoor = SecurityDoor(1, 'closed')  #SecurityDoor -> Door 상속받음, 클래스 변수만 바꿈"
   ]
  },
  {
   "cell_type": "markdown",
   "metadata": {},
   "source": [
    "The first check we can do is that class attributes are still global and shared"
   ]
  },
  {
   "cell_type": "code",
   "execution_count": 37,
   "metadata": {},
   "outputs": [
    {
     "name": "stdout",
     "output_type": "stream",
     "text": [
      "False\n"
     ]
    }
   ],
   "source": [
    "print(SecurityDoor.colour is Door.colour)     #출력 다르다, Overriding 했기 때문에."
   ]
  },
  {
   "cell_type": "code",
   "execution_count": 38,
   "metadata": {
    "scrolled": true
   },
   "outputs": [
    {
     "name": "stdout",
     "output_type": "stream",
     "text": [
      "False\n"
     ]
    }
   ],
   "source": [
    "print(sdoor.colour is Door.colour)            #근데 인스턴스로 접근할 때 / 클래스로 접근할 때 답이 다르다."
   ]
  },
  {
   "cell_type": "code",
   "execution_count": 39,
   "metadata": {},
   "outputs": [
    {
     "data": {
      "text/plain": [
       "True"
      ]
     },
     "execution_count": 39,
     "metadata": {},
     "output_type": "execute_result"
    }
   ],
   "source": [
    "sdoor.colour is SecurityDoor.colour           #인스턴스 변수에 없으면 클래스 변수로 찾는다. -> 클래스 변수란걸 확인 가능."
   ]
  },
  {
   "cell_type": "markdown",
   "metadata": {},
   "source": [
    "This shows us that Python tries to resolve instance members not only looking into the class the instance comes from, but also investigating the parent classes. In this case `sdoor.colour` becomes `SecurityDoor.colour`, that in turn becomes `Door.colour`. `SecurityDoor` _is_ a `Door`.\n",
    "\n",
    "If we investigate the content of `__dict__` we can catch a glimpse of the inheritance mechanism in action"
   ]
  },
  {
   "cell_type": "code",
   "execution_count": 32,
   "metadata": {},
   "outputs": [
    {
     "name": "stdout",
     "output_type": "stream",
     "text": [
      "{'status': 'closed', 'number': 1}\n"
     ]
    }
   ],
   "source": [
    "print(sdoor.__dict__)"
   ]
  },
  {
   "cell_type": "code",
   "execution_count": 33,
   "metadata": {},
   "outputs": [
    {
     "name": "stdout",
     "output_type": "stream",
     "text": [
      "<class 'mappingproxy'>\n",
      "{'__doc__': None, '__module__': '__main__'}\n"
     ]
    }
   ],
   "source": [
    "print(type(sdoor.__class__.__dict__))\n",
    "print(sdoor.__class__.__dict__)"
   ]
  },
  {
   "cell_type": "code",
   "execution_count": 40,
   "metadata": {},
   "outputs": [
    {
     "data": {
      "text/plain": [
       "mappingproxy({'__module__': '__main__',\n",
       "              'colour': 'yello',\n",
       "              '__init__': <function __main__.Door.__init__(self, number, status)>,\n",
       "              'knock': <classmethod at 0x105d5a908>,\n",
       "              'paint': <classmethod at 0x105d5a860>,\n",
       "              'paint2': <classmethod at 0x105d5a828>,\n",
       "              'open': <function __main__.Door.open(self)>,\n",
       "              'close': <function __main__.Door.close(self)>,\n",
       "              '__dict__': <attribute '__dict__' of 'Door' objects>,\n",
       "              '__weakref__': <attribute '__weakref__' of 'Door' objects>,\n",
       "              '__doc__': None,\n",
       "              'number': 3})"
      ]
     },
     "execution_count": 40,
     "metadata": {},
     "output_type": "execute_result"
    }
   ],
   "source": [
    "vars(Door)"
   ]
  },
  {
   "cell_type": "code",
   "execution_count": 34,
   "metadata": {},
   "outputs": [
    {
     "name": "stdout",
     "output_type": "stream",
     "text": [
      "<class 'mappingproxy'>\n",
      "{'close': <function Door.close at 0xb48ee77c>, '__dict__': <attribute '__dict__' of 'Door' objects>, 'paint': <classmethod object at 0xb62aacec>, 'knock': <classmethod object at 0xb48c542c>, 'colour': 'brown', '__weakref__': <attribute '__weakref__' of 'Door' objects>, '__doc__': None, '__module__': '__main__', 'open': <function Door.open at 0xb48ee9bc>, '__init__': <function Door.__init__ at 0xb48ee6a4>}\n"
     ]
    }
   ],
   "source": [
    "print(type(Door.__dict__))\n",
    "print(Door.__dict__)"
   ]
  },
  {
   "cell_type": "markdown",
   "metadata": {},
   "source": [
    "As you can see the content of `__dict__` for `SecurityDoor` is very narrow compared to that of `Door`. The inheritance mechanism takes care of the missing elements by climbing up the classes tree. Where does Python get the parent classes? A class always contains a `__bases__` tuple that lists them"
   ]
  },
  {
   "cell_type": "code",
   "execution_count": 35,
   "metadata": {},
   "outputs": [
    {
     "name": "stdout",
     "output_type": "stream",
     "text": [
      "(<class '__main__.Door'>,)\n"
     ]
    }
   ],
   "source": [
    "print(SecurityDoor.__bases__)"
   ]
  },
  {
   "cell_type": "markdown",
   "metadata": {},
   "source": [
    "So an example of what Python does to resolve a class method call through the inheritance tree is"
   ]
  },
  {
   "cell_type": "code",
   "execution_count": 36,
   "metadata": {},
   "outputs": [
    {
     "name": "stdout",
     "output_type": "stream",
     "text": [
      "<bound method type.knock of <class '__main__.SecurityDoor'>>\n"
     ]
    }
   ],
   "source": [
    "print(sdoor.__class__.__bases__[0].__dict__['knock'].__get__(sdoor))"
   ]
  },
  {
   "cell_type": "code",
   "execution_count": 37,
   "metadata": {},
   "outputs": [
    {
     "name": "stdout",
     "output_type": "stream",
     "text": [
      "<bound method type.knock of <class '__main__.SecurityDoor'>>\n"
     ]
    }
   ],
   "source": [
    "print(sdoor.knock)"
   ]
  },
  {
   "cell_type": "code",
   "execution_count": 44,
   "metadata": {},
   "outputs": [
    {
     "data": {
      "text/plain": [
       "<bound method Door.knock of <class '__main__.SecurityDoor'>>"
      ]
     },
     "execution_count": 44,
     "metadata": {},
     "output_type": "execute_result"
    }
   ],
   "source": [
    "t = sdoor.__class__.__bases__[0].__dict__['knock']\n",
    "t.__get__(sdoor)"
   ]
  },
  {
   "cell_type": "code",
   "execution_count": 46,
   "metadata": {},
   "outputs": [
    {
     "ename": "AttributeError",
     "evalue": "type object 'Door' has no attribute 's'",
     "output_type": "error",
     "traceback": [
      "\u001b[1;31m---------------------------------------------------------------------------\u001b[0m",
      "\u001b[1;31mAttributeError\u001b[0m                            Traceback (most recent call last)",
      "\u001b[1;32m<ipython-input-46-45320db50e05>\u001b[0m in \u001b[0;36m<module>\u001b[1;34m\u001b[0m\n\u001b[0;32m      1\u001b[0m \u001b[0ms\u001b[0m \u001b[1;33m=\u001b[0m \u001b[0mt\u001b[0m\u001b[1;33m.\u001b[0m\u001b[0m__get__\u001b[0m\u001b[1;33m(\u001b[0m\u001b[0msdoor\u001b[0m\u001b[1;33m)\u001b[0m\u001b[1;33m\u001b[0m\u001b[1;33m\u001b[0m\u001b[0m\n\u001b[1;32m----> 2\u001b[1;33m \u001b[0mDoor\u001b[0m\u001b[1;33m.\u001b[0m\u001b[0ms\u001b[0m\u001b[1;33m\u001b[0m\u001b[1;33m\u001b[0m\u001b[0m\n\u001b[0m",
      "\u001b[1;31mAttributeError\u001b[0m: type object 'Door' has no attribute 's'"
     ]
    }
   ],
   "source": [
    "s = t.__get__(sdoor)\n",
    "Door.s"
   ]
  },
  {
   "cell_type": "code",
   "execution_count": 47,
   "metadata": {},
   "outputs": [],
   "source": [
    "def x(self):\n",
    "    return 1\n",
    "Door.x = x"
   ]
  },
  {
   "cell_type": "code",
   "execution_count": 48,
   "metadata": {
    "collapsed": true
   },
   "outputs": [
    {
     "data": {
      "text/plain": [
       "['__annotations__',\n",
       " '__call__',\n",
       " '__class__',\n",
       " '__closure__',\n",
       " '__code__',\n",
       " '__defaults__',\n",
       " '__delattr__',\n",
       " '__dict__',\n",
       " '__dir__',\n",
       " '__doc__',\n",
       " '__eq__',\n",
       " '__format__',\n",
       " '__ge__',\n",
       " '__get__',\n",
       " '__getattribute__',\n",
       " '__globals__',\n",
       " '__gt__',\n",
       " '__hash__',\n",
       " '__init__',\n",
       " '__init_subclass__',\n",
       " '__kwdefaults__',\n",
       " '__le__',\n",
       " '__lt__',\n",
       " '__module__',\n",
       " '__name__',\n",
       " '__ne__',\n",
       " '__new__',\n",
       " '__qualname__',\n",
       " '__reduce__',\n",
       " '__reduce_ex__',\n",
       " '__repr__',\n",
       " '__setattr__',\n",
       " '__sizeof__',\n",
       " '__str__',\n",
       " '__subclasshook__']"
      ]
     },
     "execution_count": 48,
     "metadata": {},
     "output_type": "execute_result"
    }
   ],
   "source": [
    "dir(Door.x)"
   ]
  },
  {
   "cell_type": "code",
   "execution_count": 50,
   "metadata": {},
   "outputs": [],
   "source": [
    "import matplotlib.pyplot as plt"
   ]
  },
  {
   "cell_type": "code",
   "execution_count": 52,
   "metadata": {},
   "outputs": [],
   "source": [
    "import matplotlib"
   ]
  },
  {
   "cell_type": "code",
   "execution_count": 53,
   "metadata": {},
   "outputs": [
    {
     "data": {
      "text/plain": [
       "251"
      ]
     },
     "execution_count": 53,
     "metadata": {},
     "output_type": "execute_result"
    }
   ],
   "source": [
    "len(dir(plt))"
   ]
  },
  {
   "cell_type": "markdown",
   "metadata": {},
   "source": [
    "Please note that this is just an example that does not consider multiple inheritance.\n",
    "\n",
    "Let us try now to override some methods and attributes. In Python you can _override_ (redefine) a parent class member simply by redefining it in the child class."
   ]
  },
  {
   "cell_type": "code",
   "execution_count": 54,
   "metadata": {},
   "outputs": [],
   "source": [
    "class SecurityDoor(Door):\n",
    "    colour = 'gray'\n",
    "    locked = True\n",
    "    \n",
    "    def open(self):     #open은 builtin\n",
    "        if not self.locked:\n",
    "#            self.status = 'open'   #Overriding\n",
    "            super().open()\n",
    "    \n",
    "    \n",
    "    #경우에 따라 쓰는게 다르다. super를 쓰면, 일괄적으로 같이 바뀌는 점이 장점."
   ]
  },
  {
   "cell_type": "code",
   "execution_count": 43,
   "metadata": {},
   "outputs": [
    {
     "data": {
      "text/plain": [
       "(__main__.SecurityDoor, __main__.Door, object)"
      ]
     },
     "execution_count": 43,
     "metadata": {},
     "output_type": "execute_result"
    }
   ],
   "source": [
    "SecurityDoor.__mro__"
   ]
  },
  {
   "cell_type": "markdown",
   "metadata": {},
   "source": [
    "As you can forecast, the overridden members now are present in the `__dict__` of the `SecurityDoor` class"
   ]
  },
  {
   "cell_type": "code",
   "execution_count": 39,
   "metadata": {},
   "outputs": [
    {
     "name": "stdout",
     "output_type": "stream",
     "text": [
      "<class 'mappingproxy'>\n",
      "{'__doc__': None, 'locked': True, '__module__': '__main__', 'open': <function SecurityDoor.open at 0xb48ee104>, 'colour': 'gray'}\n"
     ]
    }
   ],
   "source": [
    "print(type(SecurityDoor.__dict__))\n",
    "print(SecurityDoor.__dict__)"
   ]
  },
  {
   "cell_type": "markdown",
   "metadata": {},
   "source": [
    "So when you override a member, the one you put in the child class is used instead of the one in the parent class simply because the former is found before the latter while climbing the class hierarchy. This also shows you that Python does not implicitly call the parent implementation when you override a method. So, overriding is a way to block implicit delegation.\n",
    "\n",
    "If we want to call the parent implementation we have to do it explicitly. In the former example we could write"
   ]
  },
  {
   "cell_type": "code",
   "execution_count": 40,
   "metadata": {
    "collapsed": true
   },
   "outputs": [],
   "source": [
    "class SecurityDoor(Door):\n",
    "    colour = 'gray'\n",
    "    locked = True\n",
    "    \n",
    "    def open(self):\n",
    "        if self.locked:\n",
    "            return\n",
    "        Door.open(self)"
   ]
  },
  {
   "cell_type": "markdown",
   "metadata": {},
   "source": [
    "You can easily test that this implementation is working correctly."
   ]
  },
  {
   "cell_type": "code",
   "execution_count": 41,
   "metadata": {},
   "outputs": [
    {
     "name": "stdout",
     "output_type": "stream",
     "text": [
      "closed\n"
     ]
    }
   ],
   "source": [
    "sdoor = SecurityDoor(1, 'closed')\n",
    "print(sdoor.status)"
   ]
  },
  {
   "cell_type": "code",
   "execution_count": 42,
   "metadata": {},
   "outputs": [
    {
     "name": "stdout",
     "output_type": "stream",
     "text": [
      "closed\n"
     ]
    }
   ],
   "source": [
    "sdoor.open()\n",
    "print(sdoor.status)"
   ]
  },
  {
   "cell_type": "code",
   "execution_count": 43,
   "metadata": {},
   "outputs": [
    {
     "name": "stdout",
     "output_type": "stream",
     "text": [
      "open\n"
     ]
    }
   ],
   "source": [
    "sdoor.locked = False\n",
    "sdoor.open()\n",
    "print(sdoor.status)"
   ]
  },
  {
   "cell_type": "markdown",
   "metadata": {},
   "source": [
    "This form of explicit parent delegation is heavily discouraged, however.\n",
    "\n",
    "The first reason is because of the very high coupling that results from explicitly naming the parent class again when calling the method. _Coupling_, in the computer science lingo, means to link two parts of a system, so that changes in one of them directly affect the other one, and is usually avoided as much as possible. In this case if you decide to use a new parent class you have to manually propagate the change to every method that calls it. Moreover, since in Python the class hierarchy can be dynamically changed (i.e. at runtime), this form of explicit delegation could be not only annoying but also wrong.\n",
    "\n",
    "The second reason is that in general you need to deal with multiple inheritance, where you do not know a priori which parent class implements the original form of the method you are overriding.\n",
    "\n",
    "To solve these issues, Python supplies the `super()` built-in function, that climbs the class hierarchy and returns the correct class that shall be called. The syntax for calling `super()` is"
   ]
  },
  {
   "cell_type": "code",
   "execution_count": 44,
   "metadata": {
    "collapsed": true
   },
   "outputs": [],
   "source": [
    "class SecurityDoor(Door):\n",
    "    colour = 'gray'\n",
    "    locked = True\n",
    "    \n",
    "    def open(self):\n",
    "        if self.locked:\n",
    "            return\n",
    "        super().open()"
   ]
  },
  {
   "cell_type": "markdown",
   "metadata": {},
   "source": [
    "The output of `super()` is not exactly the `Door` class. It returns a `super` object which representation is `<super: <class 'SecurityDoor'>, <SecurityDoor object>>`. This object however acts like the parent class, so you can safely ignore its custom nature and use it just like you would do with the `Door` class in this case.\n",
    "\n",
    "## Enter the Composition      (합성 or 구성 방식)\n",
    "### => 상속을 대신한다. \n",
    "### 원래 상속할 클래스를 인스턴스로 (내 클래스로) 집어넣는다\n",
    "\n",
    "Composition means that an object knows another object, and explicitly delegates some tasks to it. While inheritance is implicit, composition is explicit: in Python, however, things are far more interesting than this =).\n",
    "\n",
    "First of all let us implement classic composition, which simply makes an object part of the other as an attribute"
   ]
  },
  {
   "cell_type": "code",
   "execution_count": 1,
   "metadata": {},
   "outputs": [],
   "source": [
    "class SecurityDoor:\n",
    "    colour = 'gray' #상속\n",
    "    locked = True\n",
    "    \n",
    "    def __init__(self, number, status):\n",
    "        self.door = Door(number, status)  #상속할 클래스(Door)를 인스턴스에 집어넣는다(..?)\n",
    "        \n",
    "    def open(self):\n",
    "        if self.locked:\n",
    "            return\n",
    "        self.door.open()      #self.door.open() ≒ Door.open()\n",
    "        \n",
    "    def close(self):\n",
    "        self.door.close()     #Door.close() 를 상속\n",
    "        \n",
    "#getAttr"
   ]
  },
  {
   "cell_type": "markdown",
   "metadata": {},
   "source": [
    "The primary goal of composition is to relax the coupling between objects. This little example shows that now `SecurityDoor` is an `object` and no more a `Door`, which means that the internal structure of `Door` is not copied. For this very simple example both `Door` and `SecurityDoor` are not big classes, but in a real system objects can very complex; this means that their allocation consumes a lot of memory and if a system contains thousands or millions of objects that could be an issue.\n",
    "\n",
    "The composed `SecurityDoor` has to redefine the `colour` attribute since the concept of delegation applies only to methods and not to attributes, doesn't it?\n",
    "\n",
    "Well, no. Python provides a very high degree of indirection for objects manipulation and attribute access is one of the most useful. As you already discovered, accessing attributes is ruled by a special method called `__getattribute__()` that is called whenever an attribute of the object is accessed. Overriding `__getattribute__()`, however, is overkill; it is a very complex method, and, being called on every attribute access, any change makes the whole thing slower.\n",
    "\n",
    "The method we have to leverage to delegate attribute access is `__getattr__()`, which is a special method that is called whenever the requested attribute is not found in the object. So basically it is the right place to dispatch all attribute and method access our object cannot handle. The previous example becomes"
   ]
  },
  {
   "cell_type": "code",
   "execution_count": null,
   "metadata": {},
   "outputs": [],
   "source": []
  },
  {
   "cell_type": "code",
   "execution_count": 3,
   "metadata": {},
   "outputs": [
    {
     "data": {
      "text/plain": [
       "mappingproxy({'__module__': '__main__',\n",
       "              'locked': True,\n",
       "              '__init__': <function __main__.SecurityDoor.__init__(self, number, status)>,\n",
       "              'open': <function __main__.SecurityDoor.open(self)>,\n",
       "              '__getattr__': <function __main__.SecurityDoor.__getattr__(self, attr)>,\n",
       "              '__dict__': <attribute '__dict__' of 'SecurityDoor' objects>,\n",
       "              '__weakref__': <attribute '__weakref__' of 'SecurityDoor' objects>,\n",
       "              '__doc__': None})"
      ]
     },
     "execution_count": 3,
     "metadata": {},
     "output_type": "execute_result"
    }
   ],
   "source": [
    "vars(SecurityDoor)"
   ]
  },
  {
   "cell_type": "code",
   "execution_count": 89,
   "metadata": {},
   "outputs": [],
   "source": [
    "class SecurityDoor:\n",
    "    locked = True\n",
    "    \n",
    "    def __init__(self, number, status):\n",
    "        self.door = Door(number, status)\n",
    "        \n",
    "    def open(self):\n",
    "        if self.locked:\n",
    "            return\n",
    "        self.door.open()\n",
    "        \n",
    "    def __getattr__(self, attr):\n",
    "        return getattr(self.door, attr)      #getattr: (object, name[, default])     => \"self.door의 paint를 갖고오라\"\n",
    "    # => 상속과 원리는 같다. \n",
    "    \n",
    "    \n",
    "#composition : 내가 바꾸고 싶은거만 적어놓고, 나머지는 getattr로 상속형식으로 갖다쓴다."
   ]
  },
  {
   "cell_type": "code",
   "execution_count": null,
   "metadata": {},
   "outputs": [],
   "source": [
    "class SecurityDoor(Door):\n",
    "    locked = True\n",
    "    \n",
    "    def open(self):\n",
    "        if self.locked:\n",
    "            return\n",
    "        self.door.open()\n",
    "        \n",
    "    def __getattr__(self, attr):\n",
    "        return getattr(self.door, attr)"
   ]
  },
  {
   "cell_type": "code",
   "execution_count": 90,
   "metadata": {},
   "outputs": [],
   "source": [
    "s = SecurityDoor(1,'open')"
   ]
  },
  {
   "cell_type": "code",
   "execution_count": 91,
   "metadata": {},
   "outputs": [
    {
     "data": {
      "text/plain": [
       "'brown'"
      ]
     },
     "execution_count": 91,
     "metadata": {},
     "output_type": "execute_result"
    }
   ],
   "source": [
    "s.colour"
   ]
  },
  {
   "cell_type": "code",
   "execution_count": 92,
   "metadata": {},
   "outputs": [],
   "source": [
    "s.paint('pink')"
   ]
  },
  {
   "cell_type": "code",
   "execution_count": 93,
   "metadata": {},
   "outputs": [
    {
     "data": {
      "text/plain": [
       "'pink'"
      ]
     },
     "execution_count": 93,
     "metadata": {},
     "output_type": "execute_result"
    }
   ],
   "source": [
    "s.colour"
   ]
  },
  {
   "cell_type": "code",
   "execution_count": 69,
   "metadata": {},
   "outputs": [
    {
     "name": "stdout",
     "output_type": "stream",
     "text": [
      "문\n"
     ]
    }
   ],
   "source": [
    "s.paint('pink')    #attribute error가 나야 하지만(paint는 상속 안받았으니..), \n",
    "#없어서 getattr에 따라 self.door -> Door를 상속한것처럼 되어 실행된다."
   ]
  },
  {
   "cell_type": "code",
   "execution_count": 56,
   "metadata": {},
   "outputs": [],
   "source": [
    "class X:\n",
    "    def __getattr__(self, attr):\n",
    "        return '문근영'"
   ]
  },
  {
   "cell_type": "code",
   "execution_count": 57,
   "metadata": {
    "collapsed": true
   },
   "outputs": [
    {
     "data": {
      "text/plain": [
       "['__class__',\n",
       " '__delattr__',\n",
       " '__dict__',\n",
       " '__dir__',\n",
       " '__doc__',\n",
       " '__eq__',\n",
       " '__format__',\n",
       " '__ge__',\n",
       " '__getattr__',\n",
       " '__getattribute__',\n",
       " '__gt__',\n",
       " '__hash__',\n",
       " '__init__',\n",
       " '__init_subclass__',\n",
       " '__le__',\n",
       " '__lt__',\n",
       " '__module__',\n",
       " '__ne__',\n",
       " '__new__',\n",
       " '__reduce__',\n",
       " '__reduce_ex__',\n",
       " '__repr__',\n",
       " '__setattr__',\n",
       " '__sizeof__',\n",
       " '__str__',\n",
       " '__subclasshook__',\n",
       " '__weakref__']"
      ]
     },
     "execution_count": 57,
     "metadata": {},
     "output_type": "execute_result"
    }
   ],
   "source": [
    "a = X()\n",
    "dir(a)"
   ]
  },
  {
   "cell_type": "code",
   "execution_count": 58,
   "metadata": {},
   "outputs": [
    {
     "data": {
      "text/plain": [
       "'문근영'"
      ]
     },
     "execution_count": 58,
     "metadata": {},
     "output_type": "execute_result"
    }
   ],
   "source": [
    "a.a"
   ]
  },
  {
   "cell_type": "code",
   "execution_count": 59,
   "metadata": {},
   "outputs": [
    {
     "data": {
      "text/plain": [
       "'문근영'"
      ]
     },
     "execution_count": 59,
     "metadata": {},
     "output_type": "execute_result"
    }
   ],
   "source": [
    "a.d"
   ]
  },
  {
   "cell_type": "code",
   "execution_count": 60,
   "metadata": {},
   "outputs": [
    {
     "data": {
      "text/plain": [
       "'문근영'"
      ]
     },
     "execution_count": 60,
     "metadata": {},
     "output_type": "execute_result"
    }
   ],
   "source": [
    "a.z              #.다음것이 정의되어 있지 않은 거라면, attribute 처리되어 나온다."
   ]
  },
  {
   "cell_type": "code",
   "execution_count": 61,
   "metadata": {},
   "outputs": [],
   "source": [
    "class X:\n",
    "    def __getattr__(self, attr):\n",
    "        if attr=='a':\n",
    "            return '문근영a'\n",
    "        return '문근영'"
   ]
  },
  {
   "cell_type": "code",
   "execution_count": 62,
   "metadata": {},
   "outputs": [
    {
     "data": {
      "text/plain": [
       "'문근영a'"
      ]
     },
     "execution_count": 62,
     "metadata": {},
     "output_type": "execute_result"
    }
   ],
   "source": [
    "a = X()\n",
    "a.a"
   ]
  },
  {
   "cell_type": "code",
   "execution_count": 64,
   "metadata": {},
   "outputs": [
    {
     "data": {
      "text/plain": [
       "'문근영'"
      ]
     },
     "execution_count": 64,
     "metadata": {},
     "output_type": "execute_result"
    }
   ],
   "source": [
    "a.b"
   ]
  },
  {
   "cell_type": "markdown",
   "metadata": {},
   "source": [
    "Using `__getattr__()` blends the separation line between inheritance and composition since after all the former is a form of automatic delegation of every member access."
   ]
  },
  {
   "cell_type": "code",
   "execution_count": 96,
   "metadata": {},
   "outputs": [
    {
     "data": {
      "text/plain": [
       "'0x1.0000000000000p+0'"
      ]
     },
     "execution_count": 96,
     "metadata": {},
     "output_type": "execute_result"
    }
   ],
   "source": [
    "a = 1.0\n",
    "a.hex()"
   ]
  },
  {
   "cell_type": "code",
   "execution_count": 97,
   "metadata": {},
   "outputs": [
    {
     "data": {
      "text/plain": [
       "'0x1.0000000000000p+0'"
      ]
     },
     "execution_count": 97,
     "metadata": {},
     "output_type": "execute_result"
    }
   ],
   "source": [
    "getattr(a, 'hex')()       #점(.) 대신에 getattr 쓴다. \n",
    "#다만 __getattr__은 '값이 없을 때'  self에 있는 attribute를 보여준다.\n",
    "# gettattr은 인스턴스에 이름을 집어넣으면 실행시키게 해준다."
   ]
  },
  {
   "cell_type": "code",
   "execution_count": null,
   "metadata": {},
   "outputs": [],
   "source": [
    "#__getattribute__\n",
    "#얘는 또 다른애.\n",
    "#점(.)의로 접근했을 때 뭔지 알려준다."
   ]
  },
  {
   "cell_type": "code",
   "execution_count": 98,
   "metadata": {
    "collapsed": true
   },
   "outputs": [
    {
     "ename": "ZeroDivisionError",
     "evalue": "division by zero",
     "output_type": "error",
     "traceback": [
      "\u001b[1;31m---------------------------------------------------------------------------\u001b[0m",
      "\u001b[1;31mZeroDivisionError\u001b[0m                         Traceback (most recent call last)",
      "\u001b[1;32m<ipython-input-98-d69084826816>\u001b[0m in \u001b[0;36m<module>\u001b[1;34m\u001b[0m\n\u001b[0;32m      1\u001b[0m \u001b[1;32mtry\u001b[0m\u001b[1;33m:\u001b[0m                        \u001b[1;31m#Error시에 Except에 또 에러가 나게 되면..\u001b[0m\u001b[1;33m\u001b[0m\u001b[1;33m\u001b[0m\u001b[0m\n\u001b[1;32m----> 2\u001b[1;33m     \u001b[0ma\u001b[0m \u001b[1;33m=\u001b[0m \u001b[1;36m1\u001b[0m\u001b[1;33m/\u001b[0m\u001b[1;36m0\u001b[0m\u001b[1;33m\u001b[0m\u001b[1;33m\u001b[0m\u001b[0m\n\u001b[0m\u001b[0;32m      3\u001b[0m \u001b[1;32mexcept\u001b[0m\u001b[1;33m:\u001b[0m\u001b[1;33m\u001b[0m\u001b[1;33m\u001b[0m\u001b[0m\n",
      "\u001b[1;31mZeroDivisionError\u001b[0m: division by zero",
      "\nDuring handling of the above exception, another exception occurred:\n",
      "\u001b[1;31mZeroDivisionError\u001b[0m                         Traceback (most recent call last)",
      "\u001b[1;32m<ipython-input-98-d69084826816>\u001b[0m in \u001b[0;36m<module>\u001b[1;34m\u001b[0m\n\u001b[0;32m      2\u001b[0m     \u001b[0ma\u001b[0m \u001b[1;33m=\u001b[0m \u001b[1;36m1\u001b[0m\u001b[1;33m/\u001b[0m\u001b[1;36m0\u001b[0m\u001b[1;33m\u001b[0m\u001b[1;33m\u001b[0m\u001b[0m\n\u001b[0;32m      3\u001b[0m \u001b[1;32mexcept\u001b[0m\u001b[1;33m:\u001b[0m\u001b[1;33m\u001b[0m\u001b[1;33m\u001b[0m\u001b[0m\n\u001b[1;32m----> 4\u001b[1;33m     \u001b[0ma\u001b[0m \u001b[1;33m=\u001b[0m \u001b[1;36m2\u001b[0m\u001b[1;33m/\u001b[0m\u001b[1;36m0\u001b[0m\u001b[1;33m\u001b[0m\u001b[1;33m\u001b[0m\u001b[0m\n\u001b[0m",
      "\u001b[1;31mZeroDivisionError\u001b[0m: division by zero"
     ]
    }
   ],
   "source": [
    "try:                        #Error시에 Except에 또 에러가 나게 되면.. => 걍 에러.(중첩적인 에러 처리 불가.)\n",
    "    a = 1/0\n",
    "except:\n",
    "    a = 2/0"
   ]
  },
  {
   "cell_type": "code",
   "execution_count": 103,
   "metadata": {},
   "outputs": [],
   "source": [
    "class SecurityDoor:\n",
    "    locked = True\n",
    "    \n",
    "    def __init__(self, number, status):\n",
    "        self.door = Door(number, status)\n",
    "        \n",
    "    def open(self):\n",
    "        if self.locked:\n",
    "            return\n",
    "        self.door.open()\n",
    "        \n",
    "    def __getattribute__(self,attr):\n",
    "        print(attr)\n",
    "    \n",
    "    def __getattr__(self, attr):\n",
    "        return getattr(self.door, attr) "
   ]
  },
  {
   "cell_type": "code",
   "execution_count": 104,
   "metadata": {},
   "outputs": [
    {
     "name": "stdout",
     "output_type": "stream",
     "text": [
      "__class__\n",
      "__class__\n",
      "__class__\n",
      "__class__\n",
      "__class__\n",
      "__class__\n"
     ]
    }
   ],
   "source": [
    "s = SecurityDoor(1,'open')"
   ]
  },
  {
   "cell_type": "code",
   "execution_count": 109,
   "metadata": {},
   "outputs": [],
   "source": [
    "class SecurityDoor:\n",
    "    \n",
    "    def __init__(self, number, status):\n",
    "        self.door = Door(number, status)\n",
    "        \n",
    "    def open(self):\n",
    "        if self.locked:\n",
    "            return\n",
    "        self.door.open()\n",
    "        \n",
    "    def __getattribute__(self,attr):\n",
    "        print('문')\n",
    "        return attr\n",
    "    \n",
    "    def __getattr__(self, attr):\n",
    "        return getattr(self.door, attr) \n",
    "    \n",
    "    #점(.)을 붙일 수 있는 애들을 가상의 테이블로 만들어서 놓는다\n",
    "    #getattribute가 먼저 실행되고 나서 getattr이 실행된다."
   ]
  },
  {
   "cell_type": "code",
   "execution_count": 110,
   "metadata": {},
   "outputs": [
    {
     "name": "stdout",
     "output_type": "stream",
     "text": [
      "문\n",
      "문\n",
      "문\n",
      "문\n",
      "문\n",
      "문\n"
     ]
    }
   ],
   "source": [
    "s = SecurityDoor(1, 'open')"
   ]
  },
  {
   "cell_type": "code",
   "execution_count": 47,
   "metadata": {
    "collapsed": true
   },
   "outputs": [],
   "source": [
    "class ComposedDoor:\n",
    "    def __init__(self, number, status):\n",
    "        self.door = Door(number, status)\n",
    "        \n",
    "    def __getattr__(self, attr):\n",
    "        return getattr(self.door, attr)"
   ]
  },
  {
   "cell_type": "markdown",
   "metadata": {},
   "source": [
    "# Composition\n",
    "상속할 애를 인스턴스로 내 클래스 정의 안에 넣는다\n",
    "내가 수정할 부분은 재정의한다\n",
    "수정하지 않을 부분은 __getattr__ 쓴다\n",
    "\n",
    "(상속은 메모리 공유 되고 편하다.)\n",
    "\n",
    "관리해야 할 객체가 확 줄어든다.\n",
    "\n"
   ]
  },
  {
   "cell_type": "markdown",
   "metadata": {},
   "source": [
    "As this last example shows, delegating every member access through `__getattr__()` is very simple. Pay attention to `getattr()` which is different from `__getattr__()`. The former is a built-in that is equivalent to the dotted syntax, i.e. `getattr(obj, 'someattr')` is the same as `obj.someattr`, but you have to use it since the name of the attribute is contained in a string.\n",
    "\n",
    "Composition provides a superior way to manage delegation since it can selectively delegate the access, even mask some attributes or methods, while inheritance cannot. In Python you also avoid the memory problems that might arise when you put many objects inside another; Python handles everything through its reference, i.e. through a pointer to the memory position of the thing, so the size of an attribute is constant and very limited.\n",
    "\n",
    "## Movie Trivia\n",
    "\n",
    "Section titles come from the following movies: _The Cannonball Run (1981)_, _Apocalypse Now (1979)_, _Enter the Dragon (1973)_.\n",
    "\n",
    "## Sources\n",
    "\n",
    "You will find a lot of documentation in [this Reddit post](http://www.reddit.com/r/Python/comments/226ahl/some_links_about_python_oop/). Most of the information contained in this series come from those sources.\n",
    "\n",
    "## Feedback\n",
    "\n",
    "Feel free to use [the blog Google+ page](https://plus.google.com/u/0/b/110554719587236016835/110554719587236016835/posts) to comment the post. The [GitHub issues](https://github.com/lgiordani/lgiordani.github.com/issues) page is the best place to submit corrections.\n"
   ]
  }
 ],
 "metadata": {
  "kernelspec": {
   "display_name": "Python 3",
   "language": "python",
   "name": "python3"
  },
  "language_info": {
   "codemirror_mode": {
    "name": "ipython",
    "version": 3
   },
   "file_extension": ".py",
   "mimetype": "text/x-python",
   "name": "python",
   "nbconvert_exporter": "python",
   "pygments_lexer": "ipython3",
   "version": "3.7.3"
  },
  "varInspector": {
   "cols": {
    "lenName": 16,
    "lenType": 16,
    "lenVar": 40
   },
   "kernels_config": {
    "python": {
     "delete_cmd_postfix": "",
     "delete_cmd_prefix": "del ",
     "library": "var_list.py",
     "varRefreshCmd": "print(var_dic_list())"
    },
    "r": {
     "delete_cmd_postfix": ") ",
     "delete_cmd_prefix": "rm(",
     "library": "var_list.r",
     "varRefreshCmd": "cat(var_dic_list()) "
    }
   },
   "types_to_exclude": [
    "module",
    "function",
    "builtin_function_or_method",
    "instance",
    "_Feature"
   ],
   "window_display": false
  }
 },
 "nbformat": 4,
 "nbformat_minor": 1
}
