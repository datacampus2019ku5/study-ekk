{
 "cells": [
  {
   "cell_type": "markdown",
   "metadata": {},
   "source": [
    "## while, break, continue"
   ]
  },
  {
   "cell_type": "code",
   "execution_count": 1,
   "metadata": {},
   "outputs": [
    {
     "name": "stdout",
     "output_type": "stream",
     "text": [
      "1부터 100까지 합은: 5050\n"
     ]
    }
   ],
   "source": [
    "a=1\n",
    "b=0\n",
    "while a<=100:\n",
    "    b=b+a\n",
    "    a=a+1\n",
    "print('1부터 100까지 합은:',b)"
   ]
  },
  {
   "cell_type": "code",
   "execution_count": 2,
   "metadata": {},
   "outputs": [
    {
     "name": "stdout",
     "output_type": "stream",
     "text": [
      "지불했으니 사탕을 줍니다.\n",
      "남은 사탕의 양은 3개입니다.\n",
      "지불했으니 사탕을 줍니다.\n",
      "남은 사탕의 양은 2개입니다.\n",
      "지불했으니 사탕을 줍니다.\n",
      "남은 사탕의 양은 1개입니다.\n",
      "지불했으니 사탕을 줍니다.\n",
      "남은 사탕의 양은 0개입니다.\n",
      "사탕이 다 떨어졌습니다. 판매를 중지합니다.\n"
     ]
    }
   ],
   "source": [
    "candy=4\n",
    "money=300\n",
    "while money:\n",
    "    print(\"지불했으니 사탕을 줍니다.\")\n",
    "    candy=candy-1\n",
    "    print(\"남은 사탕의 양은 %d개입니다.\"%candy)\n",
    "    if candy==0:\n",
    "        print(\"사탕이 다 떨어졌습니다. 판매를 중지합니다.\")\n",
    "        break"
   ]
  },
  {
   "cell_type": "code",
   "execution_count": 1,
   "metadata": {},
   "outputs": [],
   "source": [
    "#for~break"
   ]
  },
  {
   "cell_type": "code",
   "execution_count": 2,
   "metadata": {},
   "outputs": [
    {
     "name": "stdout",
     "output_type": "stream",
     "text": [
      "중단할 문자를 입력하시오: aaa\n"
     ]
    }
   ],
   "source": [
    "a=input('중단할 문자를 입력하시오: ')"
   ]
  },
  {
   "cell_type": "code",
   "execution_count": 4,
   "metadata": {},
   "outputs": [
    {
     "name": "stdout",
     "output_type": "stream",
     "text": [
      "모든 문자 출력 완료!\n",
      "모든 문자 출력 완료!\n",
      "모든 문자 출력 완료!\n",
      "모든 문자 출력 완료!\n",
      "모든 문자 출력 완료!\n",
      "모든 문자 출력 완료!\n"
     ]
    }
   ],
   "source": [
    "for b in 'python':\n",
    "    if b==a:\n",
    "        break\n",
    "        print(b,end=\" \")\n",
    "    else:\n",
    "        print('모든 문자 출력 완료!')"
   ]
  },
  {
   "cell_type": "code",
   "execution_count": 6,
   "metadata": {},
   "outputs": [
    {
     "name": "stdout",
     "output_type": "stream",
     "text": [
      "건너뛸 문자를 입력하시오: a\n"
     ]
    }
   ],
   "source": [
    "#continue\n",
    "a=input('건너뛸 문자를 입력하시오: ')"
   ]
  },
  {
   "cell_type": "code",
   "execution_count": 7,
   "metadata": {},
   "outputs": [
    {
     "name": "stdout",
     "output_type": "stream",
     "text": [
      "p\n",
      "y\n",
      "t\n",
      "h\n",
      "o\n",
      "n\n"
     ]
    }
   ],
   "source": [
    "for b in 'python':\n",
    "    if b==a:\n",
    "        continue\n",
    "    print(b)"
   ]
  },
  {
   "cell_type": "code",
   "execution_count": 8,
   "metadata": {},
   "outputs": [
    {
     "name": "stdout",
     "output_type": "stream",
     "text": [
      "중단할 문자를 입력하시오: pyt\n"
     ]
    }
   ],
   "source": [
    "#pass\n",
    "a=input('중단할 문자를 입력하시오: ')"
   ]
  },
  {
   "cell_type": "code",
   "execution_count": 9,
   "metadata": {},
   "outputs": [
    {
     "name": "stdout",
     "output_type": "stream",
     "text": [
      "n\n"
     ]
    }
   ],
   "source": [
    "for b in 'python':\n",
    "    if b==a:\n",
    "        pass\n",
    "print(b)"
   ]
  },
  {
   "cell_type": "code",
   "execution_count": null,
   "metadata": {},
   "outputs": [],
   "source": []
  }
 ],
 "metadata": {
  "kernelspec": {
   "display_name": "Python 3",
   "language": "python",
   "name": "python3"
  },
  "language_info": {
   "codemirror_mode": {
    "name": "ipython",
    "version": 3
   },
   "file_extension": ".py",
   "mimetype": "text/x-python",
   "name": "python",
   "nbconvert_exporter": "python",
   "pygments_lexer": "ipython3",
   "version": "3.7.3"
  }
 },
 "nbformat": 4,
 "nbformat_minor": 2
}
