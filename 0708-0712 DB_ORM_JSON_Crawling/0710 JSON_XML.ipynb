{
 "cells": [
  {
   "cell_type": "markdown",
   "metadata": {},
   "source": [
    "## JSON"
   ]
  },
  {
   "cell_type": "code",
   "execution_count": 1,
   "metadata": {},
   "outputs": [],
   "source": [
    "import json"
   ]
  },
  {
   "cell_type": "code",
   "execution_count": 6,
   "metadata": {},
   "outputs": [],
   "source": [
    "name = (\"Kim\", \"Lee\", \"Park\")\n",
    "age = [30,28,31]\n",
    "person = {\"name\":\"Kim\", \"age\":30, \"car\":False}"
   ]
  },
  {
   "cell_type": "code",
   "execution_count": 7,
   "metadata": {},
   "outputs": [],
   "source": [
    "nameStr = json.dumps(name)\n",
    "ageStr = json.dumps(age)\n",
    "personStr = json.dumps(person, indent=\"  \")"
   ]
  },
  {
   "cell_type": "code",
   "execution_count": 11,
   "metadata": {},
   "outputs": [
    {
     "name": "stdout",
     "output_type": "stream",
     "text": [
      "[\"\\uae40\", \"\\uc774\", \"\\ubc15\"]\n",
      "[\"김\", \"이\", \"박\"]\n"
     ]
    }
   ],
   "source": [
    "kname = (\"김\", \"이\", \"박\")\n",
    "knameStr = json.dumps(kname)\n",
    "print(knameStr)                 #ASCII Code\n",
    "knameStr = json.dumps(kname, ensure_ascii=False)\n",
    "print(knameStr)                 #After Encoding"
   ]
  },
  {
   "cell_type": "code",
   "execution_count": 13,
   "metadata": {},
   "outputs": [
    {
     "data": {
      "text/plain": [
       "True"
      ]
     },
     "execution_count": 13,
     "metadata": {},
     "output_type": "execute_result"
    }
   ],
   "source": [
    "personObj = json.loads(personStr)\n",
    "person == personObj"
   ]
  },
  {
   "cell_type": "code",
   "execution_count": 14,
   "metadata": {},
   "outputs": [
    {
     "name": "stdout",
     "output_type": "stream",
     "text": [
      "<class 'dict'> <class 'dict'>\n"
     ]
    }
   ],
   "source": [
    "print(type(person), type(personObj))"
   ]
  },
  {
   "cell_type": "code",
   "execution_count": 15,
   "metadata": {},
   "outputs": [],
   "source": [
    "person[\"car\"] = [\"레이\", \"모닝\"]\n",
    "\n",
    "with open(\"person.json\", \"w\") as f:\n",
    "    json.dump(person, f)"
   ]
  },
  {
   "cell_type": "code",
   "execution_count": 16,
   "metadata": {},
   "outputs": [
    {
     "data": {
      "text/plain": [
       "{'name': 'Kim', 'age': 30, 'car': ['레이', '모닝']}"
      ]
     },
     "execution_count": 16,
     "metadata": {},
     "output_type": "execute_result"
    }
   ],
   "source": [
    "with open(\"person.json\", \"r\") as f:\n",
    "    personObj = json.load(f)\n",
    "    \n",
    "personObj"
   ]
  },
  {
   "cell_type": "code",
   "execution_count": 17,
   "metadata": {},
   "outputs": [
    {
     "ename": "HTTPError",
     "evalue": "HTTP Error 503: Service Unavailable",
     "output_type": "error",
     "traceback": [
      "\u001b[1;31m---------------------------------------------------------------------------\u001b[0m",
      "\u001b[1;31mHTTPError\u001b[0m                                 Traceback (most recent call last)",
      "\u001b[1;32m<ipython-input-17-2eb5314cb388>\u001b[0m in \u001b[0;36m<module>\u001b[1;34m\u001b[0m\n\u001b[0;32m      9\u001b[0m \u001b[1;33m\u001b[0m\u001b[0m\n\u001b[0;32m     10\u001b[0m \u001b[0mreq\u001b[0m \u001b[1;33m=\u001b[0m \u001b[0murllib\u001b[0m\u001b[1;33m.\u001b[0m\u001b[0mrequest\u001b[0m\u001b[1;33m.\u001b[0m\u001b[0mRequest\u001b[0m\u001b[1;33m(\u001b[0m\u001b[0murl\u001b[0m\u001b[1;33m,\u001b[0m \u001b[0mdata\u001b[0m\u001b[1;33m=\u001b[0m\u001b[0mobjByte\u001b[0m\u001b[1;33m,\u001b[0m \u001b[0mheaders\u001b[0m\u001b[1;33m=\u001b[0m\u001b[1;33m{\u001b[0m\u001b[1;34m'content-type'\u001b[0m\u001b[1;33m:\u001b[0m \u001b[1;34m'application/json'\u001b[0m\u001b[1;33m}\u001b[0m\u001b[1;33m)\u001b[0m\u001b[1;33m\u001b[0m\u001b[1;33m\u001b[0m\u001b[0m\n\u001b[1;32m---> 11\u001b[1;33m \u001b[0mres\u001b[0m \u001b[1;33m=\u001b[0m \u001b[0murllib\u001b[0m\u001b[1;33m.\u001b[0m\u001b[0mrequest\u001b[0m\u001b[1;33m.\u001b[0m\u001b[0murlopen\u001b[0m\u001b[1;33m(\u001b[0m\u001b[0mreq\u001b[0m\u001b[1;33m)\u001b[0m\u001b[1;33m\u001b[0m\u001b[1;33m\u001b[0m\u001b[0m\n\u001b[0m\u001b[0;32m     12\u001b[0m \u001b[1;33m\u001b[0m\u001b[0m\n\u001b[0;32m     13\u001b[0m \u001b[0mresByte\u001b[0m \u001b[1;33m=\u001b[0m \u001b[0mres\u001b[0m\u001b[1;33m.\u001b[0m\u001b[0mread\u001b[0m\u001b[1;33m(\u001b[0m\u001b[1;33m)\u001b[0m\u001b[1;33m\u001b[0m\u001b[1;33m\u001b[0m\u001b[0m\n",
      "\u001b[1;32m~\\Anaconda3\\lib\\urllib\\request.py\u001b[0m in \u001b[0;36murlopen\u001b[1;34m(url, data, timeout, cafile, capath, cadefault, context)\u001b[0m\n\u001b[0;32m    220\u001b[0m     \u001b[1;32melse\u001b[0m\u001b[1;33m:\u001b[0m\u001b[1;33m\u001b[0m\u001b[1;33m\u001b[0m\u001b[0m\n\u001b[0;32m    221\u001b[0m         \u001b[0mopener\u001b[0m \u001b[1;33m=\u001b[0m \u001b[0m_opener\u001b[0m\u001b[1;33m\u001b[0m\u001b[1;33m\u001b[0m\u001b[0m\n\u001b[1;32m--> 222\u001b[1;33m     \u001b[1;32mreturn\u001b[0m \u001b[0mopener\u001b[0m\u001b[1;33m.\u001b[0m\u001b[0mopen\u001b[0m\u001b[1;33m(\u001b[0m\u001b[0murl\u001b[0m\u001b[1;33m,\u001b[0m \u001b[0mdata\u001b[0m\u001b[1;33m,\u001b[0m \u001b[0mtimeout\u001b[0m\u001b[1;33m)\u001b[0m\u001b[1;33m\u001b[0m\u001b[1;33m\u001b[0m\u001b[0m\n\u001b[0m\u001b[0;32m    223\u001b[0m \u001b[1;33m\u001b[0m\u001b[0m\n\u001b[0;32m    224\u001b[0m \u001b[1;32mdef\u001b[0m \u001b[0minstall_opener\u001b[0m\u001b[1;33m(\u001b[0m\u001b[0mopener\u001b[0m\u001b[1;33m)\u001b[0m\u001b[1;33m:\u001b[0m\u001b[1;33m\u001b[0m\u001b[1;33m\u001b[0m\u001b[0m\n",
      "\u001b[1;32m~\\Anaconda3\\lib\\urllib\\request.py\u001b[0m in \u001b[0;36mopen\u001b[1;34m(self, fullurl, data, timeout)\u001b[0m\n\u001b[0;32m    529\u001b[0m         \u001b[1;32mfor\u001b[0m \u001b[0mprocessor\u001b[0m \u001b[1;32min\u001b[0m \u001b[0mself\u001b[0m\u001b[1;33m.\u001b[0m\u001b[0mprocess_response\u001b[0m\u001b[1;33m.\u001b[0m\u001b[0mget\u001b[0m\u001b[1;33m(\u001b[0m\u001b[0mprotocol\u001b[0m\u001b[1;33m,\u001b[0m \u001b[1;33m[\u001b[0m\u001b[1;33m]\u001b[0m\u001b[1;33m)\u001b[0m\u001b[1;33m:\u001b[0m\u001b[1;33m\u001b[0m\u001b[1;33m\u001b[0m\u001b[0m\n\u001b[0;32m    530\u001b[0m             \u001b[0mmeth\u001b[0m \u001b[1;33m=\u001b[0m \u001b[0mgetattr\u001b[0m\u001b[1;33m(\u001b[0m\u001b[0mprocessor\u001b[0m\u001b[1;33m,\u001b[0m \u001b[0mmeth_name\u001b[0m\u001b[1;33m)\u001b[0m\u001b[1;33m\u001b[0m\u001b[1;33m\u001b[0m\u001b[0m\n\u001b[1;32m--> 531\u001b[1;33m             \u001b[0mresponse\u001b[0m \u001b[1;33m=\u001b[0m \u001b[0mmeth\u001b[0m\u001b[1;33m(\u001b[0m\u001b[0mreq\u001b[0m\u001b[1;33m,\u001b[0m \u001b[0mresponse\u001b[0m\u001b[1;33m)\u001b[0m\u001b[1;33m\u001b[0m\u001b[1;33m\u001b[0m\u001b[0m\n\u001b[0m\u001b[0;32m    532\u001b[0m \u001b[1;33m\u001b[0m\u001b[0m\n\u001b[0;32m    533\u001b[0m         \u001b[1;32mreturn\u001b[0m \u001b[0mresponse\u001b[0m\u001b[1;33m\u001b[0m\u001b[1;33m\u001b[0m\u001b[0m\n",
      "\u001b[1;32m~\\Anaconda3\\lib\\urllib\\request.py\u001b[0m in \u001b[0;36mhttp_response\u001b[1;34m(self, request, response)\u001b[0m\n\u001b[0;32m    639\u001b[0m         \u001b[1;32mif\u001b[0m \u001b[1;32mnot\u001b[0m \u001b[1;33m(\u001b[0m\u001b[1;36m200\u001b[0m \u001b[1;33m<=\u001b[0m \u001b[0mcode\u001b[0m \u001b[1;33m<\u001b[0m \u001b[1;36m300\u001b[0m\u001b[1;33m)\u001b[0m\u001b[1;33m:\u001b[0m\u001b[1;33m\u001b[0m\u001b[1;33m\u001b[0m\u001b[0m\n\u001b[0;32m    640\u001b[0m             response = self.parent.error(\n\u001b[1;32m--> 641\u001b[1;33m                 'http', request, response, code, msg, hdrs)\n\u001b[0m\u001b[0;32m    642\u001b[0m \u001b[1;33m\u001b[0m\u001b[0m\n\u001b[0;32m    643\u001b[0m         \u001b[1;32mreturn\u001b[0m \u001b[0mresponse\u001b[0m\u001b[1;33m\u001b[0m\u001b[1;33m\u001b[0m\u001b[0m\n",
      "\u001b[1;32m~\\Anaconda3\\lib\\urllib\\request.py\u001b[0m in \u001b[0;36merror\u001b[1;34m(self, proto, *args)\u001b[0m\n\u001b[0;32m    567\u001b[0m         \u001b[1;32mif\u001b[0m \u001b[0mhttp_err\u001b[0m\u001b[1;33m:\u001b[0m\u001b[1;33m\u001b[0m\u001b[1;33m\u001b[0m\u001b[0m\n\u001b[0;32m    568\u001b[0m             \u001b[0margs\u001b[0m \u001b[1;33m=\u001b[0m \u001b[1;33m(\u001b[0m\u001b[0mdict\u001b[0m\u001b[1;33m,\u001b[0m \u001b[1;34m'default'\u001b[0m\u001b[1;33m,\u001b[0m \u001b[1;34m'http_error_default'\u001b[0m\u001b[1;33m)\u001b[0m \u001b[1;33m+\u001b[0m \u001b[0morig_args\u001b[0m\u001b[1;33m\u001b[0m\u001b[1;33m\u001b[0m\u001b[0m\n\u001b[1;32m--> 569\u001b[1;33m             \u001b[1;32mreturn\u001b[0m \u001b[0mself\u001b[0m\u001b[1;33m.\u001b[0m\u001b[0m_call_chain\u001b[0m\u001b[1;33m(\u001b[0m\u001b[1;33m*\u001b[0m\u001b[0margs\u001b[0m\u001b[1;33m)\u001b[0m\u001b[1;33m\u001b[0m\u001b[1;33m\u001b[0m\u001b[0m\n\u001b[0m\u001b[0;32m    570\u001b[0m \u001b[1;33m\u001b[0m\u001b[0m\n\u001b[0;32m    571\u001b[0m \u001b[1;31m# XXX probably also want an abstract factory that knows when it makes\u001b[0m\u001b[1;33m\u001b[0m\u001b[1;33m\u001b[0m\u001b[1;33m\u001b[0m\u001b[0m\n",
      "\u001b[1;32m~\\Anaconda3\\lib\\urllib\\request.py\u001b[0m in \u001b[0;36m_call_chain\u001b[1;34m(self, chain, kind, meth_name, *args)\u001b[0m\n\u001b[0;32m    501\u001b[0m         \u001b[1;32mfor\u001b[0m \u001b[0mhandler\u001b[0m \u001b[1;32min\u001b[0m \u001b[0mhandlers\u001b[0m\u001b[1;33m:\u001b[0m\u001b[1;33m\u001b[0m\u001b[1;33m\u001b[0m\u001b[0m\n\u001b[0;32m    502\u001b[0m             \u001b[0mfunc\u001b[0m \u001b[1;33m=\u001b[0m \u001b[0mgetattr\u001b[0m\u001b[1;33m(\u001b[0m\u001b[0mhandler\u001b[0m\u001b[1;33m,\u001b[0m \u001b[0mmeth_name\u001b[0m\u001b[1;33m)\u001b[0m\u001b[1;33m\u001b[0m\u001b[1;33m\u001b[0m\u001b[0m\n\u001b[1;32m--> 503\u001b[1;33m             \u001b[0mresult\u001b[0m \u001b[1;33m=\u001b[0m \u001b[0mfunc\u001b[0m\u001b[1;33m(\u001b[0m\u001b[1;33m*\u001b[0m\u001b[0margs\u001b[0m\u001b[1;33m)\u001b[0m\u001b[1;33m\u001b[0m\u001b[1;33m\u001b[0m\u001b[0m\n\u001b[0m\u001b[0;32m    504\u001b[0m             \u001b[1;32mif\u001b[0m \u001b[0mresult\u001b[0m \u001b[1;32mis\u001b[0m \u001b[1;32mnot\u001b[0m \u001b[1;32mNone\u001b[0m\u001b[1;33m:\u001b[0m\u001b[1;33m\u001b[0m\u001b[1;33m\u001b[0m\u001b[0m\n\u001b[0;32m    505\u001b[0m                 \u001b[1;32mreturn\u001b[0m \u001b[0mresult\u001b[0m\u001b[1;33m\u001b[0m\u001b[1;33m\u001b[0m\u001b[0m\n",
      "\u001b[1;32m~\\Anaconda3\\lib\\urllib\\request.py\u001b[0m in \u001b[0;36mhttp_error_default\u001b[1;34m(self, req, fp, code, msg, hdrs)\u001b[0m\n\u001b[0;32m    647\u001b[0m \u001b[1;32mclass\u001b[0m \u001b[0mHTTPDefaultErrorHandler\u001b[0m\u001b[1;33m(\u001b[0m\u001b[0mBaseHandler\u001b[0m\u001b[1;33m)\u001b[0m\u001b[1;33m:\u001b[0m\u001b[1;33m\u001b[0m\u001b[1;33m\u001b[0m\u001b[0m\n\u001b[0;32m    648\u001b[0m     \u001b[1;32mdef\u001b[0m \u001b[0mhttp_error_default\u001b[0m\u001b[1;33m(\u001b[0m\u001b[0mself\u001b[0m\u001b[1;33m,\u001b[0m \u001b[0mreq\u001b[0m\u001b[1;33m,\u001b[0m \u001b[0mfp\u001b[0m\u001b[1;33m,\u001b[0m \u001b[0mcode\u001b[0m\u001b[1;33m,\u001b[0m \u001b[0mmsg\u001b[0m\u001b[1;33m,\u001b[0m \u001b[0mhdrs\u001b[0m\u001b[1;33m)\u001b[0m\u001b[1;33m:\u001b[0m\u001b[1;33m\u001b[0m\u001b[1;33m\u001b[0m\u001b[0m\n\u001b[1;32m--> 649\u001b[1;33m         \u001b[1;32mraise\u001b[0m \u001b[0mHTTPError\u001b[0m\u001b[1;33m(\u001b[0m\u001b[0mreq\u001b[0m\u001b[1;33m.\u001b[0m\u001b[0mfull_url\u001b[0m\u001b[1;33m,\u001b[0m \u001b[0mcode\u001b[0m\u001b[1;33m,\u001b[0m \u001b[0mmsg\u001b[0m\u001b[1;33m,\u001b[0m \u001b[0mhdrs\u001b[0m\u001b[1;33m,\u001b[0m \u001b[0mfp\u001b[0m\u001b[1;33m)\u001b[0m\u001b[1;33m\u001b[0m\u001b[1;33m\u001b[0m\u001b[0m\n\u001b[0m\u001b[0;32m    650\u001b[0m \u001b[1;33m\u001b[0m\u001b[0m\n\u001b[0;32m    651\u001b[0m \u001b[1;32mclass\u001b[0m \u001b[0mHTTPRedirectHandler\u001b[0m\u001b[1;33m(\u001b[0m\u001b[0mBaseHandler\u001b[0m\u001b[1;33m)\u001b[0m\u001b[1;33m:\u001b[0m\u001b[1;33m\u001b[0m\u001b[1;33m\u001b[0m\u001b[0m\n",
      "\u001b[1;31mHTTPError\u001b[0m: HTTP Error 503: Service Unavailable"
     ]
    }
   ],
   "source": [
    "import json\n",
    "import urllib.request\n",
    "\n",
    "url = \"http://ip.jsontest.com\"\n",
    "\n",
    "obj = {\"name\":\"김이박\", \"age\":30}\n",
    "objStr = json.dumps(obj)\n",
    "objByte = objStr.encode(\"utf-8\")\n",
    "\n",
    "req = urllib.request.Request(url, data=objByte, headers={'content-type': 'application/json'})\n",
    "res = urllib.request.urlopen(req)\n",
    "\n",
    "resByte = res.read()\n",
    "resStr = resByte.decode(\"utf-8\")\n",
    "resObj = json.loads(resStr)\n",
    "\n",
    "print(resByte, type(resByte))\n",
    "print(resStr, type(resStr))\n",
    "print(resObj, type(resObj))"
   ]
  },
  {
   "cell_type": "markdown",
   "metadata": {},
   "source": [
    "대기오염정보 API_인증키\n",
    "0xHf54NZjk%2BD7OpsxI8zeXZxG6dvyYAwdrTIDeFXP0VAb41cTIE4tCRVF%2F72q9msp3fssuvPVUCw07XC4eAJSA%3D%3D\n"
   ]
  },
  {
   "cell_type": "code",
   "execution_count": 68,
   "metadata": {
    "collapsed": true
   },
   "outputs": [
    {
     "name": "stdout",
     "output_type": "stream",
     "text": [
      "{\n",
      "  \"list\": [\n",
      "    {\n",
      "      \"_returnType\": \"json\",\n",
      "      \"coGrade\": \"1\",\n",
      "      \"coValue\": \"0.5\",\n",
      "      \"dataTerm\": \"\",\n",
      "      \"dataTime\": \"2019-07-10 14:00\",\n",
      "      \"khaiGrade\": \"1\",\n",
      "      \"khaiValue\": \"42\",\n",
      "      \"mangName\": \"\\ub3c4\\uc2dc\\ub300\\uae30\",\n",
      "      \"no2Grade\": \"1\",\n",
      "      \"no2Value\": \"0.020\",\n",
      "      \"numOfRows\": \"10\",\n",
      "      \"o3Grade\": \"1\",\n",
      "      \"o3Value\": \"0.025\",\n",
      "      \"pageNo\": \"1\",\n",
      "      \"pm10Grade\": \"1\",\n",
      "      \"pm10Grade1h\": \"1\",\n",
      "      \"pm10Value\": \"8\",\n",
      "      \"pm10Value24\": \"7\",\n",
      "      \"pm25Grade\": \"1\",\n",
      "      \"pm25Grade1h\": \"1\",\n",
      "      \"pm25Value\": \"7\",\n",
      "      \"pm25Value24\": \"6\",\n",
      "      \"resultCode\": \"\",\n",
      "      \"resultMsg\": \"\",\n",
      "      \"rnum\": 0,\n",
      "      \"serviceKey\": \"\",\n",
      "      \"sidoName\": \"\",\n",
      "      \"so2Grade\": \"\",\n",
      "      \"so2Value\": \"-\",\n",
      "      \"stationCode\": \"\",\n",
      "      \"stationName\": \"\",\n",
      "      \"totalCount\": \"\",\n",
      "      \"ver\": \"\"\n",
      "    },\n",
      "    {\n",
      "      \"_returnType\": \"json\",\n",
      "      \"coGrade\": \"1\",\n",
      "      \"coValue\": \"0.5\",\n",
      "      \"dataTerm\": \"\",\n",
      "      \"dataTime\": \"2019-07-10 13:00\",\n",
      "      \"khaiGrade\": \"\",\n",
      "      \"khaiValue\": \"-\",\n",
      "      \"mangName\": \"\\ub3c4\\uc2dc\\ub300\\uae30\",\n",
      "      \"no2Grade\": \"1\",\n",
      "      \"no2Value\": \"0.017\",\n",
      "      \"numOfRows\": \"10\",\n",
      "      \"o3Grade\": \"1\",\n",
      "      \"o3Value\": \"0.029\",\n",
      "      \"pageNo\": \"1\",\n",
      "      \"pm10Grade\": \"1\",\n",
      "      \"pm10Grade1h\": \"1\",\n",
      "      \"pm10Value\": \"6\",\n",
      "      \"pm10Value24\": \"7\",\n",
      "      \"pm25Grade\": \"\",\n",
      "      \"pm25Grade1h\": \"1\",\n",
      "      \"pm25Value\": \"6\",\n",
      "      \"pm25Value24\": \"-\",\n",
      "      \"resultCode\": \"\",\n",
      "      \"resultMsg\": \"\",\n",
      "      \"rnum\": 0,\n",
      "      \"serviceKey\": \"\",\n",
      "      \"sidoName\": \"\",\n",
      "      \"so2Grade\": \"\",\n",
      "      \"so2Value\": \"-\",\n",
      "      \"stationCode\": \"\",\n",
      "      \"stationName\": \"\",\n",
      "      \"totalCount\": \"\",\n",
      "      \"ver\": \"\"\n",
      "    },\n",
      "    {\n",
      "      \"_returnType\": \"json\",\n",
      "      \"coGrade\": \"1\",\n",
      "      \"coValue\": \"0.5\",\n",
      "      \"dataTerm\": \"\",\n",
      "      \"dataTime\": \"2019-07-10 12:00\",\n",
      "      \"khaiGrade\": \"\",\n",
      "      \"khaiValue\": \"-\",\n",
      "      \"mangName\": \"\\ub3c4\\uc2dc\\ub300\\uae30\",\n",
      "      \"no2Grade\": \"1\",\n",
      "      \"no2Value\": \"0.018\",\n",
      "      \"numOfRows\": \"10\",\n",
      "      \"o3Grade\": \"1\",\n",
      "      \"o3Value\": \"0.029\",\n",
      "      \"pageNo\": \"1\",\n",
      "      \"pm10Grade\": \"1\",\n",
      "      \"pm10Grade1h\": \"1\",\n",
      "      \"pm10Value\": \"6\",\n",
      "      \"pm10Value24\": \"7\",\n",
      "      \"pm25Grade\": \"\",\n",
      "      \"pm25Grade1h\": \"1\",\n",
      "      \"pm25Value\": \"6\",\n",
      "      \"pm25Value24\": \"-\",\n",
      "      \"resultCode\": \"\",\n",
      "      \"resultMsg\": \"\",\n",
      "      \"rnum\": 0,\n",
      "      \"serviceKey\": \"\",\n",
      "      \"sidoName\": \"\",\n",
      "      \"so2Grade\": \"\",\n",
      "      \"so2Value\": \"-\",\n",
      "      \"stationCode\": \"\",\n",
      "      \"stationName\": \"\",\n",
      "      \"totalCount\": \"\",\n",
      "      \"ver\": \"\"\n",
      "    },\n",
      "    {\n",
      "      \"_returnType\": \"json\",\n",
      "      \"coGrade\": \"1\",\n",
      "      \"coValue\": \"0.5\",\n",
      "      \"dataTerm\": \"\",\n",
      "      \"dataTime\": \"2019-07-10 11:00\",\n",
      "      \"khaiGrade\": \"\",\n",
      "      \"khaiValue\": \"-\",\n",
      "      \"mangName\": \"\\ub3c4\\uc2dc\\ub300\\uae30\",\n",
      "      \"no2Grade\": \"1\",\n",
      "      \"no2Value\": \"0.017\",\n",
      "      \"numOfRows\": \"10\",\n",
      "      \"o3Grade\": \"1\",\n",
      "      \"o3Value\": \"0.028\",\n",
      "      \"pageNo\": \"1\",\n",
      "      \"pm10Grade\": \"1\",\n",
      "      \"pm10Grade1h\": \"1\",\n",
      "      \"pm10Value\": \"8\",\n",
      "      \"pm10Value24\": \"7\",\n",
      "      \"pm25Grade\": \"\",\n",
      "      \"pm25Grade1h\": \"1\",\n",
      "      \"pm25Value\": \"7\",\n",
      "      \"pm25Value24\": \"-\",\n",
      "      \"resultCode\": \"\",\n",
      "      \"resultMsg\": \"\",\n",
      "      \"rnum\": 0,\n",
      "      \"serviceKey\": \"\",\n",
      "      \"sidoName\": \"\",\n",
      "      \"so2Grade\": \"\",\n",
      "      \"so2Value\": \"-\",\n",
      "      \"stationCode\": \"\",\n",
      "      \"stationName\": \"\",\n",
      "      \"totalCount\": \"\",\n",
      "      \"ver\": \"\"\n",
      "    },\n",
      "    {\n",
      "      \"_returnType\": \"json\",\n",
      "      \"coGrade\": \"1\",\n",
      "      \"coValue\": \"0.5\",\n",
      "      \"dataTerm\": \"\",\n",
      "      \"dataTime\": \"2019-07-10 10:00\",\n",
      "      \"khaiGrade\": \"\",\n",
      "      \"khaiValue\": \"-\",\n",
      "      \"mangName\": \"\\ub3c4\\uc2dc\\ub300\\uae30\",\n",
      "      \"no2Grade\": \"1\",\n",
      "      \"no2Value\": \"0.019\",\n",
      "      \"numOfRows\": \"10\",\n",
      "      \"o3Grade\": \"1\",\n",
      "      \"o3Value\": \"0.027\",\n",
      "      \"pageNo\": \"1\",\n",
      "      \"pm10Grade\": \"1\",\n",
      "      \"pm10Grade1h\": \"1\",\n",
      "      \"pm10Value\": \"8\",\n",
      "      \"pm10Value24\": \"7\",\n",
      "      \"pm25Grade\": \"\",\n",
      "      \"pm25Grade1h\": \"1\",\n",
      "      \"pm25Value\": \"5\",\n",
      "      \"pm25Value24\": \"-\",\n",
      "      \"resultCode\": \"\",\n",
      "      \"resultMsg\": \"\",\n",
      "      \"rnum\": 0,\n",
      "      \"serviceKey\": \"\",\n",
      "      \"sidoName\": \"\",\n",
      "      \"so2Grade\": \"\",\n",
      "      \"so2Value\": \"-\",\n",
      "      \"stationCode\": \"\",\n",
      "      \"stationName\": \"\",\n",
      "      \"totalCount\": \"\",\n",
      "      \"ver\": \"\"\n",
      "    },\n",
      "    {\n",
      "      \"_returnType\": \"json\",\n",
      "      \"coGrade\": \"1\",\n",
      "      \"coValue\": \"0.5\",\n",
      "      \"dataTerm\": \"\",\n",
      "      \"dataTime\": \"2019-07-10 09:00\",\n",
      "      \"khaiGrade\": \"\",\n",
      "      \"khaiValue\": \"-\",\n",
      "      \"mangName\": \"\\ub3c4\\uc2dc\\ub300\\uae30\",\n",
      "      \"no2Grade\": \"1\",\n",
      "      \"no2Value\": \"0.018\",\n",
      "      \"numOfRows\": \"10\",\n",
      "      \"o3Grade\": \"1\",\n",
      "      \"o3Value\": \"0.026\",\n",
      "      \"pageNo\": \"1\",\n",
      "      \"pm10Grade\": \"1\",\n",
      "      \"pm10Grade1h\": \"1\",\n",
      "      \"pm10Value\": \"11\",\n",
      "      \"pm10Value24\": \"6\",\n",
      "      \"pm25Grade\": \"\",\n",
      "      \"pm25Grade1h\": \"1\",\n",
      "      \"pm25Value\": \"4\",\n",
      "      \"pm25Value24\": \"-\",\n",
      "      \"resultCode\": \"\",\n",
      "      \"resultMsg\": \"\",\n",
      "      \"rnum\": 0,\n",
      "      \"serviceKey\": \"\",\n",
      "      \"sidoName\": \"\",\n",
      "      \"so2Grade\": \"\",\n",
      "      \"so2Value\": \"-\",\n",
      "      \"stationCode\": \"\",\n",
      "      \"stationName\": \"\",\n",
      "      \"totalCount\": \"\",\n",
      "      \"ver\": \"\"\n",
      "    },\n",
      "    {\n",
      "      \"_returnType\": \"json\",\n",
      "      \"coGrade\": \"1\",\n",
      "      \"coValue\": \"0.5\",\n",
      "      \"dataTerm\": \"\",\n",
      "      \"dataTime\": \"2019-07-10 08:00\",\n",
      "      \"khaiGrade\": \"\",\n",
      "      \"khaiValue\": \"-\",\n",
      "      \"mangName\": \"\\ub3c4\\uc2dc\\ub300\\uae30\",\n",
      "      \"no2Grade\": \"1\",\n",
      "      \"no2Value\": \"0.022\",\n",
      "      \"numOfRows\": \"10\",\n",
      "      \"o3Grade\": \"1\",\n",
      "      \"o3Value\": \"0.021\",\n",
      "      \"pageNo\": \"1\",\n",
      "      \"pm10Grade\": \"1\",\n",
      "      \"pm10Grade1h\": \"1\",\n",
      "      \"pm10Value\": \"7\",\n",
      "      \"pm10Value24\": \"5\",\n",
      "      \"pm25Grade\": \"\",\n",
      "      \"pm25Grade1h\": \"1\",\n",
      "      \"pm25Value\": \"4\",\n",
      "      \"pm25Value24\": \"-\",\n",
      "      \"resultCode\": \"\",\n",
      "      \"resultMsg\": \"\",\n",
      "      \"rnum\": 0,\n",
      "      \"serviceKey\": \"\",\n",
      "      \"sidoName\": \"\",\n",
      "      \"so2Grade\": \"\",\n",
      "      \"so2Value\": \"-\",\n",
      "      \"stationCode\": \"\",\n",
      "      \"stationName\": \"\",\n",
      "      \"totalCount\": \"\",\n",
      "      \"ver\": \"\"\n",
      "    },\n",
      "    {\n",
      "      \"_returnType\": \"json\",\n",
      "      \"coGrade\": \"1\",\n",
      "      \"coValue\": \"0.5\",\n",
      "      \"dataTerm\": \"\",\n",
      "      \"dataTime\": \"2019-07-10 07:00\",\n",
      "      \"khaiGrade\": \"\",\n",
      "      \"khaiValue\": \"-\",\n",
      "      \"mangName\": \"\\ub3c4\\uc2dc\\ub300\\uae30\",\n",
      "      \"no2Grade\": \"1\",\n",
      "      \"no2Value\": \"0.022\",\n",
      "      \"numOfRows\": \"10\",\n",
      "      \"o3Grade\": \"1\",\n",
      "      \"o3Value\": \"0.018\",\n",
      "      \"pageNo\": \"1\",\n",
      "      \"pm10Grade\": \"1\",\n",
      "      \"pm10Grade1h\": \"1\",\n",
      "      \"pm10Value\": \"4\",\n",
      "      \"pm10Value24\": \"5\",\n",
      "      \"pm25Grade\": \"\",\n",
      "      \"pm25Grade1h\": \"\",\n",
      "      \"pm25Value\": \"-\",\n",
      "      \"pm25Value24\": \"-\",\n",
      "      \"resultCode\": \"\",\n",
      "      \"resultMsg\": \"\",\n",
      "      \"rnum\": 0,\n",
      "      \"serviceKey\": \"\",\n",
      "      \"sidoName\": \"\",\n",
      "      \"so2Grade\": \"\",\n",
      "      \"so2Value\": \"-\",\n",
      "      \"stationCode\": \"\",\n",
      "      \"stationName\": \"\",\n",
      "      \"totalCount\": \"\",\n",
      "      \"ver\": \"\"\n",
      "    },\n",
      "    {\n",
      "      \"_returnType\": \"json\",\n",
      "      \"coGrade\": \"1\",\n",
      "      \"coValue\": \"0.4\",\n",
      "      \"dataTerm\": \"\",\n",
      "      \"dataTime\": \"2019-07-10 06:00\",\n",
      "      \"khaiGrade\": \"\",\n",
      "      \"khaiValue\": \"-\",\n",
      "      \"mangName\": \"\\ub3c4\\uc2dc\\ub300\\uae30\",\n",
      "      \"no2Grade\": \"1\",\n",
      "      \"no2Value\": \"0.016\",\n",
      "      \"numOfRows\": \"10\",\n",
      "      \"o3Grade\": \"1\",\n",
      "      \"o3Value\": \"0.022\",\n",
      "      \"pageNo\": \"1\",\n",
      "      \"pm10Grade\": \"1\",\n",
      "      \"pm10Grade1h\": \"1\",\n",
      "      \"pm10Value\": \"6\",\n",
      "      \"pm10Value24\": \"5\",\n",
      "      \"pm25Grade\": \"\",\n",
      "      \"pm25Grade1h\": \"1\",\n",
      "      \"pm25Value\": \"5\",\n",
      "      \"pm25Value24\": \"-\",\n",
      "      \"resultCode\": \"\",\n",
      "      \"resultMsg\": \"\",\n",
      "      \"rnum\": 0,\n",
      "      \"serviceKey\": \"\",\n",
      "      \"sidoName\": \"\",\n",
      "      \"so2Grade\": \"\",\n",
      "      \"so2Value\": \"-\",\n",
      "      \"stationCode\": \"\",\n",
      "      \"stationName\": \"\",\n",
      "      \"totalCount\": \"\",\n",
      "      \"ver\": \"\"\n",
      "    },\n",
      "    {\n",
      "      \"_returnType\": \"json\",\n",
      "      \"coGrade\": \"1\",\n",
      "      \"coValue\": \"0.6\",\n",
      "      \"dataTerm\": \"\",\n",
      "      \"dataTime\": \"2019-07-10 05:00\",\n",
      "      \"khaiGrade\": \"\",\n",
      "      \"khaiValue\": \"-\",\n",
      "      \"mangName\": \"\\ub3c4\\uc2dc\\ub300\\uae30\",\n",
      "      \"no2Grade\": \"1\",\n",
      "      \"no2Value\": \"0.011\",\n",
      "      \"numOfRows\": \"10\",\n",
      "      \"o3Grade\": \"1\",\n",
      "      \"o3Value\": \"0.026\",\n",
      "      \"pageNo\": \"1\",\n",
      "      \"pm10Grade\": \"1\",\n",
      "      \"pm10Grade1h\": \"1\",\n",
      "      \"pm10Value\": \"4\",\n",
      "      \"pm10Value24\": \"5\",\n",
      "      \"pm25Grade\": \"\",\n",
      "      \"pm25Grade1h\": \"\",\n",
      "      \"pm25Value\": \"-\",\n",
      "      \"pm25Value24\": \"-\",\n",
      "      \"resultCode\": \"\",\n",
      "      \"resultMsg\": \"\",\n",
      "      \"rnum\": 0,\n",
      "      \"serviceKey\": \"\",\n",
      "      \"sidoName\": \"\",\n",
      "      \"so2Grade\": \"\",\n",
      "      \"so2Value\": \"-\",\n",
      "      \"stationCode\": \"\",\n",
      "      \"stationName\": \"\",\n",
      "      \"totalCount\": \"\",\n",
      "      \"ver\": \"\"\n",
      "    }\n",
      "  ],\n",
      "  \"parm\": {\n",
      "    \"_returnType\": \"json\",\n",
      "    \"coGrade\": \"\",\n",
      "    \"coValue\": \"\",\n",
      "    \"dataTerm\": \"DAILY\",\n",
      "    \"dataTime\": \"\",\n",
      "    \"khaiGrade\": \"\",\n",
      "    \"khaiValue\": \"\",\n",
      "    \"mangName\": \"\",\n",
      "    \"no2Grade\": \"\",\n",
      "    \"no2Value\": \"\",\n",
      "    \"numOfRows\": \"10\",\n",
      "    \"o3Grade\": \"\",\n",
      "    \"o3Value\": \"\",\n",
      "    \"pageNo\": \"1\",\n",
      "    \"pm10Grade\": \"\",\n",
      "    \"pm10Grade1h\": \"\",\n",
      "    \"pm10Value\": \"\",\n",
      "    \"pm10Value24\": \"\",\n",
      "    \"pm25Grade\": \"\",\n",
      "    \"pm25Grade1h\": \"\",\n",
      "    \"pm25Value\": \"\",\n",
      "    \"pm25Value24\": \"\",\n",
      "    \"resultCode\": \"\",\n",
      "    \"resultMsg\": \"\",\n",
      "    \"rnum\": 0,\n",
      "    \"serviceKey\": \"0xHf54NZjk+D7OpsxI8zeXZxG6dvyYAwdrTIDeFXP0VAb41cTIE4tCRVF/72q9msp3fssuvPVUCw07XC4eAJSA==\",\n",
      "    \"sidoName\": \"\",\n",
      "    \"so2Grade\": \"\",\n",
      "    \"so2Value\": \"\",\n",
      "    \"stationCode\": \"\",\n",
      "    \"stationName\": \"\\uc131\\ubd81\\uad6c\",\n",
      "    \"totalCount\": \"\",\n",
      "    \"ver\": \"1.3\"\n",
      "  },\n",
      "  \"ArpltnInforInqireSvcVo\": {\n",
      "    \"_returnType\": \"json\",\n",
      "    \"coGrade\": \"\",\n",
      "    \"coValue\": \"\",\n",
      "    \"dataTerm\": \"DAILY\",\n",
      "    \"dataTime\": \"\",\n",
      "    \"khaiGrade\": \"\",\n",
      "    \"khaiValue\": \"\",\n",
      "    \"mangName\": \"\",\n",
      "    \"no2Grade\": \"\",\n",
      "    \"no2Value\": \"\",\n",
      "    \"numOfRows\": \"10\",\n",
      "    \"o3Grade\": \"\",\n",
      "    \"o3Value\": \"\",\n",
      "    \"pageNo\": \"1\",\n",
      "    \"pm10Grade\": \"\",\n",
      "    \"pm10Grade1h\": \"\",\n",
      "    \"pm10Value\": \"\",\n",
      "    \"pm10Value24\": \"\",\n",
      "    \"pm25Grade\": \"\",\n",
      "    \"pm25Grade1h\": \"\",\n",
      "    \"pm25Value\": \"\",\n",
      "    \"pm25Value24\": \"\",\n",
      "    \"resultCode\": \"\",\n",
      "    \"resultMsg\": \"\",\n",
      "    \"rnum\": 0,\n",
      "    \"serviceKey\": \"0xHf54NZjk+D7OpsxI8zeXZxG6dvyYAwdrTIDeFXP0VAb41cTIE4tCRVF/72q9msp3fssuvPVUCw07XC4eAJSA==\",\n",
      "    \"sidoName\": \"\",\n",
      "    \"so2Grade\": \"\",\n",
      "    \"so2Value\": \"\",\n",
      "    \"stationCode\": \"\",\n",
      "    \"stationName\": \"\\uc131\\ubd81\\uad6c\",\n",
      "    \"totalCount\": \"\",\n",
      "    \"ver\": \"1.3\"\n",
      "  },\n",
      "  \"totalCount\": 23\n",
      "}\n"
     ]
    }
   ],
   "source": [
    "import urllib\n",
    "import urllib.request\n",
    "import json\n",
    "url = \"http://openapi.airkorea.or.kr/openapi/services/rest/ArpltnInforInqireSvc/getMsrstnAcctoRltmMesureDnsty\"\n",
    "\n",
    "params = {\n",
    "    \"serviceKey\": \"0xHf54NZjk%2BD7OpsxI8zeXZxG6dvyYAwdrTIDeFXP0VAb41cTIE4tCRVF%2F72q9msp3fssuvPVUCw07XC4eAJSA%3D%3D\",\n",
    "    \"numOfRows\":10,\n",
    "    \"pageSize\":10,\n",
    "    \"pageNo\":1,\n",
    "    \"startPage\":1,\n",
    "    \"stationName\":\"성북구\",\n",
    "    \"dataTerm\":\"DAILY\",\n",
    "    \"ver\":\"1.3\",\n",
    "    \"_returnType\":\"JSON\"\n",
    "}\n",
    "\n",
    "params[\"serviceKey\"] = urllib.parse.unquote(params[\"serviceKey\"])\n",
    "params = urllib.parse.urlencode(params)\n",
    "params = params.encode(\"utf-8\")\n",
    "\n",
    "req = urllib.request.Request(url, data=params)\n",
    "res = urllib.request.urlopen(req)\n",
    "\n",
    "resStr = res.read()\n",
    "\n",
    "resStr = resStr.decode(\"utf-8\")\n",
    "resObj = json.loads(resStr)\n",
    "\n",
    "resJSON = json.dumps(resObj, indent=\"  \")\n",
    "print(resJSON)"
   ]
  },
  {
   "cell_type": "code",
   "execution_count": 58,
   "metadata": {
    "collapsed": true
   },
   "outputs": [
    {
     "data": {
      "text/plain": [
       "dict"
      ]
     },
     "execution_count": 58,
     "metadata": {},
     "output_type": "execute_result"
    }
   ],
   "source": [
    "type(resObj)"
   ]
  },
  {
   "cell_type": "code",
   "execution_count": 59,
   "metadata": {},
   "outputs": [
    {
     "data": {
      "text/plain": [
       "dict_keys(['list', 'parm', 'ArpltnInforInqireSvcVo', 'totalCount'])"
      ]
     },
     "execution_count": 59,
     "metadata": {},
     "output_type": "execute_result"
    }
   ],
   "source": [
    "resObj.keys()"
   ]
  },
  {
   "cell_type": "code",
   "execution_count": 65,
   "metadata": {
    "collapsed": true
   },
   "outputs": [
    {
     "data": {
      "text/plain": [
       "{'_returnType': 'json',\n",
       " 'coGrade': '1',\n",
       " 'coValue': '0.5',\n",
       " 'dataTerm': '',\n",
       " 'dataTime': '2019-07-10 13:00',\n",
       " 'khaiGrade': '',\n",
       " 'khaiValue': '-',\n",
       " 'mangName': '도시대기',\n",
       " 'no2Grade': '1',\n",
       " 'no2Value': '0.017',\n",
       " 'numOfRows': '10',\n",
       " 'o3Grade': '1',\n",
       " 'o3Value': '0.029',\n",
       " 'pageNo': '1',\n",
       " 'pm10Grade': '1',\n",
       " 'pm10Grade1h': '1',\n",
       " 'pm10Value': '6',\n",
       " 'pm10Value24': '7',\n",
       " 'pm25Grade': '',\n",
       " 'pm25Grade1h': '1',\n",
       " 'pm25Value': '6',\n",
       " 'pm25Value24': '-',\n",
       " 'resultCode': '',\n",
       " 'resultMsg': '',\n",
       " 'rnum': 0,\n",
       " 'serviceKey': '',\n",
       " 'sidoName': '',\n",
       " 'so2Grade': '',\n",
       " 'so2Value': '-',\n",
       " 'stationCode': '',\n",
       " 'stationName': '',\n",
       " 'totalCount': '',\n",
       " 'ver': ''}"
      ]
     },
     "execution_count": 65,
     "metadata": {},
     "output_type": "execute_result"
    }
   ],
   "source": [
    "resObj['list'][0]"
   ]
  },
  {
   "cell_type": "code",
   "execution_count": 64,
   "metadata": {},
   "outputs": [
    {
     "data": {
      "text/plain": [
       "''"
      ]
     },
     "execution_count": 64,
     "metadata": {},
     "output_type": "execute_result"
    }
   ],
   "source": [
    "resObj['list'][0]['stationName']"
   ]
  },
  {
   "cell_type": "code",
   "execution_count": 75,
   "metadata": {},
   "outputs": [
    {
     "data": {
      "text/plain": [
       "[('list', list),\n",
       " ('parm', dict),\n",
       " ('ArpltnInforInqireSvcVo', dict),\n",
       " ('totalCount', int)]"
      ]
     },
     "execution_count": 75,
     "metadata": {},
     "output_type": "execute_result"
    }
   ],
   "source": [
    "[(k,type(resObj[k])) for k in resObj.keys()]"
   ]
  },
  {
   "cell_type": "code",
   "execution_count": 81,
   "metadata": {},
   "outputs": [],
   "source": [
    "import urllib\n",
    "import urllib.request\n",
    "import json\n",
    "url = \"http://openapi.airkorea.or.kr/openapi/services/rest/ArpltnStatsSvc/getMsrstnAcctoLastDcsnDnsty\"\n",
    "\n",
    "params = {\n",
    "    \"serviceKey\": \"0xHf54NZjk%2BD7OpsxI8zeXZxG6dvyYAwdrTIDeFXP0VAb41cTIE4tCRVF%2F72q9msp3fssuvPVUCw07XC4eAJSA%3D%3D\",\n",
    "    \"resultCode\" = 00,\n",
    "    \"resultMsg\" == 'NORMAL SERVICE';\n",
    "    \"numOfRows = 10,\"\n",
    "}\n",
    "\n",
    "params[\"serviceKey\"] = urllib.parse.unquote(params[\"serviceKey\"])\n",
    "params = urllib.parse.urlencode(params)\n",
    "params = params.encode(\"utf-8\")\n",
    "\n",
    "req = urllib.request.Request(url, data=params)\n",
    "res = urllib.request.urlopen(req)\n",
    "\n",
    "resStr = res.read()\n",
    "\n",
    "resStr = resStr.decode(\"utf-8\")\n",
    "# resObj = json.loads(resStr)\n",
    "\n",
    "# resJSON = json.dumps(resObj, indent=\"  \")\n",
    "# print(resJSON)"
   ]
  },
  {
   "cell_type": "code",
   "execution_count": 82,
   "metadata": {},
   "outputs": [
    {
     "data": {
      "text/plain": [
       "'<?xml version=\"1.0\" encoding=\"UTF-8\"?>\\r\\n\\r\\n\\r\\n\\r\\n\\r\\n<response>\\r\\n\\t<header>\\r\\n\\t\\t<resultCode>20</resultCode>\\r\\n\\t\\t<resultMsg>SERVICE ACCESS DENIED ERROR.</resultMsg>\\r\\n\\t</header>\\r\\n</response>\\r\\n'"
      ]
     },
     "execution_count": 82,
     "metadata": {},
     "output_type": "execute_result"
    }
   ],
   "source": [
    "resStr"
   ]
  },
  {
   "cell_type": "markdown",
   "metadata": {},
   "source": [
    "# XML"
   ]
  },
  {
   "cell_type": "code",
   "execution_count": 83,
   "metadata": {},
   "outputs": [],
   "source": [
    "import xml.etree.ElementTree as et\n",
    "from lxml import etree"
   ]
  },
  {
   "cell_type": "code",
   "execution_count": 84,
   "metadata": {},
   "outputs": [
    {
     "name": "stdout",
     "output_type": "stream",
     "text": [
      "<bookstore><book category=\"cooking\"><title lang=\"en\">Everyday Italian</title><author>Giada De Laurentiis</author><year>2005</year><price>30.00</price></book><book category=\"children\"><title lang=\"en\">Harry Potter</title><author>Giada De laurentiis</author><year>2005</year><price>30.00</price></book></bookstore>\n"
     ]
    }
   ],
   "source": [
    "bookStore = et.Element(\"bookstore\")\n",
    "\n",
    "book1 = et.Element(\"book\", category=\"cooking\")\n",
    "bookStore.insert(0, book1)\n",
    "\n",
    "title1 = et.Element(\"title\")\n",
    "title1.attrib[\"lang\"] = \"en\"\n",
    "title1.text = \"Everyday Italian\"\n",
    "book1.append(title1)\n",
    "\n",
    "et.SubElement(book1, \"author\").text = \"Giada De Laurentiis\"\n",
    "et.SubElement(book1, \"year\").text = \"2005\"\n",
    "et.SubElement(book1, \"price\").text = \"30.00\"\n",
    "\n",
    "book2 = et.Element(\"book\", {\"category\":\"children\"})\n",
    "bookStore.append(book2)\n",
    "\n",
    "title2 = et.Element(\"title\")\n",
    "title2.attrib[\"lang\"] = title1.get(\"lang\")\n",
    "title2.text = \"Harry Potter\"\n",
    "book2.append(title2)\n",
    "\n",
    "et.SubElement(book2, \"author\").text = \"Giada De laurentiis\"\n",
    "et.SubElement(book2, \"year\").text = \"2005\"\n",
    "et.SubElement(book2, \"price\").text = \"30.00\"\n",
    "\n",
    "et.dump(bookStore)"
   ]
  },
  {
   "cell_type": "code",
   "execution_count": 89,
   "metadata": {},
   "outputs": [
    {
     "ename": "SyntaxError",
     "evalue": "invalid syntax (<ipython-input-89-a0ab597aed71>, line 15)",
     "output_type": "error",
     "traceback": [
      "\u001b[1;36m  File \u001b[1;32m\"<ipython-input-89-a0ab597aed71>\"\u001b[1;36m, line \u001b[1;32m15\u001b[0m\n\u001b[1;33m    for childNode in childNodes:\u001b[0m\n\u001b[1;37m                               ^\u001b[0m\n\u001b[1;31mSyntaxError\u001b[0m\u001b[1;31m:\u001b[0m invalid syntax\n"
     ]
    }
   ],
   "source": [
    "root = et.XML(et.tostring(bookStore))\n",
    "\n",
    "# self.children\n",
    "print(len(root))\n",
    "for childNode in root:\n",
    "    print(childNode.tag, childNode.attrib)\n",
    "    \n",
    "root.clear()\n",
    "\n",
    "root = et.fromstring(et.tostring(bookStore))\n",
    "\n",
    "#self.children, list(elem)\n",
    "childNodes = root.getchildren()\n",
    "print(len(childNodes)\n",
    "for childNode in childNodes:\n",
    "      print(childNode.tag, childNode.items())\n",
    "      \n",
    "for childNode in childNodes[0]:\n",
    "      print(childNode.tag, childNode.keys())\n",
    "      if childNode.keys()!=[]:\n",
    "          print([childNode.get(k) for k in childNode.keys()])\n",
    "\n",
    "book = root.find(\"book\")\n",
    "print(book.tag, book.get(\"category\"))\n",
    "\n",
    "bookList = root.findall(\"book\")\n",
    "for book in bookList:\n",
    "      print(book.tag, book.get(\"category\"))\n",
    "      \n",
    "title = root.find(\".//title\")\n",
    "print(type(title), title.text)\n",
    "      \n",
    "titleList = root.findall(\".//title\")\n",
    "print([title.text for title in titleList])\n",
    "      \n",
    "title = root.findtext(\".//title\")\n",
    "print(type(title), title)\n",
    "      \n",
    "book = root.find(\".//book[@category='children']\")\n",
    "print(book, book.tag)"
   ]
  },
  {
   "cell_type": "code",
   "execution_count": 90,
   "metadata": {},
   "outputs": [
    {
     "ename": "NameError",
     "evalue": "name 'root' is not defined",
     "output_type": "error",
     "traceback": [
      "\u001b[1;31m---------------------------------------------------------------------------\u001b[0m",
      "\u001b[1;31mNameError\u001b[0m                                 Traceback (most recent call last)",
      "\u001b[1;32m<ipython-input-90-1913e7feaf25>\u001b[0m in \u001b[0;36m<module>\u001b[1;34m\u001b[0m\n\u001b[0;32m      1\u001b[0m \u001b[1;32mfrom\u001b[0m \u001b[0mxml\u001b[0m\u001b[1;33m.\u001b[0m\u001b[0metree\u001b[0m\u001b[1;33m.\u001b[0m\u001b[0mElementTree\u001b[0m \u001b[1;32mimport\u001b[0m \u001b[0mElementTree\u001b[0m\u001b[1;33m\u001b[0m\u001b[1;33m\u001b[0m\u001b[0m\n\u001b[0;32m      2\u001b[0m \u001b[1;33m\u001b[0m\u001b[0m\n\u001b[1;32m----> 3\u001b[1;33m \u001b[0mtree\u001b[0m \u001b[1;33m=\u001b[0m \u001b[0mElementTree\u001b[0m\u001b[1;33m(\u001b[0m\u001b[0mroot\u001b[0m\u001b[1;33m)\u001b[0m\u001b[1;33m\u001b[0m\u001b[1;33m\u001b[0m\u001b[0m\n\u001b[0m\u001b[0;32m      4\u001b[0m \u001b[0mtree\u001b[0m\u001b[1;33m.\u001b[0m\u001b[0mwrite\u001b[0m\u001b[1;33m(\u001b[0m\u001b[1;34m\"pack.bookstore.xml\"\u001b[0m\u001b[1;33m,\u001b[0m \u001b[0mencoding\u001b[0m\u001b[1;33m=\u001b[0m\u001b[1;34m\"utf-8\"\u001b[0m\u001b[1;33m,\u001b[0m \u001b[0mxml_declaration\u001b[0m\u001b[1;33m=\u001b[0m\u001b[1;34m\"utf-8\"\u001b[0m\u001b[1;33m)\u001b[0m\u001b[1;33m\u001b[0m\u001b[1;33m\u001b[0m\u001b[0m\n",
      "\u001b[1;31mNameError\u001b[0m: name 'root' is not defined"
     ]
    }
   ],
   "source": [
    "from xml.etree.ElementTree import ElementTree\n",
    "N\n",
    "tree = ElementTree(root)\n",
    "tree.write(\"pack.bookstore.xml\", encoding=\"utf-8\", xml_declaration=\"utf-8\")"
   ]
  },
  {
   "cell_type": "markdown",
   "metadata": {},
   "source": [
    "웹=> HTML. => HTML만 연습하면 모두 긁어올 수 있다."
   ]
  },
  {
   "cell_type": "markdown",
   "metadata": {},
   "source": [
    "opt-in : 정보수집을 명시적으로 동의할 때에만 정보수집 가능; Whitelist   -> 반드시 동의해야만 함(회원가입, 이용약관)\n",
    "opt-out : 정보수집을 명시적으로 거부할 때에만 정보수집 중단; blacklist  -> 거부안하면 바로 진행할거야 임마\n",
    "\n",
    "=> blacklist로 할거지만.... 그것마저도 거부한다..!"
   ]
  }
 ],
 "metadata": {
  "kernelspec": {
   "display_name": "Python 3",
   "language": "python",
   "name": "python3"
  },
  "language_info": {
   "codemirror_mode": {
    "name": "ipython",
    "version": 3
   },
   "file_extension": ".py",
   "mimetype": "text/x-python",
   "name": "python",
   "nbconvert_exporter": "python",
   "pygments_lexer": "ipython3",
   "version": "3.7.3"
  }
 },
 "nbformat": 4,
 "nbformat_minor": 2
}
