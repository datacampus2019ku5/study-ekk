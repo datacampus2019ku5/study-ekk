{
 "cells": [
  {
   "cell_type": "markdown",
   "metadata": {},
   "source": [
    "# NLP"
   ]
  },
  {
   "cell_type": "markdown",
   "metadata": {},
   "source": [
    "형태소분석 : 토큰분리, 어간추출, 품사부착, 색인, 벡터화\n",
    "\n",
    "구문분석: 문장경계인식, 구문분석, 공기어, 개체명 사전 구축, 개체명 인식\n",
    "\n",
    "의미분석: 대용어 해소, 의미 중의성 해결\n",
    "\n",
    "담론분석: 분류, 군집, 중복, 요약, 가중치, 순위화, 토픽 모델링, 이슈 트래킹, 평판분석, 감성분석, 복합논증분석"
   ]
  },
  {
   "cell_type": "markdown",
   "metadata": {},
   "source": [
    "## NLTK : Natural Language Tool Kit"
   ]
  },
  {
   "cell_type": "code",
   "execution_count": 19,
   "metadata": {},
   "outputs": [],
   "source": [
    "import nltk"
   ]
  },
  {
   "cell_type": "code",
   "execution_count": 20,
   "metadata": {},
   "outputs": [
    {
     "name": "stderr",
     "output_type": "stream",
     "text": [
      "[nltk_data] Downloading package brown to\n",
      "[nltk_data]     C:\\Users\\David\\AppData\\Roaming\\nltk_data...\n",
      "[nltk_data]   Package brown is already up-to-date!\n",
      "[nltk_data] Downloading package gutenberg to\n",
      "[nltk_data]     C:\\Users\\David\\AppData\\Roaming\\nltk_data...\n",
      "[nltk_data]   Package gutenberg is already up-to-date!\n"
     ]
    },
    {
     "data": {
      "text/plain": [
       "True"
      ]
     },
     "execution_count": 20,
     "metadata": {},
     "output_type": "execute_result"
    }
   ],
   "source": [
    "nltk.download('brown')\n",
    "nltk.download('gutenberg')"
   ]
  },
  {
   "cell_type": "markdown",
   "metadata": {},
   "source": [
    "(비정형데이터)Input text - Sentence splitting - Tokenizing - Part_of_Speeach(POS) tagging"
   ]
  },
  {
   "cell_type": "code",
   "execution_count": 21,
   "metadata": {},
   "outputs": [],
   "source": [
    "import sqlite3\n",
    "con = sqlite3.connect(\"news.db\")    #뉴스 기사 DB\n",
    "cur = con.cursor()"
   ]
  },
  {
   "cell_type": "code",
   "execution_count": 22,
   "metadata": {},
   "outputs": [],
   "source": [
    "cur.execute(\"\"\"\n",
    "    SELECT content\n",
    "    FROM table2\n",
    "    ORDER BY num ASC;\n",
    "\"\"\")\n",
    "corpus = [_[0] for _ in cur.fetchall()]"
   ]
  },
  {
   "cell_type": "code",
   "execution_count": 23,
   "metadata": {},
   "outputs": [
    {
     "data": {
      "text/plain": [
       "35"
      ]
     },
     "execution_count": 23,
     "metadata": {},
     "output_type": "execute_result"
    }
   ],
   "source": [
    "len(corpus)"
   ]
  },
  {
   "cell_type": "code",
   "execution_count": 24,
   "metadata": {},
   "outputs": [
    {
     "name": "stderr",
     "output_type": "stream",
     "text": [
      "[nltk_data] Downloading package punkt to\n",
      "[nltk_data]     C:\\Users\\David\\AppData\\Roaming\\nltk_data...\n",
      "[nltk_data]   Package punkt is already up-to-date!\n"
     ]
    },
    {
     "data": {
      "text/plain": [
       "True"
      ]
     },
     "execution_count": 24,
     "metadata": {},
     "output_type": "execute_result"
    }
   ],
   "source": [
    "from nltk.tokenize import sent_tokenize\n",
    "\n",
    "nltk.download('punkt')    ## 구둣점"
   ]
  },
  {
   "cell_type": "code",
   "execution_count": 25,
   "metadata": {},
   "outputs": [
    {
     "data": {
      "text/plain": [
       "(3082, 692, 52)"
      ]
     },
     "execution_count": 25,
     "metadata": {},
     "output_type": "execute_result"
    }
   ],
   "source": [
    "len(corpus[0]), len(corpus[0].split()), len(corpus[0].splitlines())"
   ]
  },
  {
   "cell_type": "code",
   "execution_count": 26,
   "metadata": {},
   "outputs": [
    {
     "data": {
      "text/plain": [
       "39"
      ]
     },
     "execution_count": 26,
     "metadata": {},
     "output_type": "execute_result"
    }
   ],
   "source": [
    "from nltk.tokenize import sent_tokenize\n",
    "\n",
    "len(sent_tokenize(corpus[0]))  # 실제 문장 수"
   ]
  },
  {
   "cell_type": "code",
   "execution_count": 27,
   "metadata": {},
   "outputs": [
    {
     "data": {
      "text/plain": [
       "'일반고 전환 자사고 지원 방안 발표…5년간 20억 지원'"
      ]
     },
     "execution_count": 27,
     "metadata": {},
     "output_type": "execute_result"
    }
   ],
   "source": [
    "corpus[0].splitlines()[0]  #제목"
   ]
  },
  {
   "cell_type": "code",
   "execution_count": 28,
   "metadata": {},
   "outputs": [
    {
     "data": {
      "text/plain": [
       "'일반고 전환 자사고 지원 방안 발표…5년간 20억 지원\\n\"법령 개정해 자사고 법적근거 폐기해야…폐지 여부 공론화도\"\\n조희연 서울시교육감이 17일 서울 종로구 서울시교육청에서 열린 기자회견에서 일반고 종합 지원 계획을 발표하며 고개 숙여 인사하고 있다.'"
      ]
     },
     "execution_count": 28,
     "metadata": {},
     "output_type": "execute_result"
    }
   ],
   "source": [
    "sent_tokenize(corpus[0])[0]  "
   ]
  },
  {
   "cell_type": "code",
   "execution_count": 29,
   "metadata": {},
   "outputs": [
    {
     "data": {
      "text/plain": [
       "'!\"#$%&\\'()*+,-./:;<=>?@[\\\\]^_`{|}~'"
      ]
     },
     "execution_count": 29,
     "metadata": {},
     "output_type": "execute_result"
    }
   ],
   "source": [
    "from string import punctuation\n",
    "punctuation"
   ]
  },
  {
   "cell_type": "code",
   "execution_count": 30,
   "metadata": {},
   "outputs": [
    {
     "data": {
      "text/plain": [
       "['Life is too short.']"
      ]
     },
     "execution_count": 30,
     "metadata": {},
     "output_type": "execute_result"
    }
   ],
   "source": [
    "sent_tokenize(\"Life is too short.\")"
   ]
  },
  {
   "cell_type": "code",
   "execution_count": 31,
   "metadata": {},
   "outputs": [
    {
     "data": {
      "text/plain": [
       "['\\n    Life is too short.... Life is too short !', 'Life is too short']"
      ]
     },
     "execution_count": 31,
     "metadata": {},
     "output_type": "execute_result"
    }
   ],
   "source": [
    "sent_tokenize(\"\"\"\n",
    "    Life is too short.... Life is too short !\n",
    "    Life is too short    \n",
    "\"\"\")"
   ]
  },
  {
   "cell_type": "code",
   "execution_count": 32,
   "metadata": {},
   "outputs": [
    {
     "data": {
      "text/plain": [
       "['\\n    술 한잔 마셨습1니다... 영화가 잘 안되도 좋습니다.',\n",
       " '하지만 엄복동 하나만\\n    기억해주세요 진심을 다해 전합니다.',\n",
       " '영화가 별로 일수있습니다 \\n    밤낮으로 고민하고 연기 했습니다 ...최선을 다했고 열심히 했습니다 \\n    저의 진심이 느껴지길 바랍니다 고맙습니다...']"
      ]
     },
     "execution_count": 32,
     "metadata": {},
     "output_type": "execute_result"
    }
   ],
   "source": [
    "sent_tokenize(\"\"\"\n",
    "    술 한잔 마셨습1니다... 영화가 잘 안되도 좋습니다. 하지만 엄복동 하나만\n",
    "    기억해주세요 진심을 다해 전합니다. 영화가 별로 일수있습니다 \n",
    "    밤낮으로 고민하고 연기 했습니다 ...최선을 다했고 열심히 했습니다 \n",
    "    저의 진심이 느껴지길 바랍니다 고맙습니다...\n",
    "\"\"\")"
   ]
  },
  {
   "cell_type": "code",
   "execution_count": 33,
   "metadata": {},
   "outputs": [
    {
     "data": {
      "text/plain": [
       "['Life', 'is', 'too', 'short', ',', 'Life', 'is', 'too', 'short', '.']"
      ]
     },
     "execution_count": 33,
     "metadata": {},
     "output_type": "execute_result"
    }
   ],
   "source": [
    "from nltk.tokenize import word_tokenize\n",
    "word_tokenize(\"Life is too short, Life is too short.\")\n",
    "\n",
    "#단어 단위로 자른다. 구둣점 기반이라 '어절' 자르기 좋다."
   ]
  },
  {
   "cell_type": "code",
   "execution_count": 34,
   "metadata": {
    "collapsed": true
   },
   "outputs": [
    {
     "data": {
      "text/plain": [
       "['술',\n",
       " '한잔',\n",
       " '마셨습1니다',\n",
       " '...',\n",
       " '영화가',\n",
       " '잘',\n",
       " '안되도',\n",
       " '좋습니다',\n",
       " '.',\n",
       " '하지만',\n",
       " '엄복동',\n",
       " '하나만',\n",
       " '``',\n",
       " '기억',\n",
       " \"''\",\n",
       " '해주세요',\n",
       " '진심을',\n",
       " '다해',\n",
       " '전합니다',\n",
       " '.',\n",
       " '영화가',\n",
       " '별로',\n",
       " '일수있습니다',\n",
       " '밤낮으로',\n",
       " '고민하고',\n",
       " '연기',\n",
       " '했습니다',\n",
       " '...',\n",
       " '최선을',\n",
       " '다했고',\n",
       " '열심히',\n",
       " '했습니다',\n",
       " '저의',\n",
       " '진심이',\n",
       " '느껴지길',\n",
       " '바랍니다',\n",
       " '고맙습니다',\n",
       " '...']"
      ]
     },
     "execution_count": 34,
     "metadata": {},
     "output_type": "execute_result"
    }
   ],
   "source": [
    "word_tokenize(\"\"\"\n",
    "    술 한잔 마셨습1니다... 영화가 잘 안되도 좋습니다. 하지만 엄복동 하나만\n",
    "    \"기억\"해주세요 진심을 다해 전합니다. 영화가 별로 일수있습니다 \n",
    "    밤낮으로 고민하고 연기 했습니다 ...최선을 다했고 열심히 했습니다 \n",
    "    저의 진심이 느껴지길 바랍니다 고맙습니다...\n",
    "\"\"\")"
   ]
  },
  {
   "cell_type": "code",
   "execution_count": 35,
   "metadata": {},
   "outputs": [
    {
     "data": {
      "text/plain": [
       "['You', 'need', 'Python']"
      ]
     },
     "execution_count": 35,
     "metadata": {},
     "output_type": "execute_result"
    }
   ],
   "source": [
    "from nltk.tokenize import TweetTokenizer\n",
    "word_tokenize(\"You need Python\")"
   ]
  },
  {
   "cell_type": "code",
   "execution_count": 36,
   "metadata": {},
   "outputs": [
    {
     "data": {
      "text/plain": [
       "['You', 'need', 'Python', '12', '한', '글']"
      ]
     },
     "execution_count": 36,
     "metadata": {},
     "output_type": "execute_result"
    }
   ],
   "source": [
    "import re\n",
    "from nltk.tokenize import regexp_tokenize\n",
    "pattern = re.compile(r\"\\b(\\w+)\\b\")\n",
    "regexp_tokenize(\"You need Python!!!! 12 한#$%^글\", pattern)"
   ]
  },
  {
   "cell_type": "code",
   "execution_count": 37,
   "metadata": {},
   "outputs": [
    {
     "data": {
      "text/plain": [
       "['한', '글']"
      ]
     },
     "execution_count": 37,
     "metadata": {},
     "output_type": "execute_result"
    }
   ],
   "source": [
    "pattern = re.compile(r\"\\b([가-힣])\\b\")\n",
    "regexp_tokenize(\"You need Python!!!! 12 한#$%^글 ㅜㅠㅡㅠㅡ\", pattern)"
   ]
  },
  {
   "cell_type": "code",
   "execution_count": 38,
   "metadata": {},
   "outputs": [
    {
     "name": "stdout",
     "output_type": "stream",
     "text": [
      "ㅠㅠㅜㅜㅋㅋ한글\n"
     ]
    }
   ],
   "source": [
    "print(re.sub(r\"[^ㄱ-ㅎㅏ-ㅣ가-힣]\",\"\",\"ㅠㅠ ㅜㅜ ㅋㅋ 한@#$글\"))"
   ]
  },
  {
   "cell_type": "code",
   "execution_count": 48,
   "metadata": {},
   "outputs": [],
   "source": [
    "import nltk"
   ]
  },
  {
   "cell_type": "code",
   "execution_count": 55,
   "metadata": {},
   "outputs": [
    {
     "data": {
      "image/png": "[encoded data removed]",
      "text/plain": [
       "<Figure size 432x288 with 1 Axes>"
      ]
     },
     "metadata": {
      "needs_background": "light"
     },
     "output_type": "display_data"
    }
   ],
   "source": [
    "from nltk import Text\n",
    "text = Text(word_tokenize(corpus[0]))\n",
    "\n",
    "text.vocab().B()#unique한 토큰\n",
    "text.vocab().N()#전체 토큰\n",
    "\n",
    "text.vocab().most_common(30) # 가장 자주 쓰인 애들\n",
    "\n",
    "text.plot(30)"
   ]
  },
  {
   "cell_type": "code",
   "execution_count": 57,
   "metadata": {},
   "outputs": [
    {
     "data": {
      "text/plain": [
       "FreqDist({'.': 37, '일반고': 18, '자사고': 16, \"''\": 16, '지원': 15, '``': 14, '대한': 9, '종합': 8, '전환': 7, \"'\": 7, ...})"
      ]
     },
     "execution_count": 57,
     "metadata": {},
     "output_type": "execute_result"
    }
   ],
   "source": [
    "text.vocab()"
   ]
  },
  {
   "cell_type": "code",
   "execution_count": 58,
   "metadata": {},
   "outputs": [
    {
     "data": {
      "text/plain": [
       "0.0"
      ]
     },
     "execution_count": 58,
     "metadata": {},
     "output_type": "execute_result"
    }
   ],
   "source": [
    "text.vocab().freq(\"정두언\")"
   ]
  },
  {
   "cell_type": "code",
   "execution_count": 59,
   "metadata": {},
   "outputs": [
    {
     "name": "stdout",
     "output_type": "stream",
     "text": [
      "0.04528763769889841\n",
      "0.022031823745410038\n",
      "0.019583843329253364\n",
      "0.019583843329253364\n",
      "0.01835985312117503\n",
      "0.017135862913096694\n",
      "0.011015911872705019\n",
      "0.009791921664626682\n",
      "0.008567931456548347\n",
      "0.008567931456548347\n",
      "0.17992656058751527\n"
     ]
    }
   ],
   "source": [
    "ratio = 0.0\n",
    "for _ in [_[0] for _ in text.vocab().most_common(10)]:\n",
    "    ratio += text.vocab().freq(_)\n",
    "    print(text.vocab().freq(_))\n",
    "print(ratio)"
   ]
  },
  {
   "cell_type": "code",
   "execution_count": 63,
   "metadata": {},
   "outputs": [
    {
     "data": {
      "image/png": "[encoded data removed]",
      "text/plain": [
       "<Figure size 432x288 with 1 Axes>"
      ]
     },
     "metadata": {
      "needs_background": "light"
     },
     "output_type": "display_data"
    },
    {
     "data": {
      "image/png": "[encoded data removed]",
      "text/plain": [
       "<Figure size 432x288 with 1 Axes>"
      ]
     },
     "metadata": {
      "needs_background": "light"
     },
     "output_type": "display_data"
    }
   ],
   "source": [
    "import matplotlib.pyplot as plt\n",
    "from math import log\n",
    "token = [_[0] for _ in sorted(text.vocab().items(), key=lambda x:x[1], reverse=True)]\n",
    "freq = [_[1]/text.vocab().most_common(1)[0][1] for _ in sorted(text.vocab().items(), key=lambda x:x[1], reverse=True)]\n",
    "_freq = [log(_) for _ in freq]\n",
    "rank = [1/(_+1) for _ in range(len(token))]\n",
    "_rank = [log(_) for _ in rank]\n",
    "\n",
    "plt.plot([i for i in range(len(token))], freq, \"r-\")\n",
    "plt.plot([i for i in range(len(token))], rank, \"b-\")\n",
    "plt.show()\n",
    "\n",
    "plt.plot([i for i in range(len(token))], _freq, \"r-\")\n",
    "plt.plot([i for i in range(len(token))], _rank, \"b-\")\n",
    "plt.show()"
   ]
  },
  {
   "cell_type": "code",
   "execution_count": 76,
   "metadata": {},
   "outputs": [],
   "source": [
    "K = 10 #10 ~ 100\n",
    "B = 0.4 #0.4 - 0.6\n",
    "\n",
    "unique = list()\n",
    "total = list()\n",
    "heaps = list()\n",
    "largeText = \"\"\n",
    "for _ in corpus:\n",
    "    largeText += _\n",
    "    text = Text(largeText)\n",
    "    unique.append(text.vocab().B())\n",
    "    total.append(text.vocab().N())\n",
    "    heaps.append(K*text.vocab().N()**B)"
   ]
  },
  {
   "cell_type": "code",
   "execution_count": 77,
   "metadata": {},
   "outputs": [
    {
     "data": {
      "image/png": "[encoded data removed]",
      "text/plain": [
       "<Figure size 432x288 with 1 Axes>"
      ]
     },
     "metadata": {
      "needs_background": "light"
     },
     "output_type": "display_data"
    }
   ],
   "source": [
    "plt.plot(total, unique, \"r-\")\n",
    "plt.plot(total, heaps, \"b-\")\n",
    "plt.show()"
   ]
  },
  {
   "cell_type": "code",
   "execution_count": null,
   "metadata": {},
   "outputs": [],
   "source": [
    "sentence = \"Life is too short, You need Python\"\n",
    "N=2\n",
    "Python?\n",
    "P(Python|need,You,short,too,is,Life)\n",
    "P(Python|need)\n",
    "P(need|You)\n",
    "N=3\n",
    "P(Python|need,You)\n",
    "P(need|You) P(Python|need\n",
    "             )"
   ]
  },
  {
   "cell_type": "code",
   "execution_count": 87,
   "metadata": {},
   "outputs": [
    {
     "data": {
      "text/plain": [
       "[('Life', 'is'),\n",
       " ('is', 'too'),\n",
       " ('too', 'short'),\n",
       " ('short', ','),\n",
       " (',', 'You'),\n",
       " ('You', 'need'),\n",
       " ('need', 'Python')]"
      ]
     },
     "execution_count": 87,
     "metadata": {},
     "output_type": "execute_result"
    }
   ],
   "source": [
    "sentence = \"Life is too short, You need Python\"\n",
    "\n",
    "def eojeol(sentence, N=2):\n",
    "    tokens = word_tokenize(sentence)\n",
    "    ngram = list()\n",
    "    for i in range(len(tokens)-(N-1)):\n",
    "        #ngram.append(\" \".join(tokens[i:i+N]))\n",
    "        ngram.append(tuple(tokens[i:i+N]))\n",
    "    return ngram\n",
    "\n",
    "eojeol(sentence)"
   ]
  },
  {
   "cell_type": "code",
   "execution_count": 88,
   "metadata": {
    "collapsed": true
   },
   "outputs": [
    {
     "data": {
      "text/plain": [
       "[('일반고', '전환'),\n",
       " ('전환', '자사고'),\n",
       " ('자사고', '지원'),\n",
       " ('지원', '방안'),\n",
       " ('방안', '발표…5년간'),\n",
       " ('발표…5년간', '20억'),\n",
       " ('20억', '지원'),\n",
       " ('지원', \"''\"),\n",
       " (\"''\", '법령'),\n",
       " ('법령', '개정해'),\n",
       " ('개정해', '자사고'),\n",
       " ('자사고', '법적근거'),\n",
       " ('법적근거', '폐기해야…폐지'),\n",
       " ('폐기해야…폐지', '여부'),\n",
       " ('여부', '공론화도'),\n",
       " ('공론화도', \"''\"),\n",
       " (\"''\", '조희연'),\n",
       " ('조희연', '서울시교육감이'),\n",
       " ('서울시교육감이', '17일'),\n",
       " ('17일', '서울'),\n",
       " ('서울', '종로구'),\n",
       " ('종로구', '서울시교육청에서'),\n",
       " ('서울시교육청에서', '열린'),\n",
       " ('열린', '기자회견에서'),\n",
       " ('기자회견에서', '일반고'),\n",
       " ('일반고', '종합'),\n",
       " ('종합', '지원'),\n",
       " ('지원', '계획을'),\n",
       " ('계획을', '발표하며'),\n",
       " ('발표하며', '고개'),\n",
       " ('고개', '숙여'),\n",
       " ('숙여', '인사하고'),\n",
       " ('인사하고', '있다'),\n",
       " ('있다', '.'),\n",
       " ('.', '일반고'),\n",
       " ('일반고', '종합'),\n",
       " ('종합', '지원'),\n",
       " ('지원', '계획에는'),\n",
       " ('계획에는', '일반고'),\n",
       " ('일반고', '전환'),\n",
       " ('전환', '자사고에'),\n",
       " ('자사고에', '대한'),\n",
       " ('대한', '동방성장'),\n",
       " ('동방성장', '지원'),\n",
       " ('지원', '방안과'),\n",
       " ('방안과', '서열화된'),\n",
       " ('서열화된', '고교'),\n",
       " ('고교', '체계'),\n",
       " ('체계', '정상화를'),\n",
       " ('정상화를', '위한'),\n",
       " ('위한', '대책이'),\n",
       " ('대책이', '담겼다'),\n",
       " ('담겼다', '.'),\n",
       " ('.', '2019.7.17/뉴스1'),\n",
       " ('2019.7.17/뉴스1', '©'),\n",
       " ('©', 'News1'),\n",
       " ('News1', '오대일'),\n",
       " ('오대일', '기자'),\n",
       " ('기자', '('),\n",
       " ('(', '서울=뉴스1'),\n",
       " ('서울=뉴스1', ')'),\n",
       " (')', '김재현'),\n",
       " ('김재현', '기자'),\n",
       " ('기자', ','),\n",
       " (',', '이진호'),\n",
       " ('이진호', '기자'),\n",
       " ('기자', '='),\n",
       " ('=', '조희연'),\n",
       " ('조희연', '서울시교육감이'),\n",
       " ('서울시교육감이', '자율형사립고'),\n",
       " ('자율형사립고', '제도를'),\n",
       " ('제도를', '유효기간이'),\n",
       " ('유효기간이', '다'),\n",
       " ('다', '된'),\n",
       " ('된', '시한부'),\n",
       " ('시한부', '정책으로'),\n",
       " ('정책으로', '규정했다'),\n",
       " ('규정했다', '.'),\n",
       " ('.', '한발'),\n",
       " ('한발', '더'),\n",
       " ('더', '나아가'),\n",
       " ('나아가', '정부를'),\n",
       " ('정부를', '향해'),\n",
       " ('향해', '자율형사립고'),\n",
       " ('자율형사립고', '설립'),\n",
       " ('설립', '근거'),\n",
       " ('근거', '조항'),\n",
       " ('조항', '폐기와'),\n",
       " ('폐기와', '자사고'),\n",
       " ('자사고', '제도'),\n",
       " ('제도', '폐지'),\n",
       " ('폐지', '여부'),\n",
       " ('여부', '공론화를'),\n",
       " ('공론화를', '촉구했다'),\n",
       " ('촉구했다', '.'),\n",
       " ('.', '이와'),\n",
       " ('이와', '함께'),\n",
       " ('함께', '일반고로'),\n",
       " ('일반고로', '전환한'),\n",
       " ('전환한', '자사고'),\n",
       " ('자사고', '지원을'),\n",
       " ('지원을', '확대하겠다는'),\n",
       " ('확대하겠다는', '입장도'),\n",
       " ('입장도', '밝혔다'),\n",
       " ('밝혔다', '.'),\n",
       " ('.', '조'),\n",
       " ('조', '교육감은'),\n",
       " ('교육감은', '17일'),\n",
       " ('17일', '서울'),\n",
       " ('서울', '종로구'),\n",
       " ('종로구', '서울시교육청에서'),\n",
       " ('서울시교육청에서', '기자회견을'),\n",
       " ('기자회견을', '열고'),\n",
       " ('열고', '자사고'),\n",
       " ('자사고', '제도에'),\n",
       " ('제도에', '대한'),\n",
       " ('대한', '진단과'),\n",
       " ('진단과', '정부를'),\n",
       " ('정부를', '향한'),\n",
       " ('향한', '요구'),\n",
       " ('요구', ','),\n",
       " (',', '일반고'),\n",
       " ('일반고', '지원'),\n",
       " ('지원', '방안'),\n",
       " ('방안', '등을'),\n",
       " ('등을', '종합적으로'),\n",
       " ('종합적으로', '설명했다'),\n",
       " ('설명했다', '.'),\n",
       " ('.', '그는'),\n",
       " ('그는', '``'),\n",
       " ('``', '자사고는'),\n",
       " ('자사고는', '이제'),\n",
       " ('이제', \"'정책적\"),\n",
       " (\"'정책적\", '유효기간'),\n",
       " ('유효기간', \"'\"),\n",
       " (\"'\", '이'),\n",
       " ('이', '다'),\n",
       " ('다', '됐다'),\n",
       " ('됐다', \"''\"),\n",
       " (\"''\", '며'),\n",
       " ('며', '``'),\n",
       " ('``', '다양한'),\n",
       " ('다양한', '교육과정'),\n",
       " ('교육과정', '운영'),\n",
       " ('운영', '등'),\n",
       " ('등', '자사고'),\n",
       " ('자사고', '설립취지이자'),\n",
       " ('설립취지이자', '지정목적이'),\n",
       " ('지정목적이', '달성되기'),\n",
       " ('달성되기', '어려운'),\n",
       " ('어려운', '한계에'),\n",
       " ('한계에', '도달했기'),\n",
       " ('도달했기', '때문'),\n",
       " ('때문', \"''\"),\n",
       " (\"''\", '이라고'),\n",
       " ('이라고', '말했다'),\n",
       " ('말했다', '.'),\n",
       " ('.', '이어'),\n",
       " ('이어', '``'),\n",
       " ('``', '최근'),\n",
       " ('최근', '자사고'),\n",
       " ('자사고', '재지정'),\n",
       " ('재지정', '평가에서'),\n",
       " ('평가에서', '지정취소'),\n",
       " ('지정취소', '통보를'),\n",
       " ('통보를', '받은'),\n",
       " ('받은', '학교'),\n",
       " ('학교', '중'),\n",
       " ('중', '다수가'),\n",
       " ('다수가', \"'학교\"),\n",
       " (\"'학교\", '운영'),\n",
       " ('운영', \"'\"),\n",
       " (\"'\", \"'교육과정\"),\n",
       " (\"'교육과정\", '운영'),\n",
       " ('운영', \"'\"),\n",
       " (\"'\", '영역·지표에서'),\n",
       " ('영역·지표에서', '다른'),\n",
       " ('다른', '항목보다'),\n",
       " ('항목보다', '많은'),\n",
       " ('많은', '감점을'),\n",
       " ('감점을', '받은'),\n",
       " ('받은', '게'),\n",
       " ('게', '이를'),\n",
       " ('이를', '단적으로'),\n",
       " ('단적으로', '보여주는'),\n",
       " ('보여주는', '사례'),\n",
       " ('사례', \"''\"),\n",
       " (\"''\", '라고'),\n",
       " ('라고', '했다'),\n",
       " ('했다', '.'),\n",
       " ('.', '그러면서'),\n",
       " ('그러면서', '``'),\n",
       " ('``', '앞으로는'),\n",
       " ('앞으로는', '자사고가'),\n",
       " ('자사고가', '많은'),\n",
       " ('많은', '인적·물적'),\n",
       " ('인적·물적', '자원을'),\n",
       " ('자원을', '쏟아붓지'),\n",
       " ('쏟아붓지', '않는'),\n",
       " ('않는', '한'),\n",
       " ('한', '단위학교'),\n",
       " ('단위학교', '자체적인'),\n",
       " ('자체적인', '다양한'),\n",
       " ('다양한', '교육과정'),\n",
       " ('교육과정', '실현에'),\n",
       " ('실현에', '어려움을'),\n",
       " ('어려움을', '겪을'),\n",
       " ('겪을', '수밖에'),\n",
       " ('수밖에', '없다'),\n",
       " ('없다', \"''\"),\n",
       " (\"''\", '며'),\n",
       " ('며', '``'),\n",
       " ('``', '학교'),\n",
       " ('학교', '간'),\n",
       " ('간', '교육과정'),\n",
       " ('교육과정', '연계를'),\n",
       " ('연계를', '강화하는'),\n",
       " ('강화하는', '일반고에'),\n",
       " ('일반고에', '비해'),\n",
       " ('비해', '폐쇄적인'),\n",
       " ('폐쇄적인', '자사고'),\n",
       " ('자사고', '체제는'),\n",
       " ('체제는', '확장'),\n",
       " ('확장', '가능성도'),\n",
       " ('가능성도', '낮다'),\n",
       " ('낮다', \"''\"),\n",
       " (\"''\", '고'),\n",
       " ('고', '말했다'),\n",
       " ('말했다', '.'),\n",
       " ('.', '조'),\n",
       " ('조', '교육감은'),\n",
       " ('교육감은', '``'),\n",
       " ('``', '신입생'),\n",
       " ('신입생', '우선선발권을'),\n",
       " ('우선선발권을', '가진'),\n",
       " ('가진', '자사고는'),\n",
       " ('자사고는', '우수'),\n",
       " ('우수', '학생을'),\n",
       " ('학생을', '선점한'),\n",
       " ('선점한', '후'),\n",
       " ('후', '입시위주'),\n",
       " ('입시위주', '교육으로'),\n",
       " ('교육으로', '명문대'),\n",
       " ('명문대', '합격생을'),\n",
       " ('합격생을', '다수'),\n",
       " ('다수', '배출해'),\n",
       " ('배출해', '고교서열화를'),\n",
       " ('고교서열화를', '심화시켰다'),\n",
       " ('심화시켰다', \"''\"),\n",
       " (\"''\", '며'),\n",
       " ('며', '``'),\n",
       " ('``', '또'),\n",
       " ('또', '자사고는'),\n",
       " ('자사고는', '학비'),\n",
       " ('학비', '부담이'),\n",
       " ('부담이', '커'),\n",
       " ('커', '가정형편이'),\n",
       " ('가정형편이', '어려운'),\n",
       " ('어려운', '학생들이'),\n",
       " ('학생들이', '다니기'),\n",
       " ('다니기', '어렵다'),\n",
       " ('어렵다', '.'),\n",
       " ('.', '자사고'),\n",
       " ('자사고', '체제가'),\n",
       " ('체제가', '학생들을'),\n",
       " ('학생들을', '경제적'),\n",
       " ('경제적', '여건에'),\n",
       " ('여건에', '따라'),\n",
       " ('따라', '이분화시키는'),\n",
       " ('이분화시키는', '것'),\n",
       " ('것', \"''\"),\n",
       " (\"''\", '이라고'),\n",
       " ('이라고', '자사고'),\n",
       " ('자사고', '제도의'),\n",
       " ('제도의', '문제점을'),\n",
       " ('문제점을', '한번'),\n",
       " ('한번', '더'),\n",
       " ('더', '되짚었다'),\n",
       " ('되짚었다', '.'),\n",
       " ('.', '그는'),\n",
       " ('그는', '정부를'),\n",
       " ('정부를', '향해'),\n",
       " ('향해', '법령'),\n",
       " ('법령', '개정을'),\n",
       " ('개정을', '통한'),\n",
       " ('통한', '자사고'),\n",
       " ('자사고', '제도'),\n",
       " ('제도', '폐기를'),\n",
       " ('폐기를', '거듭'),\n",
       " ('거듭', '촉구했다'),\n",
       " ('촉구했다', '.'),\n",
       " ('.', '자사고'),\n",
       " ('자사고', '설립'),\n",
       " ('설립', '근거'),\n",
       " ('근거', '조항인'),\n",
       " ('조항인', '초·중등교육법'),\n",
       " ('초·중등교육법', '시행령'),\n",
       " ('시행령', '제91조의3을'),\n",
       " ('제91조의3을', '삭제해'),\n",
       " ('삭제해', '자사고를'),\n",
       " ('자사고를', '일괄'),\n",
       " ('일괄', '폐지해야'),\n",
       " ('폐지해야', '한다는'),\n",
       " ('한다는', '요구다'),\n",
       " ('요구다', '.'),\n",
       " ('.', '조'),\n",
       " ('조', '교육감은'),\n",
       " ('교육감은', '``'),\n",
       " ('``', '자사고'),\n",
       " ('자사고', '재지정'),\n",
       " ('재지정', '평가를'),\n",
       " ('평가를', '통한'),\n",
       " ('통한', '지정취소'),\n",
       " ('지정취소', '방식으로'),\n",
       " ('방식으로', '일반고'),\n",
       " ('일반고', '전환을'),\n",
       " ('전환을', '하는'),\n",
       " ('하는', '것은'),\n",
       " ('것은', '소모적인'),\n",
       " ('소모적인', '갈등과'),\n",
       " ('갈등과', '논쟁을'),\n",
       " ('논쟁을', '양산하고'),\n",
       " ('양산하고', '평가를'),\n",
       " ('평가를', '통과한'),\n",
       " ('통과한', '학교들에'),\n",
       " ('학교들에', '대한'),\n",
       " ('대한', '선호를'),\n",
       " ('선호를', '더욱'),\n",
       " ('더욱', '높이는'),\n",
       " ('높이는', '한계를'),\n",
       " ('한계를', '갖는다'),\n",
       " ('갖는다', \"''\"),\n",
       " (\"''\", '며'),\n",
       " ('며', '``'),\n",
       " ('``', '교육부는'),\n",
       " ('교육부는', '관련'),\n",
       " ('관련', '법령'),\n",
       " ('법령', '개정으로'),\n",
       " ('개정으로', '자사고'),\n",
       " ('자사고', '제도'),\n",
       " ('제도', '문제를'),\n",
       " ('문제를', '근본적으로'),\n",
       " ('근본적으로', '해결해야'),\n",
       " ('해결해야', '한다'),\n",
       " ('한다', \"''\"),\n",
       " (\"''\", '고'),\n",
       " ('고', '주장했다'),\n",
       " ('주장했다', '.'),\n",
       " ('.', '그는'),\n",
       " ('그는', '``'),\n",
       " ('``', '만약'),\n",
       " ('만약', '교육부가'),\n",
       " ('교육부가', '법령'),\n",
       " ('법령', '개정'),\n",
       " ('개정', '의지가'),\n",
       " ('의지가', '없다면'),\n",
       " ('없다면', '자사고의'),\n",
       " ('자사고의', '제도적'),\n",
       " ('제도적', '폐지'),\n",
       " ('폐지', '여부에'),\n",
       " ('여부에', '대한'),\n",
       " ('대한', '국민적'),\n",
       " ('국민적', '공론화를'),\n",
       " ('공론화를', '국가교육회의나'),\n",
       " ('국가교육회의나', '국가교육위원회에서'),\n",
       " ('국가교육위원회에서', '진행할'),\n",
       " ('진행할', '것을'),\n",
       " ('것을', '제안한다'),\n",
       " ('제안한다', \"''\"),\n",
       " (\"''\", '고'),\n",
       " ('고', '대안을'),\n",
       " ('대안을', '제시하기도'),\n",
       " ('제시하기도', '했다'),\n",
       " ('했다', '.'),\n",
       " ('.', '이어'),\n",
       " ('이어', '``'),\n",
       " ('``', '지난해'),\n",
       " ('지난해', '대입제도'),\n",
       " ('대입제도', '개편'),\n",
       " ('개편', '공론화'),\n",
       " ('공론화', '결과'),\n",
       " ('결과', '('),\n",
       " ('(', '대학수학능력시험'),\n",
       " ('대학수학능력시험', '위주'),\n",
       " ('위주', '정시'),\n",
       " ('정시', '비중'),\n",
       " ('비중', '30'),\n",
       " ('30', '%'),\n",
       " ('%', '이상'),\n",
       " ('이상', '확대'),\n",
       " ('확대', ')'),\n",
       " (')', '가'),\n",
       " ('가', '논란이'),\n",
       " ('논란이', '된'),\n",
       " ('된', '바'),\n",
       " ('바', '있지만'),\n",
       " ('있지만', '당시에는'),\n",
       " ('당시에는', '공론화라는'),\n",
       " ('공론화라는', '방법론보다는'),\n",
       " ('방법론보다는', \"'대입\"),\n",
       " (\"'대입\", '3년'),\n",
       " ('3년', '사전예고제'),\n",
       " ('사전예고제', \"'\"),\n",
       " (\"'\", '로'),\n",
       " ('로', '인해'),\n",
       " ('인해', '급박하게'),\n",
       " ('급박하게', '결론을'),\n",
       " ('결론을', '내야'),\n",
       " ('내야', '한다는'),\n",
       " ('한다는', '시간의'),\n",
       " ('시간의', '문제가'),\n",
       " ('문제가', '더'),\n",
       " ('더', '컸다'),\n",
       " ('컸다', \"''\"),\n",
       " (\"''\", '며'),\n",
       " ('며', '``'),\n",
       " ('``', '자사고'),\n",
       " ('자사고', '폐지'),\n",
       " ('폐지', '여부에'),\n",
       " ('여부에', '대한'),\n",
       " ('대한', '공론화는'),\n",
       " ('공론화는', '긴'),\n",
       " ('긴', '호흡으로'),\n",
       " ('호흡으로', '논의할'),\n",
       " ('논의할', '수'),\n",
       " ('수', '있기'),\n",
       " ('있기', '때문에'),\n",
       " ('때문에', '충분히'),\n",
       " ('충분히', '국민적'),\n",
       " ('국민적', '합의에'),\n",
       " ('합의에', '이를'),\n",
       " ('이를', '수'),\n",
       " ('수', '있다고'),\n",
       " ('있다고', '믿는다'),\n",
       " ('믿는다', \"''\"),\n",
       " (\"''\", '고'),\n",
       " ('고', '덧붙였다'),\n",
       " ('덧붙였다', '.'),\n",
       " ('.', '조희연'),\n",
       " ('조희연', '서울시교육감이'),\n",
       " ('서울시교육감이', '17일'),\n",
       " ('17일', '서울'),\n",
       " ('서울', '종로구'),\n",
       " ('종로구', '서울시교육청에서'),\n",
       " ('서울시교육청에서', '열린'),\n",
       " ('열린', '기자회견에서'),\n",
       " ('기자회견에서', '일반고'),\n",
       " ('일반고', '종합'),\n",
       " ('종합', '지원'),\n",
       " ('지원', '계획을'),\n",
       " ('계획을', '발표하고'),\n",
       " ('발표하고', '있다'),\n",
       " ('있다', '.'),\n",
       " ('.', '일반고'),\n",
       " ('일반고', '종합'),\n",
       " ('종합', '지원'),\n",
       " ('지원', '계획에는'),\n",
       " ('계획에는', '일반고'),\n",
       " ('일반고', '전환'),\n",
       " ('전환', '자사고에'),\n",
       " ('자사고에', '대한'),\n",
       " ('대한', '동방성장'),\n",
       " ('동방성장', '지원'),\n",
       " ('지원', '방안과'),\n",
       " ('방안과', '서열화된'),\n",
       " ('서열화된', '고교'),\n",
       " ('고교', '체계'),\n",
       " ('체계', '정상화를'),\n",
       " ('정상화를', '위한'),\n",
       " ('위한', '대책이'),\n",
       " ('대책이', '담겼다'),\n",
       " ('담겼다', '.'),\n",
       " ('.', '2019.7.17/뉴스1'),\n",
       " ('2019.7.17/뉴스1', '©'),\n",
       " ('©', 'News1'),\n",
       " ('News1', '오대일'),\n",
       " ('오대일', '기자'),\n",
       " ('기자', '일반고'),\n",
       " ('일반고', '종합'),\n",
       " ('종합', '지원'),\n",
       " ('지원', '방안도'),\n",
       " ('방안도', '공개했다'),\n",
       " ('공개했다', '.'),\n",
       " ('.', '그동안'),\n",
       " ('그동안', '교육당국의'),\n",
       " ('교육당국의', '자사고'),\n",
       " ('자사고', '폐지'),\n",
       " ('폐지', '정책에'),\n",
       " ('정책에', '따라'),\n",
       " ('따라', '일반고로'),\n",
       " ('일반고로', '전환된'),\n",
       " ('전환된', '자사고와'),\n",
       " ('자사고와', '기존'),\n",
       " ('기존', '일반고에'),\n",
       " ('일반고에', '대한'),\n",
       " ('대한', '구체적인'),\n",
       " ('구체적인', '지원방안을'),\n",
       " ('지원방안을', '요구하는'),\n",
       " ('요구하는', '목소리가'),\n",
       " ('목소리가', '컸는데'),\n",
       " ('컸는데', '이에'),\n",
       " ('이에', '대한'),\n",
       " ('대한', '주요안을'),\n",
       " ('주요안을', '내놓은'),\n",
       " ('내놓은', '것이다'),\n",
       " ('것이다', '.'),\n",
       " ('.', '대표적인'),\n",
       " ('대표적인', '게'),\n",
       " ('게', '재정'),\n",
       " ('재정', '지원이다'),\n",
       " ('지원이다', '.'),\n",
       " ('.', '일반고'),\n",
       " ('일반고', '전환'),\n",
       " ('전환', '자사고에는'),\n",
       " ('자사고에는', '향후'),\n",
       " ('향후', '5년간'),\n",
       " ('5년간', '총'),\n",
       " ('총', '20억원을'),\n",
       " ('20억원을', '지원한다'),\n",
       " ('지원한다', '.'),\n",
       " ('.', '서울시교육청이'),\n",
       " ('서울시교육청이', '시설·기자재'),\n",
       " ('시설·기자재', '구입비'),\n",
       " ('구입비', ','),\n",
       " (',', '교육과정'),\n",
       " ('교육과정', '운영비'),\n",
       " ('운영비', '등으로'),\n",
       " ('등으로', '5년간'),\n",
       " ('5년간', '10억원을'),\n",
       " ('10억원을', '지원하고'),\n",
       " ('지원하고', ','),\n",
       " (',', '교육부는'),\n",
       " ('교육부는', '3년간'),\n",
       " ('3년간', '교육과정'),\n",
       " ('교육과정', '운영비'),\n",
       " ('운영비', '10억원을'),\n",
       " ('10억원을', '지원하는'),\n",
       " ('지원하는', '방식이다'),\n",
       " ('방식이다', '.'),\n",
       " ('.', '또'),\n",
       " ('또', '이들'),\n",
       " ('이들', '학교가'),\n",
       " ('학교가', '원하면'),\n",
       " ('원하면', '고교학점제'),\n",
       " ('고교학점제', '선도학교나'),\n",
       " ('선도학교나', '특정'),\n",
       " ('특정', '교과목을'),\n",
       " ('교과목을', '많이'),\n",
       " ('많이', '개설해'),\n",
       " ('개설해', '운영하는'),\n",
       " ('운영하는', '교과중점학교'),\n",
       " ('교과중점학교', '등을'),\n",
       " ('등을', '우선'),\n",
       " ('우선', '지정하겠다는'),\n",
       " ('지정하겠다는', '계획도'),\n",
       " ('계획도', '밝혔다'),\n",
       " ('밝혔다', '.'),\n",
       " ('.', '고교학점제'),\n",
       " ('고교학점제', '선도학교나'),\n",
       " ('선도학교나', '교과중점학교로'),\n",
       " ('교과중점학교로', '지정되면'),\n",
       " ('지정되면', '추가'),\n",
       " ('추가', '재정지원을'),\n",
       " ('재정지원을', '받을'),\n",
       " ('받을', '수'),\n",
       " ('수', '있다'),\n",
       " ('있다', '.'),\n",
       " ('.', '아울러'),\n",
       " ('아울러', '일반고'),\n",
       " ('일반고', '전환'),\n",
       " ('전환', '자사고가'),\n",
       " ('자사고가', '전환기'),\n",
       " ('전환기', '과정에서'),\n",
       " ('과정에서', '혼란을'),\n",
       " ('혼란을', '겪지'),\n",
       " ('겪지', '않도록'),\n",
       " ('않도록', '각종'),\n",
       " ('각종', '컨설팅을'),\n",
       " ('컨설팅을', '제공하기로'),\n",
       " ('제공하기로', '했다'),\n",
       " ('했다', '.'),\n",
       " ('.', '일반고'),\n",
       " ('일반고', '전환'),\n",
       " ('전환', '자사고를'),\n",
       " ('자사고를', '포함한'),\n",
       " ('포함한', '일반고'),\n",
       " ('일반고', '종합'),\n",
       " ('종합', '지원'),\n",
       " ('지원', '방안도'),\n",
       " ('방안도', '발표했다'),\n",
       " ('발표했다', '.'),\n",
       " ('.', '재정'),\n",
       " ('재정', '지원과'),\n",
       " ('지원과', '다양한'),\n",
       " ('다양한', '교육과정'),\n",
       " ('교육과정', '운영'),\n",
       " ('운영', '프로그램'),\n",
       " ('프로그램', '지원'),\n",
       " ('지원', '등이'),\n",
       " ('등이', '핵심이다'),\n",
       " ('핵심이다', '.'),\n",
       " ('.', '조'),\n",
       " ('조', '교육감은'),\n",
       " ('교육감은', '학교당'),\n",
       " ('학교당', '8000만원씩'),\n",
       " ('8000만원씩', '지원하는'),\n",
       " ('지원하는', '예산을'),\n",
       " ('예산을', '교육부와'),\n",
       " ('교육부와', '협의해'),\n",
       " ('협의해', '증액하고'),\n",
       " ('증액하고', '수요과'),\n",
       " ('수요과', '적은'),\n",
       " ('적은', '과목이라도'),\n",
       " ('과목이라도', '개설해'),\n",
       " ('개설해', '운영할'),\n",
       " ('운영할', '수'),\n",
       " ('수', '있도록'),\n",
       " ('있도록', \"'소인수\"),\n",
       " (\"'소인수\", '과목'),\n",
       " ('과목', '강사비'),\n",
       " ('강사비', \"'\"),\n",
       " (\"'\", '를'),\n",
       " ('를', '학교별로'),\n",
       " ('학교별로', '2000만원씩'),\n",
       " ('2000만원씩', '주기로'),\n",
       " ('주기로', '했다'),\n",
       " ('했다', '.'),\n",
       " ('.', 'CDA'),\n",
       " ('CDA', '('),\n",
       " ('(', '교육과정·진로·진학'),\n",
       " ('교육과정·진로·진학', '전문가'),\n",
       " ('전문가', ','),\n",
       " (',', 'Curriculum'),\n",
       " ('Curriculum', 'Design'),\n",
       " ('Design', 'Advisor'),\n",
       " ('Advisor', ')'),\n",
       " (')', '도'),\n",
       " ('도', '육성한다'),\n",
       " ('육성한다', '.'),\n",
       " ('.', 'CDA는'),\n",
       " ('CDA는', '일반고에'),\n",
       " ('일반고에', '다니는'),\n",
       " ('다니는', '1학년'),\n",
       " ('1학년', '학생들이'),\n",
       " ('학생들이', '2학년과'),\n",
       " ('2학년과', '3학년'),\n",
       " ('3학년', '선택과목을'),\n",
       " ('선택과목을', '설계할'),\n",
       " ('설계할', '수'),\n",
       " ('수', '있도록'),\n",
       " ('있도록', '컨설팅하는'),\n",
       " ('컨설팅하는', '역할을'),\n",
       " ('역할을', '맡는다'),\n",
       " ('맡는다', '.'),\n",
       " ('.', '지역'),\n",
       " ('지역', '내'),\n",
       " ('내', '학교를'),\n",
       " ('학교를', '연결한'),\n",
       " ('연결한', \"'일반고\"),\n",
       " (\"'일반고\", '권역별'),\n",
       " ('권역별', '공유'),\n",
       " ('공유', '캠퍼스'),\n",
       " ('캠퍼스', '('),\n",
       " ('(', '가칭'),\n",
       " ('가칭', ')'),\n",
       " (')', \"'\"),\n",
       " (\"'\", '도입도'),\n",
       " ('도입도', '검토한다'),\n",
       " ('검토한다', '.'),\n",
       " ('.', '이는'),\n",
       " ('이는', '현재'),\n",
       " ('현재', '서울시교육청이'),\n",
       " ('서울시교육청이', '운영'),\n",
       " ('운영', '중인'),\n",
       " ('중인', '고교학점제'),\n",
       " ('고교학점제', '초기모델'),\n",
       " ('초기모델', \"'거점·연합형\"),\n",
       " (\"'거점·연합형\", '선택교육과정'),\n",
       " ('선택교육과정', \"'\"),\n",
       " (\"'\", '을'),\n",
       " ('을', '발전시킨'),\n",
       " ('발전시킨', '모델이다'),\n",
       " ('모델이다', '.'),\n",
       " ('.', '권역별로'),\n",
       " ('권역별로', '5~7개'),\n",
       " ('5~7개', '일반고를'),\n",
       " ('일반고를', '연계해'),\n",
       " ('연계해', '각'),\n",
       " ('각', '학교가'),\n",
       " ('학교가', '공학계열이나'),\n",
       " ('공학계열이나', '과학계열'),\n",
       " ('과학계열', '등'),\n",
       " ('등', '특화된'),\n",
       " ('특화된', '과목을'),\n",
       " ('과목을', '학교에'),\n",
       " ('학교에', '개설하고'),\n",
       " ('개설하고', '고등학교에'),\n",
       " ('고등학교에', '진학하는'),\n",
       " ('진학하는', '학생들이'),\n",
       " ('학생들이', '자신의'),\n",
       " ('자신의', '진로에'),\n",
       " ('진로에', '맞춰'),\n",
       " ('맞춰', '원하는'),\n",
       " ('원하는', '학교를'),\n",
       " ('학교를', '선택하는'),\n",
       " ('선택하는', '형태다'),\n",
       " ('형태다', '.'),\n",
       " ('.', '조'),\n",
       " ('조', '교육감은'),\n",
       " ('교육감은', '``'),\n",
       " ('``', '앞으로'),\n",
       " ('앞으로', '일반고에서도'),\n",
       " ('일반고에서도', '자사고에서'),\n",
       " ('자사고에서', '기대했던'),\n",
       " ('기대했던', '교육수준을'),\n",
       " ('교육수준을', '제공해'),\n",
       " ('제공해', '학생·학부모들의'),\n",
       " ('학생·학부모들의', '만족도를'),\n",
       " ('만족도를', '충족시킬'),\n",
       " ('충족시킬', '수'),\n",
       " ('수', '있도록'),\n",
       " ('있도록', '최선을'),\n",
       " ('최선을', '다'),\n",
       " ('다', '할'),\n",
       " ('할', '것'),\n",
       " ('것', \"''\"),\n",
       " (\"''\", '이라며'),\n",
       " ('이라며', '``'),\n",
       " ('``', '('),\n",
       " ('(', '자사고의'),\n",
       " ('자사고의', '일반고'),\n",
       " ('일반고', '전환이'),\n",
       " ('전환이', ')'),\n",
       " (')', '하향평준화로'),\n",
       " ('하향평준화로', '가지'),\n",
       " ('가지', '않고'),\n",
       " ('않고', '상향평준화로'),\n",
       " ('상향평준화로', '거듭날'),\n",
       " ('거듭날', '수'),\n",
       " ('수', '있도록'),\n",
       " ('있도록', '노력하겠다'),\n",
       " ('노력하겠다', \"''\"),\n",
       " (\"''\", '고'),\n",
       " ('고', '강조했다'),\n",
       " ('강조했다', '.'),\n",
       " ('.', '조희연'),\n",
       " ('조희연', '서울시교육감이'),\n",
       " ('서울시교육감이', '17일'),\n",
       " ('17일', '서울'),\n",
       " ('서울', '종로구'),\n",
       " ('종로구', '서울시교육청에서'),\n",
       " ('서울시교육청에서', '열린'),\n",
       " ('열린', '기자회견에서'),\n",
       " ('기자회견에서', '일반고'),\n",
       " ('일반고', '종합'),\n",
       " ('종합', '지원'),\n",
       " ('지원', '계획을'),\n",
       " ('계획을', '발표하고'),\n",
       " ('발표하고', '있다'),\n",
       " ('있다', '.'),\n",
       " ('.', '일반고'),\n",
       " ('일반고', '종합'),\n",
       " ('종합', '지원'),\n",
       " ('지원', '계획에는'),\n",
       " ('계획에는', '일반고'),\n",
       " ('일반고', '전환'),\n",
       " ('전환', '자사고에'),\n",
       " ('자사고에', '대한'),\n",
       " ('대한', '동방성장'),\n",
       " ('동방성장', '지원'),\n",
       " ('지원', '방안과'),\n",
       " ('방안과', '서열화된'),\n",
       " ('서열화된', '고교'),\n",
       " ('고교', '체계'),\n",
       " ('체계', '정상화를'),\n",
       " ('정상화를', '위한'),\n",
       " ('위한', '대책이'),\n",
       " ('대책이', '담겼다'),\n",
       " ('담겼다', '.'),\n",
       " ('.', '2019.7.17/뉴스1'),\n",
       " ('2019.7.17/뉴스1', '©'),\n",
       " ('©', 'News1'),\n",
       " ('News1', '오대일'),\n",
       " ('오대일', '기자'),\n",
       " ('기자', 'kjh7'),\n",
       " ('kjh7', '@'),\n",
       " ('@', 'news1.kr'),\n",
       " ('news1.kr', '▶'),\n",
       " ('▶', '['),\n",
       " ('[', '크립토허브'),\n",
       " ('크립토허브', ']'),\n",
       " (']', '▶'),\n",
       " ('▶', '['),\n",
       " ('[', '해피펫'),\n",
       " ('해피펫', ']'),\n",
       " (']', '▶'),\n",
       " ('▶', '네이버'),\n",
       " ('네이버', '메인에서'),\n",
       " ('메인에서', '['),\n",
       " ('[', '뉴스1'),\n",
       " ('뉴스1', ']'),\n",
       " (']', '구독하기'),\n",
       " ('구독하기', '!'),\n",
       " ('!', '['),\n",
       " ('[', '©'),\n",
       " ('©', '뉴스1코리아'),\n",
       " ('뉴스1코리아', '('),\n",
       " ('(', 'news1.kr'),\n",
       " ('news1.kr', ')'),\n",
       " (')', ','),\n",
       " (',', '무단'),\n",
       " ('무단', '전재'),\n",
       " ('전재', '및'),\n",
       " ('및', '재배포'),\n",
       " ('재배포', '금지'),\n",
       " ('금지', ']')]"
      ]
     },
     "execution_count": 88,
     "metadata": {},
     "output_type": "execute_result"
    }
   ],
   "source": [
    "eojeol(corpus[0])"
   ]
  },
  {
   "cell_type": "code",
   "execution_count": 89,
   "metadata": {},
   "outputs": [],
   "source": [
    "from collections import defaultdict\n",
    "\n",
    "freq = defaultdict(int)\n",
    "for _ in eojeol(corpus[0]):\n",
    "    freq[_] += 1"
   ]
  },
  {
   "cell_type": "code",
   "execution_count": 90,
   "metadata": {},
   "outputs": [
    {
     "ename": "AttributeError",
     "evalue": "'dict_items' object has no attribute 'items'",
     "output_type": "error",
     "traceback": [
      "\u001b[1;31m---------------------------------------------------------------------------\u001b[0m",
      "\u001b[1;31mAttributeError\u001b[0m                            Traceback (most recent call last)",
      "\u001b[1;32m<ipython-input-90-43711c934c43>\u001b[0m in \u001b[0;36m<module>\u001b[1;34m\u001b[0m\n\u001b[1;32m----> 1\u001b[1;33m \u001b[0msorted\u001b[0m\u001b[1;33m(\u001b[0m\u001b[0mfreq\u001b[0m\u001b[1;33m.\u001b[0m\u001b[0mitems\u001b[0m\u001b[1;33m(\u001b[0m\u001b[1;33m)\u001b[0m\u001b[1;33m.\u001b[0m\u001b[0mitems\u001b[0m\u001b[1;33m(\u001b[0m\u001b[1;33m)\u001b[0m\u001b[1;33m,\u001b[0m \u001b[0mkey\u001b[0m\u001b[1;33m=\u001b[0m\u001b[1;32mlambda\u001b[0m \u001b[0mx\u001b[0m\u001b[1;33m:\u001b[0m\u001b[0mx\u001b[0m\u001b[1;33m[\u001b[0m\u001b[1;36m1\u001b[0m\u001b[1;33m]\u001b[0m\u001b[1;33m,\u001b[0m \u001b[0mreverse\u001b[0m\u001b[1;33m=\u001b[0m\u001b[1;32mTrue\u001b[0m\u001b[1;33m)\u001b[0m\u001b[1;33m[\u001b[0m\u001b[1;33m:\u001b[0m\u001b[1;36m10\u001b[0m\u001b[1;33m]\u001b[0m\u001b[1;33m\u001b[0m\u001b[1;33m\u001b[0m\u001b[0m\n\u001b[0m",
      "\u001b[1;31mAttributeError\u001b[0m: 'dict_items' object has no attribute 'items'"
     ]
    }
   ],
   "source": [
    "sorted(freq.items().items(), key=lambda x:x[1], reverse=True)[:10]"
   ]
  },
  {
   "cell_type": "code",
   "execution_count": 91,
   "metadata": {},
   "outputs": [
    {
     "ename": "SyntaxError",
     "evalue": "invalid syntax (<ipython-input-91-6a6b52f384a8>, line 1)",
     "output_type": "error",
     "traceback": [
      "\u001b[1;36m  File \u001b[1;32m\"<ipython-input-91-6a6b52f384a8>\"\u001b[1;36m, line \u001b[1;32m1\u001b[0m\n\u001b[1;33m    freq['(', '서울=연합뉴스')']/sum(freq.values()) * freq[('서울=연합뉴스', ')')]/freq['(', '서울=연합뉴스']\u001b[0m\n\u001b[1;37m                       ^\u001b[0m\n\u001b[1;31mSyntaxError\u001b[0m\u001b[1;31m:\u001b[0m invalid syntax\n"
     ]
    }
   ],
   "source": [
    "freq['(', '서울=연합뉴스')']/sum(freq.values()) * freq[('서울=연합뉴스', ')')]/freq['(', '서울=연합뉴스']"
   ]
  },
  {
   "cell_type": "markdown",
   "metadata": {},
   "source": [
    "## Normalization"
   ]
  },
  {
   "cell_type": "code",
   "execution_count": 92,
   "metadata": {
    "collapsed": true
   },
   "outputs": [
    {
     "ename": "LookupError",
     "evalue": "\n**********************************************************************\n  Resource \u001b[93mstopwords\u001b[0m not found.\n  Please use the NLTK Downloader to obtain the resource:\n\n  \u001b[31m>>> import nltk\n  >>> nltk.download('stopwords')\n  \u001b[0m\n  Attempted to load \u001b[93mcorpora/stopwords\u001b[0m\n\n  Searched in:\n    - 'C:\\\\Users\\\\David/nltk_data'\n    - 'C:\\\\Users\\\\David\\\\Anaconda3\\\\nltk_data'\n    - 'C:\\\\Users\\\\David\\\\Anaconda3\\\\share\\\\nltk_data'\n    - 'C:\\\\Users\\\\David\\\\Anaconda3\\\\lib\\\\nltk_data'\n    - 'C:\\\\Users\\\\David\\\\AppData\\\\Roaming\\\\nltk_data'\n    - 'C:\\\\nltk_data'\n    - 'D:\\\\nltk_data'\n    - 'E:\\\\nltk_data'\n**********************************************************************\n",
     "output_type": "error",
     "traceback": [
      "\u001b[1;31m---------------------------------------------------------------------------\u001b[0m",
      "\u001b[1;31mLookupError\u001b[0m                               Traceback (most recent call last)",
      "\u001b[1;32m~\\Anaconda3\\lib\\site-packages\\nltk\\corpus\\util.py\u001b[0m in \u001b[0;36m__load\u001b[1;34m(self)\u001b[0m\n\u001b[0;32m     85\u001b[0m                 \u001b[1;32mtry\u001b[0m\u001b[1;33m:\u001b[0m\u001b[1;33m\u001b[0m\u001b[1;33m\u001b[0m\u001b[0m\n\u001b[1;32m---> 86\u001b[1;33m                     \u001b[0mroot\u001b[0m \u001b[1;33m=\u001b[0m \u001b[0mnltk\u001b[0m\u001b[1;33m.\u001b[0m\u001b[0mdata\u001b[0m\u001b[1;33m.\u001b[0m\u001b[0mfind\u001b[0m\u001b[1;33m(\u001b[0m\u001b[1;34m'{}/{}'\u001b[0m\u001b[1;33m.\u001b[0m\u001b[0mformat\u001b[0m\u001b[1;33m(\u001b[0m\u001b[0mself\u001b[0m\u001b[1;33m.\u001b[0m\u001b[0msubdir\u001b[0m\u001b[1;33m,\u001b[0m \u001b[0mzip_name\u001b[0m\u001b[1;33m)\u001b[0m\u001b[1;33m)\u001b[0m\u001b[1;33m\u001b[0m\u001b[1;33m\u001b[0m\u001b[0m\n\u001b[0m\u001b[0;32m     87\u001b[0m                 \u001b[1;32mexcept\u001b[0m \u001b[0mLookupError\u001b[0m\u001b[1;33m:\u001b[0m\u001b[1;33m\u001b[0m\u001b[1;33m\u001b[0m\u001b[0m\n",
      "\u001b[1;32m~\\Anaconda3\\lib\\site-packages\\nltk\\data.py\u001b[0m in \u001b[0;36mfind\u001b[1;34m(resource_name, paths)\u001b[0m\n\u001b[0;32m    698\u001b[0m     \u001b[0mresource_not_found\u001b[0m \u001b[1;33m=\u001b[0m \u001b[1;34m'\\n%s\\n%s\\n%s\\n'\u001b[0m \u001b[1;33m%\u001b[0m \u001b[1;33m(\u001b[0m\u001b[0msep\u001b[0m\u001b[1;33m,\u001b[0m \u001b[0mmsg\u001b[0m\u001b[1;33m,\u001b[0m \u001b[0msep\u001b[0m\u001b[1;33m)\u001b[0m\u001b[1;33m\u001b[0m\u001b[1;33m\u001b[0m\u001b[0m\n\u001b[1;32m--> 699\u001b[1;33m     \u001b[1;32mraise\u001b[0m \u001b[0mLookupError\u001b[0m\u001b[1;33m(\u001b[0m\u001b[0mresource_not_found\u001b[0m\u001b[1;33m)\u001b[0m\u001b[1;33m\u001b[0m\u001b[1;33m\u001b[0m\u001b[0m\n\u001b[0m\u001b[0;32m    700\u001b[0m \u001b[1;33m\u001b[0m\u001b[0m\n",
      "\u001b[1;31mLookupError\u001b[0m: \n**********************************************************************\n  Resource \u001b[93mstopwords\u001b[0m not found.\n  Please use the NLTK Downloader to obtain the resource:\n\n  \u001b[31m>>> import nltk\n  >>> nltk.download('stopwords')\n  \u001b[0m\n  Attempted to load \u001b[93mcorpora/stopwords.zip/stopwords/\u001b[0m\n\n  Searched in:\n    - 'C:\\\\Users\\\\David/nltk_data'\n    - 'C:\\\\Users\\\\David\\\\Anaconda3\\\\nltk_data'\n    - 'C:\\\\Users\\\\David\\\\Anaconda3\\\\share\\\\nltk_data'\n    - 'C:\\\\Users\\\\David\\\\Anaconda3\\\\lib\\\\nltk_data'\n    - 'C:\\\\Users\\\\David\\\\AppData\\\\Roaming\\\\nltk_data'\n    - 'C:\\\\nltk_data'\n    - 'D:\\\\nltk_data'\n    - 'E:\\\\nltk_data'\n**********************************************************************\n",
      "\nDuring handling of the above exception, another exception occurred:\n",
      "\u001b[1;31mLookupError\u001b[0m                               Traceback (most recent call last)",
      "\u001b[1;32m<ipython-input-92-eeab43a9d165>\u001b[0m in \u001b[0;36m<module>\u001b[1;34m\u001b[0m\n\u001b[0;32m      1\u001b[0m \u001b[1;32mfrom\u001b[0m \u001b[0mnltk\u001b[0m\u001b[1;33m.\u001b[0m\u001b[0mcorpus\u001b[0m \u001b[1;32mimport\u001b[0m \u001b[0mstopwords\u001b[0m\u001b[1;33m\u001b[0m\u001b[1;33m\u001b[0m\u001b[0m\n\u001b[1;32m----> 2\u001b[1;33m \u001b[0mprint\u001b[0m\u001b[1;33m(\u001b[0m\u001b[0mstopwords\u001b[0m\u001b[1;33m.\u001b[0m\u001b[0mopen\u001b[0m\u001b[1;33m(\u001b[0m\u001b[1;34m\"english\"\u001b[0m\u001b[1;33m)\u001b[0m\u001b[1;33m.\u001b[0m\u001b[0mread\u001b[0m\u001b[1;33m(\u001b[0m\u001b[1;33m)\u001b[0m\u001b[1;33m)\u001b[0m\u001b[1;33m\u001b[0m\u001b[1;33m\u001b[0m\u001b[0m\n\u001b[0m",
      "\u001b[1;32m~\\Anaconda3\\lib\\site-packages\\nltk\\corpus\\util.py\u001b[0m in \u001b[0;36m__getattr__\u001b[1;34m(self, attr)\u001b[0m\n\u001b[0;32m    121\u001b[0m             \u001b[1;32mraise\u001b[0m \u001b[0mAttributeError\u001b[0m\u001b[1;33m(\u001b[0m\u001b[1;34m\"LazyCorpusLoader object has no attribute '__bases__'\"\u001b[0m\u001b[1;33m)\u001b[0m\u001b[1;33m\u001b[0m\u001b[1;33m\u001b[0m\u001b[0m\n\u001b[0;32m    122\u001b[0m \u001b[1;33m\u001b[0m\u001b[0m\n\u001b[1;32m--> 123\u001b[1;33m         \u001b[0mself\u001b[0m\u001b[1;33m.\u001b[0m\u001b[0m__load\u001b[0m\u001b[1;33m(\u001b[0m\u001b[1;33m)\u001b[0m\u001b[1;33m\u001b[0m\u001b[1;33m\u001b[0m\u001b[0m\n\u001b[0m\u001b[0;32m    124\u001b[0m         \u001b[1;31m# This looks circular, but its not, since __load() changes our\u001b[0m\u001b[1;33m\u001b[0m\u001b[1;33m\u001b[0m\u001b[1;33m\u001b[0m\u001b[0m\n\u001b[0;32m    125\u001b[0m         \u001b[1;31m# __class__ to something new:\u001b[0m\u001b[1;33m\u001b[0m\u001b[1;33m\u001b[0m\u001b[1;33m\u001b[0m\u001b[0m\n",
      "\u001b[1;32m~\\Anaconda3\\lib\\site-packages\\nltk\\corpus\\util.py\u001b[0m in \u001b[0;36m__load\u001b[1;34m(self)\u001b[0m\n\u001b[0;32m     86\u001b[0m                     \u001b[0mroot\u001b[0m \u001b[1;33m=\u001b[0m \u001b[0mnltk\u001b[0m\u001b[1;33m.\u001b[0m\u001b[0mdata\u001b[0m\u001b[1;33m.\u001b[0m\u001b[0mfind\u001b[0m\u001b[1;33m(\u001b[0m\u001b[1;34m'{}/{}'\u001b[0m\u001b[1;33m.\u001b[0m\u001b[0mformat\u001b[0m\u001b[1;33m(\u001b[0m\u001b[0mself\u001b[0m\u001b[1;33m.\u001b[0m\u001b[0msubdir\u001b[0m\u001b[1;33m,\u001b[0m \u001b[0mzip_name\u001b[0m\u001b[1;33m)\u001b[0m\u001b[1;33m)\u001b[0m\u001b[1;33m\u001b[0m\u001b[1;33m\u001b[0m\u001b[0m\n\u001b[0;32m     87\u001b[0m                 \u001b[1;32mexcept\u001b[0m \u001b[0mLookupError\u001b[0m\u001b[1;33m:\u001b[0m\u001b[1;33m\u001b[0m\u001b[1;33m\u001b[0m\u001b[0m\n\u001b[1;32m---> 88\u001b[1;33m                     \u001b[1;32mraise\u001b[0m \u001b[0me\u001b[0m\u001b[1;33m\u001b[0m\u001b[1;33m\u001b[0m\u001b[0m\n\u001b[0m\u001b[0;32m     89\u001b[0m \u001b[1;33m\u001b[0m\u001b[0m\n\u001b[0;32m     90\u001b[0m         \u001b[1;31m# Load the corpus.\u001b[0m\u001b[1;33m\u001b[0m\u001b[1;33m\u001b[0m\u001b[1;33m\u001b[0m\u001b[0m\n",
      "\u001b[1;32m~\\Anaconda3\\lib\\site-packages\\nltk\\corpus\\util.py\u001b[0m in \u001b[0;36m__load\u001b[1;34m(self)\u001b[0m\n\u001b[0;32m     81\u001b[0m         \u001b[1;32melse\u001b[0m\u001b[1;33m:\u001b[0m\u001b[1;33m\u001b[0m\u001b[1;33m\u001b[0m\u001b[0m\n\u001b[0;32m     82\u001b[0m             \u001b[1;32mtry\u001b[0m\u001b[1;33m:\u001b[0m\u001b[1;33m\u001b[0m\u001b[1;33m\u001b[0m\u001b[0m\n\u001b[1;32m---> 83\u001b[1;33m                 \u001b[0mroot\u001b[0m \u001b[1;33m=\u001b[0m \u001b[0mnltk\u001b[0m\u001b[1;33m.\u001b[0m\u001b[0mdata\u001b[0m\u001b[1;33m.\u001b[0m\u001b[0mfind\u001b[0m\u001b[1;33m(\u001b[0m\u001b[1;34m'{}/{}'\u001b[0m\u001b[1;33m.\u001b[0m\u001b[0mformat\u001b[0m\u001b[1;33m(\u001b[0m\u001b[0mself\u001b[0m\u001b[1;33m.\u001b[0m\u001b[0msubdir\u001b[0m\u001b[1;33m,\u001b[0m \u001b[0mself\u001b[0m\u001b[1;33m.\u001b[0m\u001b[0m__name\u001b[0m\u001b[1;33m)\u001b[0m\u001b[1;33m)\u001b[0m\u001b[1;33m\u001b[0m\u001b[1;33m\u001b[0m\u001b[0m\n\u001b[0m\u001b[0;32m     84\u001b[0m             \u001b[1;32mexcept\u001b[0m \u001b[0mLookupError\u001b[0m \u001b[1;32mas\u001b[0m \u001b[0me\u001b[0m\u001b[1;33m:\u001b[0m\u001b[1;33m\u001b[0m\u001b[1;33m\u001b[0m\u001b[0m\n\u001b[0;32m     85\u001b[0m                 \u001b[1;32mtry\u001b[0m\u001b[1;33m:\u001b[0m\u001b[1;33m\u001b[0m\u001b[1;33m\u001b[0m\u001b[0m\n",
      "\u001b[1;32m~\\Anaconda3\\lib\\site-packages\\nltk\\data.py\u001b[0m in \u001b[0;36mfind\u001b[1;34m(resource_name, paths)\u001b[0m\n\u001b[0;32m    697\u001b[0m     \u001b[0msep\u001b[0m \u001b[1;33m=\u001b[0m \u001b[1;34m'*'\u001b[0m \u001b[1;33m*\u001b[0m \u001b[1;36m70\u001b[0m\u001b[1;33m\u001b[0m\u001b[1;33m\u001b[0m\u001b[0m\n\u001b[0;32m    698\u001b[0m     \u001b[0mresource_not_found\u001b[0m \u001b[1;33m=\u001b[0m \u001b[1;34m'\\n%s\\n%s\\n%s\\n'\u001b[0m \u001b[1;33m%\u001b[0m \u001b[1;33m(\u001b[0m\u001b[0msep\u001b[0m\u001b[1;33m,\u001b[0m \u001b[0mmsg\u001b[0m\u001b[1;33m,\u001b[0m \u001b[0msep\u001b[0m\u001b[1;33m)\u001b[0m\u001b[1;33m\u001b[0m\u001b[1;33m\u001b[0m\u001b[0m\n\u001b[1;32m--> 699\u001b[1;33m     \u001b[1;32mraise\u001b[0m \u001b[0mLookupError\u001b[0m\u001b[1;33m(\u001b[0m\u001b[0mresource_not_found\u001b[0m\u001b[1;33m)\u001b[0m\u001b[1;33m\u001b[0m\u001b[1;33m\u001b[0m\u001b[0m\n\u001b[0m\u001b[0;32m    700\u001b[0m \u001b[1;33m\u001b[0m\u001b[0m\n\u001b[0;32m    701\u001b[0m \u001b[1;33m\u001b[0m\u001b[0m\n",
      "\u001b[1;31mLookupError\u001b[0m: \n**********************************************************************\n  Resource \u001b[93mstopwords\u001b[0m not found.\n  Please use the NLTK Downloader to obtain the resource:\n\n  \u001b[31m>>> import nltk\n  >>> nltk.download('stopwords')\n  \u001b[0m\n  Attempted to load \u001b[93mcorpora/stopwords\u001b[0m\n\n  Searched in:\n    - 'C:\\\\Users\\\\David/nltk_data'\n    - 'C:\\\\Users\\\\David\\\\Anaconda3\\\\nltk_data'\n    - 'C:\\\\Users\\\\David\\\\Anaconda3\\\\share\\\\nltk_data'\n    - 'C:\\\\Users\\\\David\\\\Anaconda3\\\\lib\\\\nltk_data'\n    - 'C:\\\\Users\\\\David\\\\AppData\\\\Roaming\\\\nltk_data'\n    - 'C:\\\\nltk_data'\n    - 'D:\\\\nltk_data'\n    - 'E:\\\\nltk_data'\n**********************************************************************\n"
     ]
    }
   ],
   "source": [
    "from nltk.corpus import stopwords\n",
    "print(stopwords.open(\"english\").read())"
   ]
  },
  {
   "cell_type": "code",
   "execution_count": 93,
   "metadata": {
    "collapsed": true
   },
   "outputs": [
    {
     "ename": "NameError",
     "evalue": "name 'tokens' is not defined",
     "output_type": "error",
     "traceback": [
      "\u001b[1;31m---------------------------------------------------------------------------\u001b[0m",
      "\u001b[1;31mNameError\u001b[0m                                 Traceback (most recent call last)",
      "\u001b[1;32m<ipython-input-93-fbfd768313d1>\u001b[0m in \u001b[0;36m<module>\u001b[1;34m\u001b[0m\n\u001b[0;32m      1\u001b[0m \u001b[0mngram\u001b[0m \u001b[1;33m=\u001b[0m \u001b[0mdefaultdict\u001b[0m\u001b[1;33m(\u001b[0m\u001b[0mint\u001b[0m\u001b[1;33m)\u001b[0m\u001b[1;33m\u001b[0m\u001b[1;33m\u001b[0m\u001b[0m\n\u001b[1;32m----> 2\u001b[1;33m \u001b[1;32mfor\u001b[0m \u001b[0mtoken\u001b[0m\u001b[1;33m,\u001b[0m \u001b[0mfreq\u001b[0m \u001b[1;32min\u001b[0m \u001b[0mtokens\u001b[0m\u001b[1;33m.\u001b[0m\u001b[0mitems\u001b[0m\u001b[1;33m(\u001b[0m\u001b[1;33m)\u001b[0m\u001b[1;33m:\u001b[0m\u001b[1;33m\u001b[0m\u001b[1;33m\u001b[0m\u001b[0m\n\u001b[0m\u001b[0;32m      3\u001b[0m     \u001b[0msyllables\u001b[0m \u001b[1;33m=\u001b[0m \u001b[0mtoken\u001b[0m\u001b[1;33m.\u001b[0m\u001b[0msplit\u001b[0m\u001b[1;33m(\u001b[0m\u001b[1;33m)\u001b[0m\u001b[1;33m\u001b[0m\u001b[1;33m\u001b[0m\u001b[0m\n\u001b[0;32m      4\u001b[0m     \u001b[1;32mfor\u001b[0m \u001b[0mi\u001b[0m \u001b[1;32min\u001b[0m \u001b[0mrange\u001b[0m\u001b[1;33m(\u001b[0m\u001b[0mlen\u001b[0m\u001b[1;33m(\u001b[0m\u001b[0msyllables\u001b[0m\u001b[1;33m)\u001b[0m\u001b[1;33m-\u001b[0m\u001b[1;36m1\u001b[0m\u001b[1;33m)\u001b[0m\u001b[1;33m:\u001b[0m\u001b[1;33m\u001b[0m\u001b[1;33m\u001b[0m\u001b[0m\n\u001b[0;32m      5\u001b[0m         \u001b[0mngram\u001b[0m\u001b[1;33m[\u001b[0m\u001b[0mtuple\u001b[0m\u001b[1;33m(\u001b[0m\u001b[0msyllables\u001b[0m\u001b[1;33m[\u001b[0m\u001b[0mi\u001b[0m\u001b[1;33m:\u001b[0m\u001b[0mi\u001b[0m\u001b[1;33m+\u001b[0m\u001b[1;36m2\u001b[0m\u001b[1;33m]\u001b[0m\u001b[1;33m)\u001b[0m\u001b[1;33m]\u001b[0m \u001b[1;33m+=\u001b[0m \u001b[0mfreq\u001b[0m\u001b[1;33m\u001b[0m\u001b[1;33m\u001b[0m\u001b[0m\n",
      "\u001b[1;31mNameError\u001b[0m: name 'tokens' is not defined"
     ]
    }
   ],
   "source": [
    "ngram = defaultdict(int)\n",
    "for token, freq in tokens.items():\n",
    "    syllables = token.split()\n",
    "    for i in range(len(syllables)-1):\n",
    "        ngram[tuple(syllables[i:i+2])] += freq"
   ]
  },
  {
   "cell_type": "code",
   "execution_count": 95,
   "metadata": {
    "collapsed": true
   },
   "outputs": [
    {
     "ename": "ValueError",
     "evalue": "max() arg is an empty sequence",
     "output_type": "error",
     "traceback": [
      "\u001b[1;31m---------------------------------------------------------------------------\u001b[0m",
      "\u001b[1;31mValueError\u001b[0m                                Traceback (most recent call last)",
      "\u001b[1;32m<ipython-input-95-dd9dff412108>\u001b[0m in \u001b[0;36m<module>\u001b[1;34m\u001b[0m\n\u001b[1;32m----> 1\u001b[1;33m \u001b[0mmaxKey\u001b[0m \u001b[1;33m=\u001b[0m \u001b[0mmax\u001b[0m\u001b[1;33m(\u001b[0m\u001b[0mngram\u001b[0m\u001b[1;33m,\u001b[0m \u001b[0mkey\u001b[0m\u001b[1;33m=\u001b[0m\u001b[1;32mlambda\u001b[0m \u001b[0mx\u001b[0m\u001b[1;33m:\u001b[0m\u001b[0mx\u001b[0m\u001b[1;33m[\u001b[0m\u001b[1;36m1\u001b[0m\u001b[1;33m]\u001b[0m\u001b[1;33m)\u001b[0m\u001b[1;33m\u001b[0m\u001b[1;33m\u001b[0m\u001b[0m\n\u001b[0m\u001b[0;32m      2\u001b[0m \u001b[0mnewTokens\u001b[0m \u001b[1;33m=\u001b[0m \u001b[0mdict\u001b[0m\u001b[1;33m(\u001b[0m\u001b[1;33m)\u001b[0m\u001b[1;33m\u001b[0m\u001b[1;33m\u001b[0m\u001b[0m\n\u001b[0;32m      3\u001b[0m \u001b[1;32mfor\u001b[0m \u001b[0mtoken\u001b[0m\u001b[1;33m,\u001b[0m \u001b[0mfreq\u001b[0m \u001b[1;32min\u001b[0m \u001b[0mtokens\u001b[0m\u001b[1;33m.\u001b[0m\u001b[0mitmes\u001b[0m\u001b[1;33m(\u001b[0m\u001b[1;33m)\u001b[0m\u001b[1;33m:\u001b[0m\u001b[1;33m\u001b[0m\u001b[1;33m\u001b[0m\u001b[0m\n\u001b[0;32m      4\u001b[0m     \u001b[0mnewTokens\u001b[0m\u001b[1;33m[\u001b[0m\u001b[0mre\u001b[0m\u001b[1;33m.\u001b[0m\u001b[0msub\u001b[0m\u001b[1;33m(\u001b[0m\u001b[1;34m\" \"\u001b[0m\u001b[1;33m.\u001b[0m\u001b[0mjoin\u001b[0m\u001b[1;33m(\u001b[0m\u001b[0mmaxKey\u001b[0m\u001b[1;33m)\u001b[0m\u001b[1;33m,\u001b[0m \u001b[1;34m\"\"\u001b[0m\u001b[1;33m.\u001b[0m\u001b[0mjoin\u001b[0m\u001b[1;33m(\u001b[0m\u001b[0mmaxKey\u001b[0m\u001b[1;33m)\u001b[0m\u001b[1;33m,\u001b[0m \u001b[0mtoken\u001b[0m\u001b[1;33m)\u001b[0m\u001b[1;33m]\u001b[0m \u001b[1;33m=\u001b[0m \u001b[0mfreq\u001b[0m\u001b[1;33m\u001b[0m\u001b[1;33m\u001b[0m\u001b[0m\n",
      "\u001b[1;31mValueError\u001b[0m: max() arg is an empty sequence"
     ]
    }
   ],
   "source": [
    "maxKey = max(ngram, key=lambda x:x[1])\n",
    "newTokens = dict()\n",
    "for token, freq in tokens.itmes():\n",
    "    newTokens[re.sub(\" \".join(maxKey), \"\".join(maxKey), token)] = freq"
   ]
  },
  {
   "cell_type": "code",
   "execution_count": null,
   "metadata": {},
   "outputs": [],
   "source": [
    "tokens = newTokens\n",
    "newTokens, maxKey"
   ]
  },
  {
   "cell_type": "code",
   "execution_count": 97,
   "metadata": {},
   "outputs": [
    {
     "ename": "TypeError",
     "evalue": "mergeMaxkey() takes 2 positional arguments but 3 were given",
     "output_type": "error",
     "traceback": [
      "\u001b[1;31m---------------------------------------------------------------------------\u001b[0m",
      "\u001b[1;31mTypeError\u001b[0m                                 Traceback (most recent call last)",
      "\u001b[1;32m<ipython-input-97-027585c25c10>\u001b[0m in \u001b[0;36m<module>\u001b[1;34m\u001b[0m\n\u001b[0;32m     34\u001b[0m \u001b[1;32mfor\u001b[0m \u001b[0m_\u001b[0m \u001b[1;32min\u001b[0m \u001b[0mrange\u001b[0m\u001b[1;33m(\u001b[0m\u001b[1;36m100\u001b[0m\u001b[1;33m)\u001b[0m\u001b[1;33m:\u001b[0m\u001b[1;33m\u001b[0m\u001b[1;33m\u001b[0m\u001b[0m\n\u001b[0;32m     35\u001b[0m     \u001b[0mmaxKey\u001b[0m \u001b[1;33m=\u001b[0m \u001b[0mfindBigram\u001b[0m\u001b[1;33m(\u001b[0m\u001b[0mtokens\u001b[0m\u001b[1;33m)\u001b[0m\u001b[1;33m\u001b[0m\u001b[1;33m\u001b[0m\u001b[0m\n\u001b[1;32m---> 36\u001b[1;33m     \u001b[0mtokens\u001b[0m \u001b[1;33m=\u001b[0m \u001b[0mmergeMaxkey\u001b[0m\u001b[1;33m(\u001b[0m\u001b[0mmaxKey\u001b[0m\u001b[1;33m,\u001b[0m \u001b[0mtokens\u001b[0m\u001b[1;33m,\u001b[0m \u001b[0mK\u001b[0m\u001b[1;33m)\u001b[0m\u001b[1;33m\u001b[0m\u001b[1;33m\u001b[0m\u001b[0m\n\u001b[0m\u001b[0;32m     37\u001b[0m \u001b[1;33m\u001b[0m\u001b[0m\n\u001b[0;32m     38\u001b[0m \u001b[0mpattern\u001b[0m \u001b[1;33m=\u001b[0m \u001b[1;34mr\"[가-힣A-Za-z\\/\\<\\>]{2,}\"\u001b[0m\u001b[1;33m\u001b[0m\u001b[1;33m\u001b[0m\u001b[0m\n",
      "\u001b[1;31mTypeError\u001b[0m: mergeMaxkey() takes 2 positional arguments but 3 were given"
     ]
    }
   ],
   "source": [
    "def mergeMaxkey(ngram, tokens):\n",
    "    maxKey = max(ngram, key=ngram.get)\n",
    "    maxValue = max(ngram.values())\n",
    "    newTokens = dict()\n",
    "    for token,freq in tokens.items():\n",
    "        newTokens[re.sub(\" \".join(maxKey), \"\".join(maxKey), token) if maxValue >= K else token] = freq\n",
    "    print(maxKey)\n",
    "    return newTokens\n",
    "\n",
    "def findBigram(tokens):\n",
    "    ngram = defaultdict(int)\n",
    "    for token, freq in tokens.items():\n",
    "        syllables = token.split()\n",
    "        for i in range(len(syllables)-1):\n",
    "            ngram[tuple(syllables[i:i+2])] += freq\n",
    "    return ngram\n",
    "\n",
    "tokens ={\n",
    "    \"l o w </w>\" : 5,\n",
    "    \"l o w e s t </w>\" : 2,\n",
    "    \"n e w e r </w>\" : 6,\n",
    "    \"r i d e r </w>\" : 3\n",
    "    \n",
    "}\n",
    "\n",
    "tokens = {\n",
    "    \"아 버 지 가 </w>\" : 5,\n",
    "    \"아 버 지 께 서 </w>\" : 2,\n",
    "    \"아 버 지 를 </w>\" : 6,\n",
    "    \"아 버 지 에 게 </w>\" : 3,\n",
    "}\n",
    "\n",
    "K=max(tokens.values())\n",
    "for _ in range(100):\n",
    "    maxKey = findBigram(tokens)\n",
    "    tokens = mergeMaxkey(maxKey, tokens, K)\n",
    "    \n",
    "pattern = r\"[가-힣A-Za-z\\/\\<\\>]{2,}\"\n",
    "result = list()\n",
    "for _ in range(5):\n",
    "    maxKey = findBigram(tokens)\n",
    "    tokens = mergeMaxkey(maxKey, tokens)\n",
    "tokens"
   ]
  },
  {
   "cell_type": "code",
   "execution_count": null,
   "metadata": {},
   "outputs": [],
   "source": []
  },
  {
   "cell_type": "code",
   "execution_count": null,
   "metadata": {},
   "outputs": [],
   "source": []
  },
  {
   "cell_type": "code",
   "execution_count": null,
   "metadata": {},
   "outputs": [],
   "source": []
  }
 ],
 "metadata": {
  "kernelspec": {
   "display_name": "Python 3",
   "language": "python",
   "name": "python3"
  },
  "language_info": {
   "codemirror_mode": {
    "name": "ipython",
    "version": 3
   },
   "file_extension": ".py",
   "mimetype": "text/x-python",
   "name": "python",
   "nbconvert_exporter": "python",
   "pygments_lexer": "ipython3",
   "version": "3.7.3"
  }
 },
 "nbformat": 4,
 "nbformat_minor": 2
}
